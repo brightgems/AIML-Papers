{
 "cells": [
  {
   "cell_type": "markdown",
   "metadata": {},
   "source": [
    "### Read the dataset (tweets.csv)"
   ]
  },
  {
   "cell_type": "code",
   "execution_count": 1,
   "metadata": {},
   "outputs": [],
   "source": [
    "import pandas as pd\n",
    "data = pd.read_csv('tweets.csv', engine='python', warn_bad_lines=False, error_bad_lines=False)"
   ]
  },
  {
   "cell_type": "code",
   "execution_count": 2,
   "metadata": {},
   "outputs": [
    {
     "data": {
      "text/html": [
       "<div>\n",
       "<style scoped>\n",
       "    .dataframe tbody tr th:only-of-type {\n",
       "        vertical-align: middle;\n",
       "    }\n",
       "\n",
       "    .dataframe tbody tr th {\n",
       "        vertical-align: top;\n",
       "    }\n",
       "\n",
       "    .dataframe thead th {\n",
       "        text-align: right;\n",
       "    }\n",
       "</style>\n",
       "<table border=\"1\" class=\"dataframe\">\n",
       "  <thead>\n",
       "    <tr style=\"text-align: right;\">\n",
       "      <th></th>\n",
       "      <th>tweet_text</th>\n",
       "      <th>emotion_in_tweet_is_directed_at</th>\n",
       "      <th>is_there_an_emotion_directed_at_a_brand_or_product</th>\n",
       "    </tr>\n",
       "  </thead>\n",
       "  <tbody>\n",
       "    <tr>\n",
       "      <th>0</th>\n",
       "      <td>.@wesley83 I have a 3G iPhone. After 3 hrs twe...</td>\n",
       "      <td>iPhone</td>\n",
       "      <td>Negative emotion</td>\n",
       "    </tr>\n",
       "    <tr>\n",
       "      <th>1</th>\n",
       "      <td>@jessedee Know about @fludapp ? Awesome iPad/i...</td>\n",
       "      <td>iPad or iPhone App</td>\n",
       "      <td>Positive emotion</td>\n",
       "    </tr>\n",
       "    <tr>\n",
       "      <th>2</th>\n",
       "      <td>@swonderlin Can not wait for #iPad 2 also. The...</td>\n",
       "      <td>iPad</td>\n",
       "      <td>Positive emotion</td>\n",
       "    </tr>\n",
       "    <tr>\n",
       "      <th>3</th>\n",
       "      <td>@sxsw I hope this year's festival isn't as cra...</td>\n",
       "      <td>iPad or iPhone App</td>\n",
       "      <td>Negative emotion</td>\n",
       "    </tr>\n",
       "    <tr>\n",
       "      <th>4</th>\n",
       "      <td>@sxtxstate great stuff on Fri #SXSW: Marissa M...</td>\n",
       "      <td>Google</td>\n",
       "      <td>Positive emotion</td>\n",
       "    </tr>\n",
       "  </tbody>\n",
       "</table>\n",
       "</div>"
      ],
      "text/plain": [
       "                                          tweet_text  \\\n",
       "0  .@wesley83 I have a 3G iPhone. After 3 hrs twe...   \n",
       "1  @jessedee Know about @fludapp ? Awesome iPad/i...   \n",
       "2  @swonderlin Can not wait for #iPad 2 also. The...   \n",
       "3  @sxsw I hope this year's festival isn't as cra...   \n",
       "4  @sxtxstate great stuff on Fri #SXSW: Marissa M...   \n",
       "\n",
       "  emotion_in_tweet_is_directed_at  \\\n",
       "0                          iPhone   \n",
       "1              iPad or iPhone App   \n",
       "2                            iPad   \n",
       "3              iPad or iPhone App   \n",
       "4                          Google   \n",
       "\n",
       "  is_there_an_emotion_directed_at_a_brand_or_product  \n",
       "0                                   Negative emotion  \n",
       "1                                   Positive emotion  \n",
       "2                                   Positive emotion  \n",
       "3                                   Negative emotion  \n",
       "4                                   Positive emotion  "
      ]
     },
     "execution_count": 2,
     "metadata": {},
     "output_type": "execute_result"
    }
   ],
   "source": [
    "data.head()"
   ]
  },
  {
   "cell_type": "code",
   "execution_count": 3,
   "metadata": {},
   "outputs": [
    {
     "data": {
      "text/plain": [
       "tweet_text                                            object\n",
       "emotion_in_tweet_is_directed_at                       object\n",
       "is_there_an_emotion_directed_at_a_brand_or_product    object\n",
       "dtype: object"
      ]
     },
     "execution_count": 3,
     "metadata": {},
     "output_type": "execute_result"
    }
   ],
   "source": [
    "data.dtypes"
   ]
  },
  {
   "cell_type": "markdown",
   "metadata": {},
   "source": [
    "##### Preprocess the text and add the preprocessed text in a column with name `text` in the dataframe."
   ]
  },
  {
   "cell_type": "code",
   "execution_count": 4,
   "metadata": {
    "collapsed": true
   },
   "outputs": [],
   "source": [
    "def preprocess(text):\n",
    "    try:\n",
    "        return text.decode('ascii')\n",
    "    except Exception as e:\n",
    "        print(e)\n",
    "        return \"\""
   ]
  },
  {
   "cell_type": "code",
   "execution_count": 5,
   "metadata": {},
   "outputs": [
    {
     "data": {
      "text/plain": [
       "(9092,)"
      ]
     },
     "execution_count": 5,
     "metadata": {},
     "output_type": "execute_result"
    }
   ],
   "source": [
    "data.tweet_text.shape"
   ]
  },
  {
   "cell_type": "code",
   "execution_count": 6,
   "metadata": {},
   "outputs": [],
   "source": [
    "temp = '@sxtxstate great stuff on Fri #SXSW: Marissa M'"
   ]
  },
  {
   "cell_type": "code",
   "execution_count": 7,
   "metadata": {},
   "outputs": [
    {
     "data": {
      "text/plain": [
       "u'@sxtxstate great stuff on Fri #SXSW: Marissa M'"
      ]
     },
     "execution_count": 7,
     "metadata": {},
     "output_type": "execute_result"
    }
   ],
   "source": [
    "preprocess(temp)"
   ]
  },
  {
   "cell_type": "code",
   "execution_count": 9,
   "metadata": {
    "scrolled": true
   },
   "outputs": [
    {
     "name": "stdout",
     "output_type": "stream",
     "text": [
      "'float' object has no attribute 'decode'\n",
      "'ascii' codec can't decode byte 0x89 in position 54: ordinal not in range(128)\n",
      "'ascii' codec can't decode byte 0x89 in position 98: ordinal not in range(128)\n",
      "'ascii' codec can't decode byte 0x89 in position 110: ordinal not in range(128)\n",
      "'ascii' codec can't decode byte 0x89 in position 10: ordinal not in range(128)\n",
      "'ascii' codec can't decode byte 0x89 in position 10: ordinal not in range(128)\n",
      "'ascii' codec can't decode byte 0x89 in position 10: ordinal not in range(128)\n",
      "'ascii' codec can't decode byte 0x89 in position 10: ordinal not in range(128)\n",
      "'ascii' codec can't decode byte 0x89 in position 10: ordinal not in range(128)\n",
      "'ascii' codec can't decode byte 0x89 in position 0: ordinal not in range(128)\n",
      "'ascii' codec can't decode byte 0x89 in position 0: ordinal not in range(128)\n",
      "'ascii' codec can't decode byte 0x89 in position 0: ordinal not in range(128)\n",
      "'ascii' codec can't decode byte 0x89 in position 0: ordinal not in range(128)\n",
      "'ascii' codec can't decode byte 0x89 in position 0: ordinal not in range(128)\n",
      "'ascii' codec can't decode byte 0x89 in position 0: ordinal not in range(128)\n",
      "'ascii' codec can't decode byte 0x89 in position 0: ordinal not in range(128)\n",
      "'ascii' codec can't decode byte 0x89 in position 0: ordinal not in range(128)\n",
      "'ascii' codec can't decode byte 0x89 in position 0: ordinal not in range(128)\n",
      "'ascii' codec can't decode byte 0x89 in position 0: ordinal not in range(128)\n",
      "'ascii' codec can't decode byte 0x89 in position 0: ordinal not in range(128)\n",
      "'ascii' codec can't decode byte 0x89 in position 76: ordinal not in range(128)\n",
      "'ascii' codec can't decode byte 0x89 in position 0: ordinal not in range(128)\n",
      "'ascii' codec can't decode byte 0xe5 in position 51: ordinal not in range(128)\n",
      "'ascii' codec can't decode byte 0x89 in position 0: ordinal not in range(128)\n",
      "'ascii' codec can't decode byte 0x89 in position 0: ordinal not in range(128)\n",
      "'ascii' codec can't decode byte 0x89 in position 0: ordinal not in range(128)\n",
      "'ascii' codec can't decode byte 0x89 in position 0: ordinal not in range(128)\n",
      "'ascii' codec can't decode byte 0x89 in position 0: ordinal not in range(128)\n",
      "'ascii' codec can't decode byte 0x89 in position 18: ordinal not in range(128)\n",
      "'ascii' codec can't decode byte 0x89 in position 58: ordinal not in range(128)\n",
      "'ascii' codec can't decode byte 0x89 in position 0: ordinal not in range(128)\n",
      "'ascii' codec can't decode byte 0x89 in position 0: ordinal not in range(128)\n",
      "'ascii' codec can't decode byte 0x89 in position 0: ordinal not in range(128)\n",
      "'ascii' codec can't decode byte 0x89 in position 0: ordinal not in range(128)\n",
      "'ascii' codec can't decode byte 0x89 in position 0: ordinal not in range(128)\n",
      "'ascii' codec can't decode byte 0x89 in position 0: ordinal not in range(128)\n",
      "'ascii' codec can't decode byte 0x89 in position 15: ordinal not in range(128)\n",
      "'ascii' codec can't decode byte 0x89 in position 15: ordinal not in range(128)\n",
      "'ascii' codec can't decode byte 0x89 in position 0: ordinal not in range(128)\n",
      "'ascii' codec can't decode byte 0x89 in position 13: ordinal not in range(128)\n",
      "'ascii' codec can't decode byte 0x89 in position 76: ordinal not in range(128)\n",
      "'ascii' codec can't decode byte 0x89 in position 44: ordinal not in range(128)\n",
      "'ascii' codec can't decode byte 0x89 in position 23: ordinal not in range(128)\n",
      "'ascii' codec can't decode byte 0x89 in position 0: ordinal not in range(128)\n",
      "'ascii' codec can't decode byte 0x89 in position 0: ordinal not in range(128)\n",
      "'ascii' codec can't decode byte 0x89 in position 0: ordinal not in range(128)\n",
      "'ascii' codec can't decode byte 0x89 in position 0: ordinal not in range(128)\n",
      "'ascii' codec can't decode byte 0x89 in position 67: ordinal not in range(128)\n",
      "'ascii' codec can't decode byte 0xe5 in position 33: ordinal not in range(128)\n",
      "'ascii' codec can't decode byte 0xe5 in position 33: ordinal not in range(128)\n",
      "'ascii' codec can't decode byte 0xe5 in position 33: ordinal not in range(128)\n",
      "'ascii' codec can't decode byte 0x89 in position 30: ordinal not in range(128)\n",
      "'ascii' codec can't decode byte 0x89 in position 0: ordinal not in range(128)\n",
      "'ascii' codec can't decode byte 0x89 in position 48: ordinal not in range(128)\n",
      "'ascii' codec can't decode byte 0x89 in position 81: ordinal not in range(128)\n",
      "'ascii' codec can't decode byte 0x89 in position 0: ordinal not in range(128)\n",
      "'ascii' codec can't decode byte 0x89 in position 0: ordinal not in range(128)\n",
      "'ascii' codec can't decode byte 0x89 in position 0: ordinal not in range(128)\n",
      "'ascii' codec can't decode byte 0x89 in position 6: ordinal not in range(128)\n",
      "'ascii' codec can't decode byte 0x89 in position 0: ordinal not in range(128)\n",
      "'ascii' codec can't decode byte 0x89 in position 0: ordinal not in range(128)\n",
      "'ascii' codec can't decode byte 0x89 in position 0: ordinal not in range(128)\n",
      "'ascii' codec can't decode byte 0x89 in position 0: ordinal not in range(128)\n",
      "'ascii' codec can't decode byte 0x89 in position 0: ordinal not in range(128)\n",
      "'ascii' codec can't decode byte 0x89 in position 0: ordinal not in range(128)\n",
      "'ascii' codec can't decode byte 0x89 in position 0: ordinal not in range(128)\n",
      "'ascii' codec can't decode byte 0x89 in position 0: ordinal not in range(128)\n",
      "'ascii' codec can't decode byte 0x89 in position 0: ordinal not in range(128)\n",
      "'ascii' codec can't decode byte 0x89 in position 0: ordinal not in range(128)\n",
      "'ascii' codec can't decode byte 0x89 in position 0: ordinal not in range(128)\n",
      "'ascii' codec can't decode byte 0x89 in position 0: ordinal not in range(128)\n",
      "'ascii' codec can't decode byte 0x89 in position 0: ordinal not in range(128)\n",
      "'ascii' codec can't decode byte 0x89 in position 0: ordinal not in range(128)\n",
      "'ascii' codec can't decode byte 0x89 in position 0: ordinal not in range(128)\n",
      "'ascii' codec can't decode byte 0x89 in position 0: ordinal not in range(128)\n",
      "'ascii' codec can't decode byte 0x89 in position 0: ordinal not in range(128)\n",
      "'ascii' codec can't decode byte 0x89 in position 0: ordinal not in range(128)\n",
      "'ascii' codec can't decode byte 0x89 in position 0: ordinal not in range(128)\n",
      "'ascii' codec can't decode byte 0x89 in position 0: ordinal not in range(128)\n",
      "'ascii' codec can't decode byte 0x89 in position 89: ordinal not in range(128)\n",
      "'ascii' codec can't decode byte 0x89 in position 0: ordinal not in range(128)\n",
      "'ascii' codec can't decode byte 0x89 in position 0: ordinal not in range(128)\n",
      "'ascii' codec can't decode byte 0x89 in position 17: ordinal not in range(128)\n",
      "'ascii' codec can't decode byte 0x89 in position 8: ordinal not in range(128)\n",
      "'ascii' codec can't decode byte 0x89 in position 8: ordinal not in range(128)\n",
      "'ascii' codec can't decode byte 0x89 in position 0: ordinal not in range(128)\n",
      "'ascii' codec can't decode byte 0x89 in position 0: ordinal not in range(128)\n",
      "'ascii' codec can't decode byte 0x89 in position 0: ordinal not in range(128)\n",
      "'ascii' codec can't decode byte 0xcc in position 65: ordinal not in range(128)\n",
      "'ascii' codec can't decode byte 0x89 in position 0: ordinal not in range(128)\n",
      "'ascii' codec can't decode byte 0x89 in position 0: ordinal not in range(128)\n",
      "'ascii' codec can't decode byte 0x89 in position 0: ordinal not in range(128)\n",
      "'ascii' codec can't decode byte 0x89 in position 0: ordinal not in range(128)\n",
      "'ascii' codec can't decode byte 0x89 in position 85: ordinal not in range(128)\n",
      "'ascii' codec can't decode byte 0x89 in position 85: ordinal not in range(128)\n",
      "'ascii' codec can't decode byte 0x89 in position 85: ordinal not in range(128)\n",
      "'ascii' codec can't decode byte 0x89 in position 85: ordinal not in range(128)\n",
      "'ascii' codec can't decode byte 0x89 in position 25: ordinal not in range(128)\n",
      "'ascii' codec can't decode byte 0x89 in position 44: ordinal not in range(128)\n",
      "'ascii' codec can't decode byte 0x89 in position 0: ordinal not in range(128)\n",
      "'ascii' codec can't decode byte 0x89 in position 53: ordinal not in range(128)\n",
      "'ascii' codec can't decode byte 0x89 in position 89: ordinal not in range(128)\n",
      "'ascii' codec can't decode byte 0x89 in position 86: ordinal not in range(128)\n",
      "'ascii' codec can't decode byte 0x89 in position 47: ordinal not in range(128)\n",
      "'ascii' codec can't decode byte 0x89 in position 0: ordinal not in range(128)\n",
      "'ascii' codec can't decode byte 0x89 in position 0: ordinal not in range(128)\n",
      "'ascii' codec can't decode byte 0x89 in position 0: ordinal not in range(128)\n",
      "'ascii' codec can't decode byte 0x89 in position 7: ordinal not in range(128)\n",
      "'ascii' codec can't decode byte 0x89 in position 0: ordinal not in range(128)\n",
      "'ascii' codec can't decode byte 0x89 in position 50: ordinal not in range(128)\n",
      "'ascii' codec can't decode byte 0xe5 in position 66: ordinal not in range(128)\n",
      "'ascii' codec can't decode byte 0x89 in position 115: ordinal not in range(128)\n",
      "'ascii' codec can't decode byte 0x89 in position 0: ordinal not in range(128)\n",
      "'ascii' codec can't decode byte 0x89 in position 94: ordinal not in range(128)\n",
      "'ascii' codec can't decode byte 0x89 in position 46: ordinal not in range(128)\n",
      "'ascii' codec can't decode byte 0x89 in position 15: ordinal not in range(128)\n",
      "'ascii' codec can't decode byte 0x89 in position 91: ordinal not in range(128)\n",
      "'ascii' codec can't decode byte 0x89 in position 0: ordinal not in range(128)\n",
      "'ascii' codec can't decode byte 0x89 in position 0: ordinal not in range(128)\n",
      "'ascii' codec can't decode byte 0x89 in position 20: ordinal not in range(128)\n",
      "'ascii' codec can't decode byte 0x89 in position 81: ordinal not in range(128)\n",
      "'ascii' codec can't decode byte 0x89 in position 0: ordinal not in range(128)\n",
      "'ascii' codec can't decode byte 0x89 in position 0: ordinal not in range(128)\n",
      "'ascii' codec can't decode byte 0x89 in position 0: ordinal not in range(128)\n",
      "'ascii' codec can't decode byte 0x89 in position 0: ordinal not in range(128)\n",
      "'ascii' codec can't decode byte 0x89 in position 28: ordinal not in range(128)\n",
      "'ascii' codec can't decode byte 0x89 in position 0: ordinal not in range(128)\n",
      "'ascii' codec can't decode byte 0x89 in position 0: ordinal not in range(128)\n",
      "'ascii' codec can't decode byte 0x89 in position 0: ordinal not in range(128)\n",
      "'ascii' codec can't decode byte 0x89 in position 0: ordinal not in range(128)\n",
      "'ascii' codec can't decode byte 0x89 in position 0: ordinal not in range(128)\n",
      "'ascii' codec can't decode byte 0x89 in position 47: ordinal not in range(128)\n",
      "'ascii' codec can't decode byte 0x89 in position 0: ordinal not in range(128)\n",
      "'ascii' codec can't decode byte 0x89 in position 0: ordinal not in range(128)\n",
      "'ascii' codec can't decode byte 0x89 in position 0: ordinal not in range(128)\n",
      "'ascii' codec can't decode byte 0x89 in position 0: ordinal not in range(128)\n",
      "'ascii' codec can't decode byte 0x89 in position 100: ordinal not in range(128)\n",
      "'ascii' codec can't decode byte 0x89 in position 53: ordinal not in range(128)\n",
      "'ascii' codec can't decode byte 0x89 in position 56: ordinal not in range(128)\n",
      "'ascii' codec can't decode byte 0x89 in position 135: ordinal not in range(128)\n",
      "'ascii' codec can't decode byte 0x89 in position 0: ordinal not in range(128)\n",
      "'ascii' codec can't decode byte 0x89 in position 84: ordinal not in range(128)\n",
      "'ascii' codec can't decode byte 0x89 in position 0: ordinal not in range(128)\n",
      "'ascii' codec can't decode byte 0x89 in position 0: ordinal not in range(128)\n",
      "'ascii' codec can't decode byte 0x89 in position 0: ordinal not in range(128)\n",
      "'ascii' codec can't decode byte 0x89 in position 0: ordinal not in range(128)\n",
      "'ascii' codec can't decode byte 0x89 in position 0: ordinal not in range(128)\n",
      "'ascii' codec can't decode byte 0x89 in position 0: ordinal not in range(128)\n",
      "'ascii' codec can't decode byte 0x89 in position 0: ordinal not in range(128)\n",
      "'ascii' codec can't decode byte 0x89 in position 0: ordinal not in range(128)\n",
      "'ascii' codec can't decode byte 0x89 in position 0: ordinal not in range(128)\n",
      "'ascii' codec can't decode byte 0x89 in position 0: ordinal not in range(128)\n",
      "'ascii' codec can't decode byte 0x89 in position 0: ordinal not in range(128)\n",
      "'ascii' codec can't decode byte 0xbc in position 1: ordinal not in range(128)\n",
      "'ascii' codec can't decode byte 0x89 in position 53: ordinal not in range(128)\n",
      "'ascii' codec can't decode byte 0x89 in position 0: ordinal not in range(128)\n",
      "'ascii' codec can't decode byte 0x89 in position 117: ordinal not in range(128)\n",
      "'ascii' codec can't decode byte 0x89 in position 11: ordinal not in range(128)\n",
      "'ascii' codec can't decode byte 0x8b in position 0: ordinal not in range(128)\n",
      "'ascii' codec can't decode byte 0x89 in position 0: ordinal not in range(128)\n",
      "'ascii' codec can't decode byte 0x89 in position 0: ordinal not in range(128)\n",
      "'ascii' codec can't decode byte 0x89 in position 109: ordinal not in range(128)\n",
      "'ascii' codec can't decode byte 0x89 in position 12: ordinal not in range(128)\n",
      "'ascii' codec can't decode byte 0x89 in position 9: ordinal not in range(128)\n",
      "'ascii' codec can't decode byte 0x89 in position 9: ordinal not in range(128)\n",
      "'ascii' codec can't decode byte 0x89 in position 9: ordinal not in range(128)\n",
      "'ascii' codec can't decode byte 0x89 in position 9: ordinal not in range(128)\n",
      "'ascii' codec can't decode byte 0x89 in position 9: ordinal not in range(128)\n",
      "'ascii' codec can't decode byte 0xe5 in position 9: ordinal not in range(128)\n",
      "'ascii' codec can't decode byte 0xcc in position 75: ordinal not in range(128)\n",
      "'ascii' codec can't decode byte 0x89 in position 18: ordinal not in range(128)\n",
      "'ascii' codec can't decode byte 0x89 in position 8: ordinal not in range(128)\n",
      "'ascii' codec can't decode byte 0x89 in position 8: ordinal not in range(128)\n",
      "'ascii' codec can't decode byte 0x89 in position 7: ordinal not in range(128)\n",
      "'ascii' codec can't decode byte 0x89 in position 8: ordinal not in range(128)\n",
      "'ascii' codec can't decode byte 0x89 in position 31: ordinal not in range(128)\n",
      "'ascii' codec can't decode byte 0xe5 in position 88: ordinal not in range(128)\n",
      "'ascii' codec can't decode byte 0x89 in position 86: ordinal not in range(128)\n",
      "'ascii' codec can't decode byte 0x89 in position 19: ordinal not in range(128)\n",
      "'ascii' codec can't decode byte 0x89 in position 108: ordinal not in range(128)\n",
      "'ascii' codec can't decode byte 0x89 in position 74: ordinal not in range(128)\n",
      "'ascii' codec can't decode byte 0x89 in position 90: ordinal not in range(128)\n",
      "'ascii' codec can't decode byte 0x89 in position 6: ordinal not in range(128)\n",
      "'ascii' codec can't decode byte 0x89 in position 0: ordinal not in range(128)\n",
      "'ascii' codec can't decode byte 0x89 in position 113: ordinal not in range(128)\n",
      "'ascii' codec can't decode byte 0x89 in position 32: ordinal not in range(128)\n",
      "'ascii' codec can't decode byte 0xe5 in position 64: ordinal not in range(128)\n",
      "'ascii' codec can't decode byte 0x89 in position 52: ordinal not in range(128)\n",
      "'ascii' codec can't decode byte 0x89 in position 53: ordinal not in range(128)\n",
      "'ascii' codec can't decode byte 0x89 in position 51: ordinal not in range(128)\n",
      "'ascii' codec can't decode byte 0x89 in position 44: ordinal not in range(128)\n",
      "'ascii' codec can't decode byte 0xcc in position 8: ordinal not in range(128)\n",
      "'ascii' codec can't decode byte 0x89 in position 126: ordinal not in range(128)\n",
      "'ascii' codec can't decode byte 0x89 in position 128: ordinal not in range(128)\n",
      "'ascii' codec can't decode byte 0x89 in position 0: ordinal not in range(128)\n",
      "'ascii' codec can't decode byte 0xe5 in position 83: ordinal not in range(128)\n",
      "'ascii' codec can't decode byte 0x89 in position 68: ordinal not in range(128)\n",
      "'ascii' codec can't decode byte 0x89 in position 23: ordinal not in range(128)\n",
      "'ascii' codec can't decode byte 0x89 in position 5: ordinal not in range(128)\n",
      "'ascii' codec can't decode byte 0x89 in position 69: ordinal not in range(128)\n",
      "'ascii' codec can't decode byte 0x89 in position 66: ordinal not in range(128)\n",
      "'ascii' codec can't decode byte 0x89 in position 29: ordinal not in range(128)\n",
      "'ascii' codec can't decode byte 0x89 in position 5: ordinal not in range(128)\n",
      "'ascii' codec can't decode byte 0x89 in position 28: ordinal not in range(128)\n",
      "'ascii' codec can't decode byte 0x89 in position 26: ordinal not in range(128)\n",
      "'ascii' codec can't decode byte 0xcc in position 10: ordinal not in range(128)\n",
      "'ascii' codec can't decode byte 0x89 in position 56: ordinal not in range(128)\n",
      "'ascii' codec can't decode byte 0x89 in position 36: ordinal not in range(128)\n",
      "'ascii' codec can't decode byte 0x89 in position 36: ordinal not in range(128)\n",
      "'ascii' codec can't decode byte 0x89 in position 36: ordinal not in range(128)\n",
      "'ascii' codec can't decode byte 0x89 in position 112: ordinal not in range(128)\n",
      "'ascii' codec can't decode byte 0x89 in position 42: ordinal not in range(128)\n",
      "'ascii' codec can't decode byte 0x89 in position 43: ordinal not in range(128)\n",
      "'ascii' codec can't decode byte 0x89 in position 49: ordinal not in range(128)\n",
      "'ascii' codec can't decode byte 0x89 in position 27: ordinal not in range(128)\n",
      "'ascii' codec can't decode byte 0x89 in position 44: ordinal not in range(128)\n",
      "'ascii' codec can't decode byte 0xe5 in position 67: ordinal not in range(128)\n",
      "'ascii' codec can't decode byte 0x89 in position 10: ordinal not in range(128)\n",
      "'ascii' codec can't decode byte 0x89 in position 52: ordinal not in range(128)\n",
      "'ascii' codec can't decode byte 0x89 in position 53: ordinal not in range(128)\n",
      "'ascii' codec can't decode byte 0x89 in position 89: ordinal not in range(128)\n",
      "'ascii' codec can't decode byte 0x89 in position 88: ordinal not in range(128)\n",
      "'ascii' codec can't decode byte 0x89 in position 119: ordinal not in range(128)\n",
      "'ascii' codec can't decode byte 0x89 in position 16: ordinal not in range(128)\n",
      "'ascii' codec can't decode byte 0x89 in position 6: ordinal not in range(128)\n",
      "'ascii' codec can't decode byte 0x89 in position 6: ordinal not in range(128)\n",
      "'ascii' codec can't decode byte 0xcc in position 22: ordinal not in range(128)\n",
      "'ascii' codec can't decode byte 0x89 in position 15: ordinal not in range(128)\n",
      "'ascii' codec can't decode byte 0xe5 in position 68: ordinal not in range(128)\n",
      "'ascii' codec can't decode byte 0x89 in position 25: ordinal not in range(128)\n",
      "'ascii' codec can't decode byte 0xcc in position 18: ordinal not in range(128)\n",
      "'ascii' codec can't decode byte 0x89 in position 16: ordinal not in range(128)\n",
      "'ascii' codec can't decode byte 0x89 in position 4: ordinal not in range(128)\n",
      "'ascii' codec can't decode byte 0x89 in position 34: ordinal not in range(128)\n",
      "'ascii' codec can't decode byte 0xe5 in position 100: ordinal not in range(128)\n",
      "'ascii' codec can't decode byte 0x89 in position 35: ordinal not in range(128)\n",
      "'ascii' codec can't decode byte 0x89 in position 19: ordinal not in range(128)\n",
      "'ascii' codec can't decode byte 0x89 in position 91: ordinal not in range(128)\n",
      "'ascii' codec can't decode byte 0x89 in position 22: ordinal not in range(128)\n",
      "'ascii' codec can't decode byte 0x89 in position 22: ordinal not in range(128)\n",
      "'ascii' codec can't decode byte 0xe5 in position 68: ordinal not in range(128)\n",
      "'ascii' codec can't decode byte 0x89 in position 18: ordinal not in range(128)\n",
      "'ascii' codec can't decode byte 0x8f in position 30: ordinal not in range(128)\n",
      "'ascii' codec can't decode byte 0x89 in position 75: ordinal not in range(128)\n",
      "'ascii' codec can't decode byte 0x89 in position 17: ordinal not in range(128)\n",
      "'ascii' codec can't decode byte 0x89 in position 119: ordinal not in range(128)\n",
      "'ascii' codec can't decode byte 0x89 in position 86: ordinal not in range(128)\n",
      "'ascii' codec can't decode byte 0x89 in position 21: ordinal not in range(128)\n",
      "'ascii' codec can't decode byte 0x89 in position 3: ordinal not in range(128)\n",
      "'ascii' codec can't decode byte 0x89 in position 7: ordinal not in range(128)\n",
      "'ascii' codec can't decode byte 0x89 in position 2: ordinal not in range(128)\n",
      "'ascii' codec can't decode byte 0x89 in position 0: ordinal not in range(128)\n",
      "'ascii' codec can't decode byte 0x89 in position 22: ordinal not in range(128)\n",
      "'ascii' codec can't decode byte 0x89 in position 3: ordinal not in range(128)\n",
      "'ascii' codec can't decode byte 0x89 in position 3: ordinal not in range(128)\n",
      "'ascii' codec can't decode byte 0x89 in position 3: ordinal not in range(128)\n",
      "'ascii' codec can't decode byte 0x89 in position 3: ordinal not in range(128)\n",
      "'ascii' codec can't decode byte 0x89 in position 3: ordinal not in range(128)\n",
      "'ascii' codec can't decode byte 0x89 in position 3: ordinal not in range(128)\n",
      "'ascii' codec can't decode byte 0x89 in position 16: ordinal not in range(128)\n",
      "'ascii' codec can't decode byte 0xe5 in position 55: ordinal not in range(128)\n",
      "'ascii' codec can't decode byte 0x89 in position 79: ordinal not in range(128)\n",
      "'ascii' codec can't decode byte 0x89 in position 39: ordinal not in range(128)\n",
      "'ascii' codec can't decode byte 0x89 in position 49: ordinal not in range(128)\n",
      "'ascii' codec can't decode byte 0x89 in position 127: ordinal not in range(128)\n",
      "'ascii' codec can't decode byte 0x89 in position 2: ordinal not in range(128)\n",
      "'ascii' codec can't decode byte 0x89 in position 60: ordinal not in range(128)\n",
      "'ascii' codec can't decode byte 0x89 in position 107: ordinal not in range(128)\n",
      "'ascii' codec can't decode byte 0x89 in position 75: ordinal not in range(128)\n",
      "'ascii' codec can't decode byte 0x89 in position 103: ordinal not in range(128)\n",
      "'ascii' codec can't decode byte 0x89 in position 7: ordinal not in range(128)\n",
      "'ascii' codec can't decode byte 0x89 in position 96: ordinal not in range(128)\n",
      "'ascii' codec can't decode byte 0x89 in position 7: ordinal not in range(128)\n",
      "'ascii' codec can't decode byte 0x89 in position 7: ordinal not in range(128)\n",
      "'ascii' codec can't decode byte 0x89 in position 106: ordinal not in range(128)\n",
      "'ascii' codec can't decode byte 0x89 in position 7: ordinal not in range(128)\n",
      "'ascii' codec can't decode byte 0x89 in position 7: ordinal not in range(128)\n",
      "'ascii' codec can't decode byte 0x89 in position 33: ordinal not in range(128)\n",
      "'ascii' codec can't decode byte 0x89 in position 0: ordinal not in range(128)\n",
      "'ascii' codec can't decode byte 0x89 in position 58: ordinal not in range(128)\n",
      "'ascii' codec can't decode byte 0x89 in position 43: ordinal not in range(128)\n",
      "'ascii' codec can't decode byte 0xcc in position 50: ordinal not in range(128)\n",
      "'ascii' codec can't decode byte 0x89 in position 28: ordinal not in range(128)\n",
      "'ascii' codec can't decode byte 0x89 in position 0: ordinal not in range(128)\n",
      "'ascii' codec can't decode byte 0x89 in position 43: ordinal not in range(128)\n",
      "'ascii' codec can't decode byte 0x89 in position 43: ordinal not in range(128)\n",
      "'ascii' codec can't decode byte 0x89 in position 50: ordinal not in range(128)\n",
      "'ascii' codec can't decode byte 0x89 in position 151: ordinal not in range(128)\n",
      "'ascii' codec can't decode byte 0x89 in position 17: ordinal not in range(128)\n",
      "'ascii' codec can't decode byte 0xe5 in position 93: ordinal not in range(128)\n",
      "'ascii' codec can't decode byte 0xe5 in position 92: ordinal not in range(128)\n",
      "'ascii' codec can't decode byte 0xe5 in position 95: ordinal not in range(128)\n",
      "'ascii' codec can't decode byte 0x89 in position 38: ordinal not in range(128)\n",
      "'ascii' codec can't decode byte 0x89 in position 101: ordinal not in range(128)\n",
      "'ascii' codec can't decode byte 0xe5 in position 40: ordinal not in range(128)\n",
      "'ascii' codec can't decode byte 0x89 in position 7: ordinal not in range(128)\n",
      "'ascii' codec can't decode byte 0x89 in position 93: ordinal not in range(128)\n",
      "'ascii' codec can't decode byte 0x89 in position 25: ordinal not in range(128)\n",
      "'ascii' codec can't decode byte 0x89 in position 36: ordinal not in range(128)\n",
      "'ascii' codec can't decode byte 0x89 in position 50: ordinal not in range(128)\n",
      "'ascii' codec can't decode byte 0xcc in position 87: ordinal not in range(128)\n",
      "'ascii' codec can't decode byte 0x89 in position 22: ordinal not in range(128)\n",
      "'ascii' codec can't decode byte 0x89 in position 21: ordinal not in range(128)\n",
      "'ascii' codec can't decode byte 0x89 in position 21: ordinal not in range(128)\n",
      "'ascii' codec can't decode byte 0x89 in position 0: ordinal not in range(128)\n",
      "'ascii' codec can't decode byte 0xe5 in position 49: ordinal not in range(128)\n",
      "'ascii' codec can't decode byte 0x89 in position 106: ordinal not in range(128)\n",
      "'ascii' codec can't decode byte 0x89 in position 12: ordinal not in range(128)\n",
      "'ascii' codec can't decode byte 0x89 in position 12: ordinal not in range(128)\n",
      "'ascii' codec can't decode byte 0x89 in position 12: ordinal not in range(128)\n",
      "'ascii' codec can't decode byte 0x89 in position 12: ordinal not in range(128)\n",
      "'ascii' codec can't decode byte 0x89 in position 12: ordinal not in range(128)\n",
      "'ascii' codec can't decode byte 0x89 in position 12: ordinal not in range(128)\n",
      "'ascii' codec can't decode byte 0x89 in position 12: ordinal not in range(128)\n",
      "'ascii' codec can't decode byte 0x89 in position 12: ordinal not in range(128)\n",
      "'ascii' codec can't decode byte 0x89 in position 12: ordinal not in range(128)\n",
      "'ascii' codec can't decode byte 0x89 in position 12: ordinal not in range(128)\n",
      "'ascii' codec can't decode byte 0x89 in position 12: ordinal not in range(128)\n",
      "'ascii' codec can't decode byte 0x89 in position 12: ordinal not in range(128)\n",
      "'ascii' codec can't decode byte 0x89 in position 12: ordinal not in range(128)\n",
      "'ascii' codec can't decode byte 0x89 in position 12: ordinal not in range(128)\n",
      "'ascii' codec can't decode byte 0x89 in position 12: ordinal not in range(128)\n",
      "'ascii' codec can't decode byte 0xcc in position 87: ordinal not in range(128)\n",
      "'ascii' codec can't decode byte 0x89 in position 38: ordinal not in range(128)\n",
      "'ascii' codec can't decode byte 0x89 in position 66: ordinal not in range(128)\n",
      "'ascii' codec can't decode byte 0x89 in position 29: ordinal not in range(128)\n",
      "'ascii' codec can't decode byte 0x89 in position 102: ordinal not in range(128)\n",
      "'ascii' codec can't decode byte 0x89 in position 56: ordinal not in range(128)\n",
      "'ascii' codec can't decode byte 0x89 in position 98: ordinal not in range(128)\n",
      "'ascii' codec can't decode byte 0xe5 in position 107: ordinal not in range(128)\n",
      "'ascii' codec can't decode byte 0x89 in position 48: ordinal not in range(128)\n",
      "'ascii' codec can't decode byte 0x89 in position 37: ordinal not in range(128)\n",
      "'ascii' codec can't decode byte 0x89 in position 105: ordinal not in range(128)\n",
      "'ascii' codec can't decode byte 0x89 in position 12: ordinal not in range(128)\n",
      "'ascii' codec can't decode byte 0x89 in position 12: ordinal not in range(128)\n",
      "'ascii' codec can't decode byte 0x89 in position 12: ordinal not in range(128)\n",
      "'ascii' codec can't decode byte 0x89 in position 12: ordinal not in range(128)\n",
      "'ascii' codec can't decode byte 0x89 in position 12: ordinal not in range(128)\n",
      "'ascii' codec can't decode byte 0x89 in position 12: ordinal not in range(128)\n",
      "'ascii' codec can't decode byte 0x89 in position 12: ordinal not in range(128)\n",
      "'ascii' codec can't decode byte 0x89 in position 12: ordinal not in range(128)\n",
      "'ascii' codec can't decode byte 0x89 in position 12: ordinal not in range(128)\n",
      "'ascii' codec can't decode byte 0x89 in position 12: ordinal not in range(128)\n",
      "'ascii' codec can't decode byte 0x89 in position 12: ordinal not in range(128)\n",
      "'ascii' codec can't decode byte 0x89 in position 12: ordinal not in range(128)\n",
      "'ascii' codec can't decode byte 0x89 in position 12: ordinal not in range(128)\n",
      "'ascii' codec can't decode byte 0x89 in position 12: ordinal not in range(128)\n",
      "'ascii' codec can't decode byte 0x89 in position 19: ordinal not in range(128)\n",
      "'ascii' codec can't decode byte 0x89 in position 102: ordinal not in range(128)\n",
      "'ascii' codec can't decode byte 0x89 in position 42: ordinal not in range(128)\n",
      "'ascii' codec can't decode byte 0xe5 in position 45: ordinal not in range(128)\n",
      "'ascii' codec can't decode byte 0x89 in position 109: ordinal not in range(128)\n",
      "'ascii' codec can't decode byte 0x89 in position 64: ordinal not in range(128)\n",
      "'ascii' codec can't decode byte 0x89 in position 17: ordinal not in range(128)\n",
      "'ascii' codec can't decode byte 0x89 in position 107: ordinal not in range(128)\n",
      "'ascii' codec can't decode byte 0x89 in position 109: ordinal not in range(128)\n",
      "'ascii' codec can't decode byte 0x89 in position 2: ordinal not in range(128)\n",
      "'ascii' codec can't decode byte 0xcc in position 30: ordinal not in range(128)\n",
      "'ascii' codec can't decode byte 0x89 in position 58: ordinal not in range(128)\n",
      "'ascii' codec can't decode byte 0x89 in position 150: ordinal not in range(128)\n",
      "'ascii' codec can't decode byte 0x89 in position 108: ordinal not in range(128)\n",
      "'ascii' codec can't decode byte 0xcc in position 34: ordinal not in range(128)\n",
      "'ascii' codec can't decode byte 0x89 in position 25: ordinal not in range(128)\n",
      "'ascii' codec can't decode byte 0x89 in position 97: ordinal not in range(128)\n",
      "'ascii' codec can't decode byte 0x89 in position 97: ordinal not in range(128)\n",
      "'ascii' codec can't decode byte 0x89 in position 99: ordinal not in range(128)\n",
      "'ascii' codec can't decode byte 0x89 in position 51: ordinal not in range(128)\n",
      "'ascii' codec can't decode byte 0x89 in position 22: ordinal not in range(128)\n",
      "'ascii' codec can't decode byte 0xcc in position 99: ordinal not in range(128)\n",
      "'ascii' codec can't decode byte 0x89 in position 112: ordinal not in range(128)\n",
      "'ascii' codec can't decode byte 0x89 in position 40: ordinal not in range(128)\n",
      "'ascii' codec can't decode byte 0x89 in position 131: ordinal not in range(128)\n",
      "'ascii' codec can't decode byte 0x89 in position 101: ordinal not in range(128)\n",
      "'ascii' codec can't decode byte 0x89 in position 18: ordinal not in range(128)\n",
      "'ascii' codec can't decode byte 0x89 in position 60: ordinal not in range(128)\n",
      "'ascii' codec can't decode byte 0xe5 in position 95: ordinal not in range(128)\n",
      "'ascii' codec can't decode byte 0x89 in position 32: ordinal not in range(128)\n",
      "'ascii' codec can't decode byte 0x89 in position 108: ordinal not in range(128)\n",
      "'ascii' codec can't decode byte 0x89 in position 112: ordinal not in range(128)\n",
      "'ascii' codec can't decode byte 0x89 in position 77: ordinal not in range(128)\n",
      "'ascii' codec can't decode byte 0x89 in position 72: ordinal not in range(128)\n",
      "'ascii' codec can't decode byte 0x89 in position 31: ordinal not in range(128)\n",
      "'ascii' codec can't decode byte 0x89 in position 31: ordinal not in range(128)\n",
      "'ascii' codec can't decode byte 0x89 in position 24: ordinal not in range(128)\n",
      "'ascii' codec can't decode byte 0x89 in position 15: ordinal not in range(128)\n",
      "'ascii' codec can't decode byte 0x89 in position 15: ordinal not in range(128)\n",
      "'ascii' codec can't decode byte 0x89 in position 24: ordinal not in range(128)\n",
      "'ascii' codec can't decode byte 0x89 in position 24: ordinal not in range(128)\n",
      "'ascii' codec can't decode byte 0x89 in position 102: ordinal not in range(128)\n",
      "'ascii' codec can't decode byte 0x89 in position 104: ordinal not in range(128)\n",
      "'ascii' codec can't decode byte 0x89 in position 111: ordinal not in range(128)\n",
      "'ascii' codec can't decode byte 0xcc in position 15: ordinal not in range(128)\n",
      "'ascii' codec can't decode byte 0x89 in position 58: ordinal not in range(128)\n",
      "'ascii' codec can't decode byte 0x89 in position 68: ordinal not in range(128)\n",
      "'ascii' codec can't decode byte 0x89 in position 62: ordinal not in range(128)\n",
      "'ascii' codec can't decode byte 0x89 in position 102: ordinal not in range(128)\n",
      "'ascii' codec can't decode byte 0x89 in position 91: ordinal not in range(128)\n",
      "'ascii' codec can't decode byte 0x89 in position 28: ordinal not in range(128)\n",
      "'ascii' codec can't decode byte 0x89 in position 96: ordinal not in range(128)\n",
      "'ascii' codec can't decode byte 0x89 in position 111: ordinal not in range(128)\n",
      "'ascii' codec can't decode byte 0x89 in position 39: ordinal not in range(128)\n",
      "'ascii' codec can't decode byte 0x89 in position 65: ordinal not in range(128)\n",
      "'ascii' codec can't decode byte 0xcc in position 110: ordinal not in range(128)\n",
      "'ascii' codec can't decode byte 0x89 in position 99: ordinal not in range(128)\n",
      "'ascii' codec can't decode byte 0x89 in position 40: ordinal not in range(128)\n",
      "'ascii' codec can't decode byte 0x89 in position 16: ordinal not in range(128)\n",
      "'ascii' codec can't decode byte 0xe5 in position 68: ordinal not in range(128)\n",
      "'ascii' codec can't decode byte 0x89 in position 98: ordinal not in range(128)\n",
      "'ascii' codec can't decode byte 0x89 in position 106: ordinal not in range(128)\n",
      "'ascii' codec can't decode byte 0x89 in position 25: ordinal not in range(128)\n",
      "'ascii' codec can't decode byte 0x89 in position 28: ordinal not in range(128)\n",
      "'ascii' codec can't decode byte 0x89 in position 0: ordinal not in range(128)\n",
      "'ascii' codec can't decode byte 0x89 in position 107: ordinal not in range(128)\n",
      "'ascii' codec can't decode byte 0x89 in position 20: ordinal not in range(128)\n",
      "'ascii' codec can't decode byte 0x89 in position 17: ordinal not in range(128)\n",
      "'ascii' codec can't decode byte 0x89 in position 59: ordinal not in range(128)\n",
      "'ascii' codec can't decode byte 0x89 in position 81: ordinal not in range(128)\n",
      "'ascii' codec can't decode byte 0xe5 in position 81: ordinal not in range(128)\n",
      "'ascii' codec can't decode byte 0x89 in position 96: ordinal not in range(128)\n",
      "'ascii' codec can't decode byte 0x89 in position 67: ordinal not in range(128)\n",
      "'ascii' codec can't decode byte 0x89 in position 24: ordinal not in range(128)\n",
      "'ascii' codec can't decode byte 0x89 in position 41: ordinal not in range(128)\n",
      "'ascii' codec can't decode byte 0x89 in position 24: ordinal not in range(128)\n",
      "'ascii' codec can't decode byte 0x89 in position 33: ordinal not in range(128)\n",
      "'ascii' codec can't decode byte 0x89 in position 0: ordinal not in range(128)\n",
      "'ascii' codec can't decode byte 0x89 in position 20: ordinal not in range(128)\n",
      "'ascii' codec can't decode byte 0x89 in position 41: ordinal not in range(128)\n",
      "'ascii' codec can't decode byte 0x89 in position 61: ordinal not in range(128)\n",
      "'ascii' codec can't decode byte 0x89 in position 42: ordinal not in range(128)\n",
      "'ascii' codec can't decode byte 0x89 in position 42: ordinal not in range(128)\n",
      "'ascii' codec can't decode byte 0x89 in position 87: ordinal not in range(128)\n",
      "'ascii' codec can't decode byte 0x89 in position 56: ordinal not in range(128)\n",
      "'ascii' codec can't decode byte 0x89 in position 118: ordinal not in range(128)\n",
      "'ascii' codec can't decode byte 0x89 in position 74: ordinal not in range(128)\n",
      "'ascii' codec can't decode byte 0x89 in position 45: ordinal not in range(128)\n",
      "'ascii' codec can't decode byte 0x89 in position 16: ordinal not in range(128)\n",
      "'ascii' codec can't decode byte 0x89 in position 103: ordinal not in range(128)\n",
      "'ascii' codec can't decode byte 0xe5 in position 60: ordinal not in range(128)\n",
      "'ascii' codec can't decode byte 0xe5 in position 60: ordinal not in range(128)\n",
      "'ascii' codec can't decode byte 0x89 in position 36: ordinal not in range(128)\n",
      "'ascii' codec can't decode byte 0x89 in position 90: ordinal not in range(128)\n",
      "'ascii' codec can't decode byte 0x89 in position 14: ordinal not in range(128)\n",
      "'ascii' codec can't decode byte 0x89 in position 15: ordinal not in range(128)\n",
      "'ascii' codec can't decode byte 0x89 in position 0: ordinal not in range(128)\n",
      "'ascii' codec can't decode byte 0x89 in position 132: ordinal not in range(128)\n",
      "'ascii' codec can't decode byte 0x89 in position 13: ordinal not in range(128)\n",
      "'ascii' codec can't decode byte 0x89 in position 13: ordinal not in range(128)\n",
      "'ascii' codec can't decode byte 0x89 in position 13: ordinal not in range(128)\n",
      "'ascii' codec can't decode byte 0x89 in position 13: ordinal not in range(128)\n",
      "'ascii' codec can't decode byte 0x89 in position 102: ordinal not in range(128)\n",
      "'ascii' codec can't decode byte 0x89 in position 93: ordinal not in range(128)\n",
      "'ascii' codec can't decode byte 0xe5 in position 2: ordinal not in range(128)\n",
      "'ascii' codec can't decode byte 0x89 in position 46: ordinal not in range(128)\n",
      "'ascii' codec can't decode byte 0x89 in position 63: ordinal not in range(128)\n",
      "'ascii' codec can't decode byte 0x89 in position 18: ordinal not in range(128)\n",
      "'ascii' codec can't decode byte 0x89 in position 0: ordinal not in range(128)\n",
      "'ascii' codec can't decode byte 0xe5 in position 50: ordinal not in range(128)\n",
      "'ascii' codec can't decode byte 0x89 in position 0: ordinal not in range(128)\n",
      "'ascii' codec can't decode byte 0xe5 in position 108: ordinal not in range(128)\n",
      "'ascii' codec can't decode byte 0x89 in position 63: ordinal not in range(128)\n",
      "'ascii' codec can't decode byte 0x89 in position 11: ordinal not in range(128)\n",
      "'ascii' codec can't decode byte 0x89 in position 10: ordinal not in range(128)\n",
      "'ascii' codec can't decode byte 0x89 in position 130: ordinal not in range(128)\n",
      "'ascii' codec can't decode byte 0x89 in position 91: ordinal not in range(128)\n",
      "'ascii' codec can't decode byte 0x89 in position 21: ordinal not in range(128)\n",
      "'ascii' codec can't decode byte 0xe5 in position 89: ordinal not in range(128)\n",
      "'ascii' codec can't decode byte 0x89 in position 19: ordinal not in range(128)\n",
      "'ascii' codec can't decode byte 0x89 in position 24: ordinal not in range(128)\n",
      "'ascii' codec can't decode byte 0x89 in position 119: ordinal not in range(128)\n",
      "'ascii' codec can't decode byte 0x89 in position 138: ordinal not in range(128)\n",
      "'ascii' codec can't decode byte 0x89 in position 4: ordinal not in range(128)\n",
      "'ascii' codec can't decode byte 0x89 in position 4: ordinal not in range(128)\n",
      "'ascii' codec can't decode byte 0x89 in position 39: ordinal not in range(128)\n",
      "'ascii' codec can't decode byte 0xe5 in position 37: ordinal not in range(128)\n",
      "'ascii' codec can't decode byte 0xcc in position 3: ordinal not in range(128)\n",
      "'ascii' codec can't decode byte 0x89 in position 127: ordinal not in range(128)\n",
      "'ascii' codec can't decode byte 0x89 in position 21: ordinal not in range(128)\n",
      "'ascii' codec can't decode byte 0xe5 in position 112: ordinal not in range(128)\n",
      "'ascii' codec can't decode byte 0x89 in position 12: ordinal not in range(128)\n",
      "'ascii' codec can't decode byte 0x89 in position 3: ordinal not in range(128)\n",
      "'ascii' codec can't decode byte 0x89 in position 4: ordinal not in range(128)\n",
      "'ascii' codec can't decode byte 0x89 in position 27: ordinal not in range(128)\n",
      "'ascii' codec can't decode byte 0x8e in position 106: ordinal not in range(128)\n",
      "'ascii' codec can't decode byte 0x89 in position 93: ordinal not in range(128)\n",
      "'ascii' codec can't decode byte 0xcc in position 47: ordinal not in range(128)\n"
     ]
    }
   ],
   "source": [
    "data[\"text\"] = pd.DataFrame([preprocess(text) for text in data.tweet_text], index=data.index)"
   ]
  },
  {
   "cell_type": "code",
   "execution_count": 10,
   "metadata": {},
   "outputs": [
    {
     "data": {
      "text/html": [
       "<div>\n",
       "<style scoped>\n",
       "    .dataframe tbody tr th:only-of-type {\n",
       "        vertical-align: middle;\n",
       "    }\n",
       "\n",
       "    .dataframe tbody tr th {\n",
       "        vertical-align: top;\n",
       "    }\n",
       "\n",
       "    .dataframe thead th {\n",
       "        text-align: right;\n",
       "    }\n",
       "</style>\n",
       "<table border=\"1\" class=\"dataframe\">\n",
       "  <thead>\n",
       "    <tr style=\"text-align: right;\">\n",
       "      <th></th>\n",
       "      <th>tweet_text</th>\n",
       "      <th>emotion_in_tweet_is_directed_at</th>\n",
       "      <th>is_there_an_emotion_directed_at_a_brand_or_product</th>\n",
       "      <th>text</th>\n",
       "    </tr>\n",
       "  </thead>\n",
       "  <tbody>\n",
       "    <tr>\n",
       "      <th>0</th>\n",
       "      <td>.@wesley83 I have a 3G iPhone. After 3 hrs twe...</td>\n",
       "      <td>iPhone</td>\n",
       "      <td>Negative emotion</td>\n",
       "      <td>.@wesley83 I have a 3G iPhone. After 3 hrs twe...</td>\n",
       "    </tr>\n",
       "    <tr>\n",
       "      <th>1</th>\n",
       "      <td>@jessedee Know about @fludapp ? Awesome iPad/i...</td>\n",
       "      <td>iPad or iPhone App</td>\n",
       "      <td>Positive emotion</td>\n",
       "      <td>@jessedee Know about @fludapp ? Awesome iPad/i...</td>\n",
       "    </tr>\n",
       "    <tr>\n",
       "      <th>2</th>\n",
       "      <td>@swonderlin Can not wait for #iPad 2 also. The...</td>\n",
       "      <td>iPad</td>\n",
       "      <td>Positive emotion</td>\n",
       "      <td>@swonderlin Can not wait for #iPad 2 also. The...</td>\n",
       "    </tr>\n",
       "    <tr>\n",
       "      <th>3</th>\n",
       "      <td>@sxsw I hope this year's festival isn't as cra...</td>\n",
       "      <td>iPad or iPhone App</td>\n",
       "      <td>Negative emotion</td>\n",
       "      <td>@sxsw I hope this year's festival isn't as cra...</td>\n",
       "    </tr>\n",
       "    <tr>\n",
       "      <th>4</th>\n",
       "      <td>@sxtxstate great stuff on Fri #SXSW: Marissa M...</td>\n",
       "      <td>Google</td>\n",
       "      <td>Positive emotion</td>\n",
       "      <td>@sxtxstate great stuff on Fri #SXSW: Marissa M...</td>\n",
       "    </tr>\n",
       "  </tbody>\n",
       "</table>\n",
       "</div>"
      ],
      "text/plain": [
       "                                          tweet_text  \\\n",
       "0  .@wesley83 I have a 3G iPhone. After 3 hrs twe...   \n",
       "1  @jessedee Know about @fludapp ? Awesome iPad/i...   \n",
       "2  @swonderlin Can not wait for #iPad 2 also. The...   \n",
       "3  @sxsw I hope this year's festival isn't as cra...   \n",
       "4  @sxtxstate great stuff on Fri #SXSW: Marissa M...   \n",
       "\n",
       "  emotion_in_tweet_is_directed_at  \\\n",
       "0                          iPhone   \n",
       "1              iPad or iPhone App   \n",
       "2                            iPad   \n",
       "3              iPad or iPhone App   \n",
       "4                          Google   \n",
       "\n",
       "  is_there_an_emotion_directed_at_a_brand_or_product  \\\n",
       "0                                   Negative emotion   \n",
       "1                                   Positive emotion   \n",
       "2                                   Positive emotion   \n",
       "3                                   Negative emotion   \n",
       "4                                   Positive emotion   \n",
       "\n",
       "                                                text  \n",
       "0  .@wesley83 I have a 3G iPhone. After 3 hrs twe...  \n",
       "1  @jessedee Know about @fludapp ? Awesome iPad/i...  \n",
       "2  @swonderlin Can not wait for #iPad 2 also. The...  \n",
       "3  @sxsw I hope this year's festival isn't as cra...  \n",
       "4  @sxtxstate great stuff on Fri #SXSW: Marissa M...  "
      ]
     },
     "execution_count": 10,
     "metadata": {},
     "output_type": "execute_result"
    }
   ],
   "source": [
    "data.head()"
   ]
  },
  {
   "cell_type": "code",
   "execution_count": 13,
   "metadata": {},
   "outputs": [
    {
     "data": {
      "text/plain": [
       "tweet_text                                               1\n",
       "emotion_in_tweet_is_directed_at                       5801\n",
       "is_there_an_emotion_directed_at_a_brand_or_product       0\n",
       "text                                                     0\n",
       "dtype: int64"
      ]
     },
     "execution_count": 13,
     "metadata": {},
     "output_type": "execute_result"
    }
   ],
   "source": [
    "data.isnull().sum()"
   ]
  },
  {
   "cell_type": "markdown",
   "metadata": {},
   "source": [
    "### Consider only rows having Positive emotion and Negative emotion and remove other rows from the dataframe."
   ]
  },
  {
   "cell_type": "code",
   "execution_count": 18,
   "metadata": {},
   "outputs": [],
   "source": [
    "gb = data.groupby(by='is_there_an_emotion_directed_at_a_brand_or_product')"
   ]
  },
  {
   "cell_type": "code",
   "execution_count": 19,
   "metadata": {},
   "outputs": [
    {
     "data": {
      "text/html": [
       "<div>\n",
       "<style scoped>\n",
       "    .dataframe tbody tr th:only-of-type {\n",
       "        vertical-align: middle;\n",
       "    }\n",
       "\n",
       "    .dataframe tbody tr th {\n",
       "        vertical-align: top;\n",
       "    }\n",
       "\n",
       "    .dataframe thead th {\n",
       "        text-align: right;\n",
       "    }\n",
       "</style>\n",
       "<table border=\"1\" class=\"dataframe\">\n",
       "  <thead>\n",
       "    <tr style=\"text-align: right;\">\n",
       "      <th></th>\n",
       "      <th>tweet_text</th>\n",
       "      <th>emotion_in_tweet_is_directed_at</th>\n",
       "      <th>text</th>\n",
       "    </tr>\n",
       "    <tr>\n",
       "      <th>is_there_an_emotion_directed_at_a_brand_or_product</th>\n",
       "      <th></th>\n",
       "      <th></th>\n",
       "      <th></th>\n",
       "    </tr>\n",
       "  </thead>\n",
       "  <tbody>\n",
       "    <tr>\n",
       "      <th>I can't tell</th>\n",
       "      <td>156</td>\n",
       "      <td>9</td>\n",
       "      <td>156</td>\n",
       "    </tr>\n",
       "    <tr>\n",
       "      <th>Negative emotion</th>\n",
       "      <td>570</td>\n",
       "      <td>519</td>\n",
       "      <td>570</td>\n",
       "    </tr>\n",
       "    <tr>\n",
       "      <th>No emotion toward brand or product</th>\n",
       "      <td>5387</td>\n",
       "      <td>91</td>\n",
       "      <td>5388</td>\n",
       "    </tr>\n",
       "    <tr>\n",
       "      <th>Positive emotion</th>\n",
       "      <td>2978</td>\n",
       "      <td>2672</td>\n",
       "      <td>2978</td>\n",
       "    </tr>\n",
       "  </tbody>\n",
       "</table>\n",
       "</div>"
      ],
      "text/plain": [
       "                                                    tweet_text  \\\n",
       "is_there_an_emotion_directed_at_a_brand_or_product               \n",
       "I can't tell                                               156   \n",
       "Negative emotion                                           570   \n",
       "No emotion toward brand or product                        5387   \n",
       "Positive emotion                                          2978   \n",
       "\n",
       "                                                    emotion_in_tweet_is_directed_at  \\\n",
       "is_there_an_emotion_directed_at_a_brand_or_product                                    \n",
       "I can't tell                                                                      9   \n",
       "Negative emotion                                                                519   \n",
       "No emotion toward brand or product                                               91   \n",
       "Positive emotion                                                               2672   \n",
       "\n",
       "                                                    text  \n",
       "is_there_an_emotion_directed_at_a_brand_or_product        \n",
       "I can't tell                                         156  \n",
       "Negative emotion                                     570  \n",
       "No emotion toward brand or product                  5388  \n",
       "Positive emotion                                    2978  "
      ]
     },
     "execution_count": 19,
     "metadata": {},
     "output_type": "execute_result"
    }
   ],
   "source": [
    "gb.count()"
   ]
  },
  {
   "cell_type": "code",
   "execution_count": 34,
   "metadata": {},
   "outputs": [],
   "source": [
    "#dropping rows with emotion as I can't tell or No emotion toward brand or product\n",
    "mod_data = data[data['is_there_an_emotion_directed_at_a_brand_or_product'] != \"I can't tell\"]\n",
    "mod_data = mod_data[mod_data['is_there_an_emotion_directed_at_a_brand_or_product'] != \"No emotion toward brand or product\"]\n"
   ]
  },
  {
   "cell_type": "code",
   "execution_count": 44,
   "metadata": {},
   "outputs": [
    {
     "data": {
      "text/html": [
       "<div>\n",
       "<style scoped>\n",
       "    .dataframe tbody tr th:only-of-type {\n",
       "        vertical-align: middle;\n",
       "    }\n",
       "\n",
       "    .dataframe tbody tr th {\n",
       "        vertical-align: top;\n",
       "    }\n",
       "\n",
       "    .dataframe thead th {\n",
       "        text-align: right;\n",
       "    }\n",
       "</style>\n",
       "<table border=\"1\" class=\"dataframe\">\n",
       "  <thead>\n",
       "    <tr style=\"text-align: right;\">\n",
       "      <th></th>\n",
       "      <th>tweet_text</th>\n",
       "      <th>emotion_in_tweet_is_directed_at</th>\n",
       "      <th>text</th>\n",
       "    </tr>\n",
       "    <tr>\n",
       "      <th>is_there_an_emotion_directed_at_a_brand_or_product</th>\n",
       "      <th></th>\n",
       "      <th></th>\n",
       "      <th></th>\n",
       "    </tr>\n",
       "  </thead>\n",
       "  <tbody>\n",
       "    <tr>\n",
       "      <th>Negative emotion</th>\n",
       "      <td>570</td>\n",
       "      <td>519</td>\n",
       "      <td>570</td>\n",
       "    </tr>\n",
       "    <tr>\n",
       "      <th>Positive emotion</th>\n",
       "      <td>2978</td>\n",
       "      <td>2672</td>\n",
       "      <td>2978</td>\n",
       "    </tr>\n",
       "  </tbody>\n",
       "</table>\n",
       "</div>"
      ],
      "text/plain": [
       "                                                    tweet_text  \\\n",
       "is_there_an_emotion_directed_at_a_brand_or_product               \n",
       "Negative emotion                                           570   \n",
       "Positive emotion                                          2978   \n",
       "\n",
       "                                                    emotion_in_tweet_is_directed_at  \\\n",
       "is_there_an_emotion_directed_at_a_brand_or_product                                    \n",
       "Negative emotion                                                                519   \n",
       "Positive emotion                                                               2672   \n",
       "\n",
       "                                                    text  \n",
       "is_there_an_emotion_directed_at_a_brand_or_product        \n",
       "Negative emotion                                     570  \n",
       "Positive emotion                                    2978  "
      ]
     },
     "execution_count": 44,
     "metadata": {},
     "output_type": "execute_result"
    }
   ],
   "source": [
    "mod_data.groupby(by='is_there_an_emotion_directed_at_a_brand_or_product').count()"
   ]
  },
  {
   "cell_type": "markdown",
   "metadata": {},
   "source": [
    "### Represent text as numerical data using `CountVectorizer` and get the document term frequency matrix\n",
    "\n",
    "#### Use `vect` as the variable name for initialising CountVectorizer."
   ]
  },
  {
   "cell_type": "code",
   "execution_count": 45,
   "metadata": {
    "collapsed": true
   },
   "outputs": [],
   "source": [
    "from sklearn.feature_extraction.text import CountVectorizer, TfidfVectorizer\n",
    "\n",
    "vect = CountVectorizer(ngram_range=(1, 2))"
   ]
  },
  {
   "cell_type": "markdown",
   "metadata": {},
   "source": [
    "### Find number of different words in vocabulary"
   ]
  },
  {
   "cell_type": "code",
   "execution_count": 53,
   "metadata": {
    "collapsed": true
   },
   "outputs": [],
   "source": [
    "data_dtm = vect.fit_transform(mod_data['text'])"
   ]
  },
  {
   "cell_type": "code",
   "execution_count": 54,
   "metadata": {},
   "outputs": [
    {
     "data": {
      "text/plain": [
       "(3548, 31363)"
      ]
     },
     "execution_count": 54,
     "metadata": {},
     "output_type": "execute_result"
    }
   ],
   "source": [
    "data_dtm.shape"
   ]
  },
  {
   "cell_type": "code",
   "execution_count": 56,
   "metadata": {},
   "outputs": [
    {
     "name": "stdout",
     "output_type": "stream",
     "text": [
      "[u'zaarly referrals', u'zaarlyiscoming', u'zaarlyiscoming winning', u'zagg', u'zagg keyboard', u'zaggle', u'zaggle showed', u'zap', u'zap lt', u'zappos', u'zappos amp', u'zappos and', u'zappos likability', u'zappos likeability', u'zazzlesxsw', u'zazzlesxsw link', u'zazzlesxsw sxsw', u'zazzlesxsw sxswi', u'ze', u'ze frank', u'zelda', u'zelda on', u'zeldman', u'zeldman autocorrects', u'zero', u'zero juice', u'zimride', u'zimride etc', u'zing', u'zing check', u'zip', u'zip it', u'zite', u'zite the', u'zms', u'zms mention', u'zombies', u'zombies sxsw', u'zombies what', u'zomg', u'zomg its', u'zomg mention', u'zomg rt', u'zone', u'zone right', u'zoom', u'zoom in', u'zoom to', u'zzzs', u'zzzs iphone']\n"
     ]
    }
   ],
   "source": [
    "print vect.get_feature_names()[-50:]"
   ]
  },
  {
   "cell_type": "markdown",
   "metadata": {},
   "source": [
    "#### Tip: To see all available functions for an Object use dir"
   ]
  },
  {
   "cell_type": "code",
   "execution_count": 57,
   "metadata": {},
   "outputs": [
    {
     "data": {
      "text/plain": [
       "['__class__',\n",
       " '__delattr__',\n",
       " '__dict__',\n",
       " '__doc__',\n",
       " '__format__',\n",
       " '__getattribute__',\n",
       " '__getstate__',\n",
       " '__hash__',\n",
       " '__init__',\n",
       " '__module__',\n",
       " '__new__',\n",
       " '__reduce__',\n",
       " '__reduce_ex__',\n",
       " '__repr__',\n",
       " '__setattr__',\n",
       " '__setstate__',\n",
       " '__sizeof__',\n",
       " '__str__',\n",
       " '__subclasshook__',\n",
       " '__weakref__',\n",
       " '_char_ngrams',\n",
       " '_char_wb_ngrams',\n",
       " '_check_vocabulary',\n",
       " '_count_vocab',\n",
       " '_get_param_names',\n",
       " '_limit_features',\n",
       " '_sort_features',\n",
       " '_validate_vocabulary',\n",
       " '_white_spaces',\n",
       " '_word_ngrams',\n",
       " 'analyzer',\n",
       " 'binary',\n",
       " 'build_analyzer',\n",
       " 'build_preprocessor',\n",
       " 'build_tokenizer',\n",
       " 'decode',\n",
       " 'decode_error',\n",
       " 'dtype',\n",
       " 'encoding',\n",
       " 'fit',\n",
       " 'fit_transform',\n",
       " 'fixed_vocabulary_',\n",
       " 'get_feature_names',\n",
       " 'get_params',\n",
       " 'get_stop_words',\n",
       " 'input',\n",
       " 'inverse_transform',\n",
       " 'lowercase',\n",
       " 'max_df',\n",
       " 'max_features',\n",
       " 'min_df',\n",
       " 'ngram_range',\n",
       " 'preprocessor',\n",
       " 'set_params',\n",
       " 'stop_words',\n",
       " 'stop_words_',\n",
       " 'strip_accents',\n",
       " 'token_pattern',\n",
       " 'tokenizer',\n",
       " 'transform',\n",
       " 'vocabulary',\n",
       " 'vocabulary_']"
      ]
     },
     "execution_count": 57,
     "metadata": {},
     "output_type": "execute_result"
    }
   ],
   "source": [
    "dir(vect)"
   ]
  },
  {
   "cell_type": "markdown",
   "metadata": {},
   "source": [
    "### Find out how many Positive and Negative emotions are there.\n",
    "\n",
    "Hint: Use value_counts on that column"
   ]
  },
  {
   "cell_type": "code",
   "execution_count": 49,
   "metadata": {},
   "outputs": [
    {
     "data": {
      "text/plain": [
       "Positive emotion    2978\n",
       "Negative emotion     570\n",
       "Name: is_there_an_emotion_directed_at_a_brand_or_product, dtype: int64"
      ]
     },
     "execution_count": 49,
     "metadata": {},
     "output_type": "execute_result"
    }
   ],
   "source": [
    "mod_data['is_there_an_emotion_directed_at_a_brand_or_product'].value_counts()"
   ]
  },
  {
   "cell_type": "markdown",
   "metadata": {},
   "source": [
    "### Change the labels for Positive and Negative emotions as 1 and 0 respectively.\n",
    "\n",
    "Hint: use map on that column and give labels"
   ]
  },
  {
   "cell_type": "code",
   "execution_count": 61,
   "metadata": {
    "collapsed": true
   },
   "outputs": [],
   "source": [
    "y = {'Positive emotion' : 1 , 'Negative emotion':0}"
   ]
  },
  {
   "cell_type": "code",
   "execution_count": 64,
   "metadata": {
    "collapsed": true
   },
   "outputs": [],
   "source": [
    "mod_data['label'] = mod_data['is_there_an_emotion_directed_at_a_brand_or_product'].map(y)"
   ]
  },
  {
   "cell_type": "code",
   "execution_count": 65,
   "metadata": {},
   "outputs": [
    {
     "data": {
      "text/html": [
       "<div>\n",
       "<style scoped>\n",
       "    .dataframe tbody tr th:only-of-type {\n",
       "        vertical-align: middle;\n",
       "    }\n",
       "\n",
       "    .dataframe tbody tr th {\n",
       "        vertical-align: top;\n",
       "    }\n",
       "\n",
       "    .dataframe thead th {\n",
       "        text-align: right;\n",
       "    }\n",
       "</style>\n",
       "<table border=\"1\" class=\"dataframe\">\n",
       "  <thead>\n",
       "    <tr style=\"text-align: right;\">\n",
       "      <th></th>\n",
       "      <th>tweet_text</th>\n",
       "      <th>emotion_in_tweet_is_directed_at</th>\n",
       "      <th>is_there_an_emotion_directed_at_a_brand_or_product</th>\n",
       "      <th>text</th>\n",
       "      <th>label</th>\n",
       "    </tr>\n",
       "  </thead>\n",
       "  <tbody>\n",
       "    <tr>\n",
       "      <th>0</th>\n",
       "      <td>.@wesley83 I have a 3G iPhone. After 3 hrs twe...</td>\n",
       "      <td>iPhone</td>\n",
       "      <td>Negative emotion</td>\n",
       "      <td>.@wesley83 I have a 3G iPhone. After 3 hrs twe...</td>\n",
       "      <td>0</td>\n",
       "    </tr>\n",
       "    <tr>\n",
       "      <th>1</th>\n",
       "      <td>@jessedee Know about @fludapp ? Awesome iPad/i...</td>\n",
       "      <td>iPad or iPhone App</td>\n",
       "      <td>Positive emotion</td>\n",
       "      <td>@jessedee Know about @fludapp ? Awesome iPad/i...</td>\n",
       "      <td>1</td>\n",
       "    </tr>\n",
       "    <tr>\n",
       "      <th>2</th>\n",
       "      <td>@swonderlin Can not wait for #iPad 2 also. The...</td>\n",
       "      <td>iPad</td>\n",
       "      <td>Positive emotion</td>\n",
       "      <td>@swonderlin Can not wait for #iPad 2 also. The...</td>\n",
       "      <td>1</td>\n",
       "    </tr>\n",
       "    <tr>\n",
       "      <th>3</th>\n",
       "      <td>@sxsw I hope this year's festival isn't as cra...</td>\n",
       "      <td>iPad or iPhone App</td>\n",
       "      <td>Negative emotion</td>\n",
       "      <td>@sxsw I hope this year's festival isn't as cra...</td>\n",
       "      <td>0</td>\n",
       "    </tr>\n",
       "    <tr>\n",
       "      <th>4</th>\n",
       "      <td>@sxtxstate great stuff on Fri #SXSW: Marissa M...</td>\n",
       "      <td>Google</td>\n",
       "      <td>Positive emotion</td>\n",
       "      <td>@sxtxstate great stuff on Fri #SXSW: Marissa M...</td>\n",
       "      <td>1</td>\n",
       "    </tr>\n",
       "  </tbody>\n",
       "</table>\n",
       "</div>"
      ],
      "text/plain": [
       "                                          tweet_text  \\\n",
       "0  .@wesley83 I have a 3G iPhone. After 3 hrs twe...   \n",
       "1  @jessedee Know about @fludapp ? Awesome iPad/i...   \n",
       "2  @swonderlin Can not wait for #iPad 2 also. The...   \n",
       "3  @sxsw I hope this year's festival isn't as cra...   \n",
       "4  @sxtxstate great stuff on Fri #SXSW: Marissa M...   \n",
       "\n",
       "  emotion_in_tweet_is_directed_at  \\\n",
       "0                          iPhone   \n",
       "1              iPad or iPhone App   \n",
       "2                            iPad   \n",
       "3              iPad or iPhone App   \n",
       "4                          Google   \n",
       "\n",
       "  is_there_an_emotion_directed_at_a_brand_or_product  \\\n",
       "0                                   Negative emotion   \n",
       "1                                   Positive emotion   \n",
       "2                                   Positive emotion   \n",
       "3                                   Negative emotion   \n",
       "4                                   Positive emotion   \n",
       "\n",
       "                                                text  label  \n",
       "0  .@wesley83 I have a 3G iPhone. After 3 hrs twe...      0  \n",
       "1  @jessedee Know about @fludapp ? Awesome iPad/i...      1  \n",
       "2  @swonderlin Can not wait for #iPad 2 also. The...      1  \n",
       "3  @sxsw I hope this year's festival isn't as cra...      0  \n",
       "4  @sxtxstate great stuff on Fri #SXSW: Marissa M...      1  "
      ]
     },
     "execution_count": 65,
     "metadata": {},
     "output_type": "execute_result"
    }
   ],
   "source": [
    "mod_data.head()"
   ]
  },
  {
   "cell_type": "markdown",
   "metadata": {},
   "source": [
    "### Define feature set as `text` column and above labels as target  and divide into train and test datasets"
   ]
  },
  {
   "cell_type": "code",
   "execution_count": 67,
   "metadata": {},
   "outputs": [],
   "source": [
    "from sklearn.cross_validation import train_test_split\n",
    "\n",
    "X = mod_data['text']\n",
    "y = mod_data['label']\n",
    "\n",
    "# split the new DataFrame into training and testing sets\n",
    "X_train, X_test, y_train, y_test = train_test_split(X, y, test_size=0.3, random_state=42)"
   ]
  },
  {
   "cell_type": "markdown",
   "metadata": {},
   "source": [
    "## **Predicting the sentiment:**\n",
    "\n",
    "\n",
    "### Use Naive Bayes and Logistic Regression and their accuracy scores for predicting the sentiment of the given text"
   ]
  },
  {
   "cell_type": "code",
   "execution_count": 69,
   "metadata": {
    "collapsed": true
   },
   "outputs": [],
   "source": [
    "from sklearn.naive_bayes import MultinomialNB\n",
    "from sklearn.linear_model import LogisticRegression\n",
    "from sklearn import metrics"
   ]
  },
  {
   "cell_type": "code",
   "execution_count": 70,
   "metadata": {},
   "outputs": [
    {
     "name": "stdout",
     "output_type": "stream",
     "text": [
      "0.8666666666666667\n"
     ]
    }
   ],
   "source": [
    "vect = CountVectorizer(ngram_range=(1, 2))\n",
    "\n",
    "X_train_dtm = vect.fit_transform(X_train)\n",
    "X_test_dtm = vect.transform(X_test)\n",
    "\n",
    "nb = MultinomialNB()\n",
    "nb.fit(X_train_dtm, y_train)\n",
    "y_pred_class = nb.predict(X_test_dtm)\n",
    "\n",
    "print metrics.accuracy_score(y_test, y_pred_class)"
   ]
  },
  {
   "cell_type": "code",
   "execution_count": 71,
   "metadata": {},
   "outputs": [
    {
     "name": "stdout",
     "output_type": "stream",
     "text": [
      "0.8798122065727699\n"
     ]
    }
   ],
   "source": [
    "logreg = LogisticRegression()\n",
    "logreg.fit(X_train_dtm, y_train)\n",
    "y_pred_class = logreg.predict(X_test_dtm)\n",
    "\n",
    "print metrics.accuracy_score(y_test, y_pred_class)"
   ]
  },
  {
   "cell_type": "code",
   "execution_count": null,
   "metadata": {
    "collapsed": true
   },
   "outputs": [],
   "source": []
  }
 ],
 "metadata": {
  "kernelspec": {
   "display_name": "Python 2",
   "language": "python",
   "name": "python2"
  },
  "language_info": {
   "codemirror_mode": {
    "name": "ipython",
    "version": 2
   },
   "file_extension": ".py",
   "mimetype": "text/x-python",
   "name": "python",
   "nbconvert_exporter": "python",
   "pygments_lexer": "ipython2",
   "version": "2.7.14"
  }
 },
 "nbformat": 4,
 "nbformat_minor": 2
}
