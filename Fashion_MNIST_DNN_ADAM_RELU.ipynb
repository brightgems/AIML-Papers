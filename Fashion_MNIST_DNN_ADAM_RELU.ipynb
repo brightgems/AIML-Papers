{
 "cells": [
  {
   "cell_type": "markdown",
   "metadata": {
    "colab_type": "text",
    "id": "mCROJCvvTVqy"
   },
   "source": [
    "### Build a DNN using Keras with `RELU` and `ADAM`"
   ]
  },
  {
   "cell_type": "markdown",
   "metadata": {
    "colab_type": "text",
    "id": "-xyiRPQLTVq3",
    "slideshow": {
     "slide_type": "slide"
    }
   },
   "source": [
    "#### Load tensorflow"
   ]
  },
  {
   "cell_type": "code",
   "execution_count": 1,
   "metadata": {
    "colab": {},
    "colab_type": "code",
    "id": "A9BSrRbATVq6"
   },
   "outputs": [],
   "source": [
    "import tensorflow as tf\n",
    "\n",
    "tf.reset_default_graph()\n",
    "tf.set_random_seed(1)"
   ]
  },
  {
   "cell_type": "markdown",
   "metadata": {
    "colab_type": "text",
    "id": "FTrQd165TVq_",
    "slideshow": {
     "slide_type": "slide"
    }
   },
   "source": [
    "#### Collect Fashion mnist data from tf.keras.datasets "
   ]
  },
  {
   "cell_type": "code",
   "execution_count": 2,
   "metadata": {
    "colab": {},
    "colab_type": "code",
    "id": "mJXOR3h2TVrC"
   },
   "outputs": [],
   "source": [
    "(trainX, trainY),(testX, testY) = tf.keras.datasets.mnist.load_data()"
   ]
  },
  {
   "cell_type": "markdown",
   "metadata": {
    "colab_type": "text",
    "id": "R43CqXCxTVrF",
    "slideshow": {
     "slide_type": "slide"
    }
   },
   "source": [
    "#### Change train and test labels into one-hot vectors"
   ]
  },
  {
   "cell_type": "code",
   "execution_count": 3,
   "metadata": {
    "colab": {},
    "colab_type": "code",
    "id": "VhNCUc-9TVrH"
   },
   "outputs": [],
   "source": [
    "trainY = tf.keras.utils.to_categorical(trainY, num_classes=10)\n",
    "testY = tf.keras.utils.to_categorical(testY, num_classes=10)"
   ]
  },
  {
   "cell_type": "markdown",
   "metadata": {
    "colab_type": "text",
    "id": "qO8i4SIgTVrK",
    "slideshow": {
     "slide_type": "slide"
    }
   },
   "source": [
    "#### Build the Graph"
   ]
  },
  {
   "cell_type": "markdown",
   "metadata": {
    "colab_type": "text",
    "id": "A6dRhlM6TVrM"
   },
   "source": [
    "#### Initialize model, reshape & normalize data"
   ]
  },
  {
   "cell_type": "code",
   "execution_count": 8,
   "metadata": {
    "colab": {},
    "colab_type": "code",
    "id": "VYBdcJOaWjfd"
   },
   "outputs": [],
   "source": [
    "model = tf.keras.models.Sequential()\n",
    "model.add(tf.keras.layers.Reshape((784,),input_shape=(28,28,)))\n",
    "model.add(tf.keras.layers.BatchNormalization())"
   ]
  },
  {
   "cell_type": "markdown",
   "metadata": {
    "colab_type": "text",
    "id": "iz9HjxMJTVrR",
    "slideshow": {
     "slide_type": "slide"
    }
   },
   "source": [
    "#### Add two fully connected layers with 200 and 100 neurons respectively with `relu` activations. Add a dropout layer with `p=0.25`"
   ]
  },
  {
   "cell_type": "code",
   "execution_count": 9,
   "metadata": {
    "colab": {},
    "colab_type": "code",
    "id": "X23JFVYlTVrU"
   },
   "outputs": [],
   "source": [
    "model.add(tf.keras.layers.Dense(200, activation='relu'))\n",
    "model.add(tf.keras.layers.Dense(100, activation='relu'))\n",
    "model.add(tf.keras.layers.Dropout(0.25))"
   ]
  },
  {
   "cell_type": "markdown",
   "metadata": {
    "colab_type": "text",
    "id": "eZRqzoVlTVrY"
   },
   "source": [
    "### Add the output layer with a fully connected layer with 10 neurons with `softmax` activation. Use `categorical_crossentropy` loss and `adam` optimizer and train the network. And, report the final validation."
   ]
  },
  {
   "cell_type": "code",
   "execution_count": 10,
   "metadata": {
    "colab": {},
    "colab_type": "code",
    "id": "PW_qGey0TVrZ"
   },
   "outputs": [],
   "source": [
    "model.add(tf.keras.layers.Dense(10, activation='softmax'))\n",
    "adam_optimizer = tf.keras.optimizers.Adam()\n",
    "model.compile(optimizer=adam_optimizer, loss='categorical_crossentropy', metrics=['accuracy'])"
   ]
  },
  {
   "cell_type": "code",
   "execution_count": 11,
   "metadata": {
    "colab": {
     "base_uri": "https://localhost:8080/",
     "height": 1058
    },
    "colab_type": "code",
    "id": "NpNOO5dHY_zC",
    "outputId": "f6a13dd3-e836-4adf-c308-8e08f7e854dd"
   },
   "outputs": [
    {
     "name": "stdout",
     "output_type": "stream",
     "text": [
      "Train on 60000 samples, validate on 10000 samples\n",
      "WARNING:tensorflow:From C:\\Anaconda3\\lib\\site-packages\\tensorflow\\python\\ops\\math_ops.py:3066: to_int32 (from tensorflow.python.ops.math_ops) is deprecated and will be removed in a future version.\n",
      "Instructions for updating:\n",
      "Use tf.cast instead.\n",
      "Epoch 1/30\n",
      "60000/60000 [==============================] - 5s 84us/sample - loss: 0.2654 - acc: 0.9190 - val_loss: 0.1587 - val_acc: 0.9606\n",
      "Epoch 2/30\n",
      "60000/60000 [==============================] - 5s 78us/sample - loss: 0.1302 - acc: 0.9599 - val_loss: 0.1375 - val_acc: 0.9672\n",
      "Epoch 3/30\n",
      "60000/60000 [==============================] - 5s 78us/sample - loss: 0.0986 - acc: 0.9691 - val_loss: 0.1379 - val_acc: 0.9694\n",
      "Epoch 4/30\n",
      "60000/60000 [==============================] - 5s 77us/sample - loss: 0.0819 - acc: 0.9743 - val_loss: 0.1375 - val_acc: 0.9708\n",
      "Epoch 5/30\n",
      "60000/60000 [==============================] - 5s 78us/sample - loss: 0.0717 - acc: 0.9772 - val_loss: 0.1753 - val_acc: 0.9674\n",
      "Epoch 6/30\n",
      "60000/60000 [==============================] - 5s 76us/sample - loss: 0.0661 - acc: 0.9791 - val_loss: 0.1758 - val_acc: 0.9673\n",
      "Epoch 7/30\n",
      "60000/60000 [==============================] - 5s 76us/sample - loss: 0.0546 - acc: 0.9826 - val_loss: 0.1819 - val_acc: 0.9706\n",
      "Epoch 8/30\n",
      "60000/60000 [==============================] - 5s 76us/sample - loss: 0.0512 - acc: 0.9829 - val_loss: 0.2155 - val_acc: 0.9686\n",
      "Epoch 9/30\n",
      "60000/60000 [==============================] - 5s 78us/sample - loss: 0.0486 - acc: 0.9849 - val_loss: 0.1984 - val_acc: 0.9686\n",
      "Epoch 10/30\n",
      "60000/60000 [==============================] - 5s 83us/sample - loss: 0.0448 - acc: 0.9853 - val_loss: 0.1626 - val_acc: 0.9731\n",
      "Epoch 11/30\n",
      "60000/60000 [==============================] - 5s 80us/sample - loss: 0.0402 - acc: 0.9868 - val_loss: 0.2050 - val_acc: 0.9700\n",
      "Epoch 12/30\n",
      "60000/60000 [==============================] - 5s 80us/sample - loss: 0.0379 - acc: 0.9877 - val_loss: 0.2319 - val_acc: 0.9666\n",
      "Epoch 13/30\n",
      "60000/60000 [==============================] - 5s 79us/sample - loss: 0.0398 - acc: 0.9880 - val_loss: 0.2050 - val_acc: 0.9705\n",
      "Epoch 14/30\n",
      "60000/60000 [==============================] - 5s 78us/sample - loss: 0.0368 - acc: 0.9886 - val_loss: 0.2042 - val_acc: 0.9707\n",
      "Epoch 15/30\n",
      "60000/60000 [==============================] - 5s 80us/sample - loss: 0.0343 - acc: 0.9893 - val_loss: 0.2002 - val_acc: 0.9710\n",
      "Epoch 16/30\n",
      "60000/60000 [==============================] - 5s 79us/sample - loss: 0.0302 - acc: 0.9901 - val_loss: 0.2246 - val_acc: 0.9693\n",
      "Epoch 17/30\n",
      "60000/60000 [==============================] - 5s 78us/sample - loss: 0.0341 - acc: 0.9897 - val_loss: 0.2332 - val_acc: 0.9704\n",
      "Epoch 18/30\n",
      "60000/60000 [==============================] - 5s 78us/sample - loss: 0.0278 - acc: 0.9914 - val_loss: 0.2271 - val_acc: 0.9724\n",
      "Epoch 19/30\n",
      "60000/60000 [==============================] - 5s 79us/sample - loss: 0.0333 - acc: 0.9900 - val_loss: 0.2206 - val_acc: 0.9681\n",
      "Epoch 20/30\n",
      "60000/60000 [==============================] - 5s 78us/sample - loss: 0.0288 - acc: 0.9914 - val_loss: 0.2382 - val_acc: 0.9708\n",
      "Epoch 21/30\n",
      "60000/60000 [==============================] - 5s 78us/sample - loss: 0.0273 - acc: 0.9913 - val_loss: 0.2314 - val_acc: 0.9707\n",
      "Epoch 22/30\n",
      "60000/60000 [==============================] - 5s 79us/sample - loss: 0.0286 - acc: 0.9914 - val_loss: 0.2280 - val_acc: 0.9711\n",
      "Epoch 23/30\n",
      "60000/60000 [==============================] - 5s 78us/sample - loss: 0.0276 - acc: 0.9919 - val_loss: 0.2546 - val_acc: 0.9697\n",
      "Epoch 24/30\n",
      "60000/60000 [==============================] - 5s 79us/sample - loss: 0.0274 - acc: 0.9918 - val_loss: 0.2200 - val_acc: 0.9707\n",
      "Epoch 25/30\n",
      "60000/60000 [==============================] - 5s 78us/sample - loss: 0.0283 - acc: 0.9917 - val_loss: 0.2315 - val_acc: 0.9696\n",
      "Epoch 26/30\n",
      "60000/60000 [==============================] - 5s 80us/sample - loss: 0.0265 - acc: 0.9924 - val_loss: 0.2552 - val_acc: 0.9684\n",
      "Epoch 27/30\n",
      "60000/60000 [==============================] - 5s 78us/sample - loss: 0.0248 - acc: 0.9923 - val_loss: 0.2368 - val_acc: 0.9711\n",
      "Epoch 28/30\n",
      "60000/60000 [==============================] - 4s 74us/sample - loss: 0.0252 - acc: 0.9924 - val_loss: 0.2418 - val_acc: 0.9715\n",
      "Epoch 29/30\n",
      "60000/60000 [==============================] - 5s 79us/sample - loss: 0.0252 - acc: 0.9929 - val_loss: 0.2593 - val_acc: 0.9694\n",
      "Epoch 30/30\n",
      "60000/60000 [==============================] - 5s 78us/sample - loss: 0.0223 - acc: 0.9935 - val_loss: 0.2636 - val_acc: 0.9700\n"
     ]
    },
    {
     "data": {
      "text/plain": [
       "<tensorflow.python.keras.callbacks.History at 0x1317bb21f98>"
      ]
     },
     "execution_count": 11,
     "metadata": {},
     "output_type": "execute_result"
    }
   ],
   "source": [
    "model.fit(trainX,trainY, validation_data=(testX,testY), epochs=30, batch_size=32)"
   ]
  },
  {
   "cell_type": "code",
   "execution_count": 15,
   "metadata": {
    "colab": {
     "base_uri": "https://localhost:8080/",
     "height": 50
    },
    "colab_type": "code",
    "id": "X3Va7uJ6ZG_9",
    "outputId": "78042ed4-73ef-42fe-8127-6cc0fe1bf08d"
   },
   "outputs": [
    {
     "name": "stdout",
     "output_type": "stream",
     "text": [
      "10000/10000 [==============================] - 0s 44us/step\n",
      "[0.21927775472614838, 0.9723]\n"
     ]
    }
   ],
   "source": [
    "loss_and_metrics = model.evaluate(testX, testY)\n",
    "print(loss_and_metrics)"
   ]
  },
  {
   "cell_type": "code",
   "execution_count": 16,
   "metadata": {
    "colab": {
     "base_uri": "https://localhost:8080/",
     "height": 34
    },
    "colab_type": "code",
    "id": "sNrTnu3owmvT",
    "outputId": "460416b3-f7f8-4325-8955-abaa62ab94d9"
   },
   "outputs": [
    {
     "name": "stdout",
     "output_type": "stream",
     "text": [
      "Test validation accuracy:  0.9723\n"
     ]
    }
   ],
   "source": [
    "print(\"Test validation accuracy: \", loss_and_metrics[1])"
   ]
  },
  {
   "cell_type": "code",
   "execution_count": 0,
   "metadata": {
    "colab": {},
    "colab_type": "code",
    "id": "RtBNaVglxwt9"
   },
   "outputs": [],
   "source": []
  }
 ],
 "metadata": {
  "colab": {
   "collapsed_sections": [],
   "name": "Fashion_MNIST_DNN_ADAM_RELU.ipynb",
   "provenance": [],
   "toc_visible": true,
   "version": "0.3.2"
  },
  "kernelspec": {
   "display_name": "Python 3",
   "language": "python",
   "name": "python3"
  },
  "language_info": {
   "codemirror_mode": {
    "name": "ipython",
    "version": 3
   },
   "file_extension": ".py",
   "mimetype": "text/x-python",
   "name": "python",
   "nbconvert_exporter": "python",
   "pygments_lexer": "ipython3",
   "version": "3.7.1"
  }
 },
 "nbformat": 4,
 "nbformat_minor": 1
}
