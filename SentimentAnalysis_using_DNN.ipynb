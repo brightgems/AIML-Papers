{
  "nbformat": 4,
  "nbformat_minor": 0,
  "metadata": {
    "colab": {
      "name": "SentimentAnalysis_using_DNN.ipynb",
      "version": "0.3.2",
      "provenance": [],
      "collapsed_sections": [],
      "toc_visible": true
    },
    "kernelspec": {
      "name": "python3",
      "display_name": "Python 3"
    },
    "accelerator": "GPU"
  },
  "cells": [
    {
      "metadata": {
        "id": "VijGv-b1lYuX",
        "colab_type": "text"
      },
      "cell_type": "markdown",
      "source": [
        "In this, we will see how to dp sentiment analysis of text data using Deep Neural Networks."
      ]
    },
    {
      "metadata": {
        "id": "DTUmNipPlYub",
        "colab_type": "text"
      },
      "cell_type": "markdown",
      "source": [
        "### Read the dataset (tweets.csv)"
      ]
    },
    {
      "metadata": {
        "id": "RJScmqeMlYup",
        "colab_type": "code",
        "colab": {}
      },
      "cell_type": "code",
      "source": [
        "import pandas as pd\n",
        "\n",
        "tw = pd.read_csv('gdrive/My Drive/AIML/Project/CV/External/tweets.csv', engine='python')"
      ],
      "execution_count": 0,
      "outputs": []
    },
    {
      "metadata": {
        "id": "5zywT695njVS",
        "colab_type": "code",
        "colab": {
          "base_uri": "https://localhost:8080/",
          "height": 34
        },
        "outputId": "9b7ed28c-2f9d-488c-96e8-10597a6deb98"
      },
      "cell_type": "code",
      "source": [
        "tw.shape"
      ],
      "execution_count": 9,
      "outputs": [
        {
          "output_type": "execute_result",
          "data": {
            "text/plain": [
              "(9093, 3)"
            ]
          },
          "metadata": {
            "tags": []
          },
          "execution_count": 9
        }
      ]
    },
    {
      "metadata": {
        "id": "FhbD61CglYuu",
        "colab_type": "text"
      },
      "cell_type": "markdown",
      "source": [
        "### Change the labels for Positive and Negative emotions as 1 and 0 respectively.\n",
        "\n",
        "Hint: use map on that column and give labels `or` You can use labelEncoder also."
      ]
    },
    {
      "metadata": {
        "id": "CW7yRz9nnhh-",
        "colab_type": "code",
        "colab": {
          "base_uri": "https://localhost:8080/",
          "height": 101
        },
        "outputId": "26d424c5-f6c4-40a7-9f2e-472ec9b11f87"
      },
      "cell_type": "code",
      "source": [
        "tw.is_there_an_emotion_directed_at_a_brand_or_product.value_counts()"
      ],
      "execution_count": 10,
      "outputs": [
        {
          "output_type": "execute_result",
          "data": {
            "text/plain": [
              "No emotion toward brand or product    5389\n",
              "Positive emotion                      2978\n",
              "Negative emotion                       570\n",
              "I can't tell                           156\n",
              "Name: is_there_an_emotion_directed_at_a_brand_or_product, dtype: int64"
            ]
          },
          "metadata": {
            "tags": []
          },
          "execution_count": 10
        }
      ]
    },
    {
      "metadata": {
        "id": "hDBfyALTlYuv",
        "colab_type": "code",
        "colab": {
          "base_uri": "https://localhost:8080/",
          "height": 343
        },
        "outputId": "171ab76b-27fb-449b-f854-f6f7d9b317a5"
      },
      "cell_type": "code",
      "source": [
        "df = tw[(tw['is_there_an_emotion_directed_at_a_brand_or_product'] == 'Positive emotion') | (tw['is_there_an_emotion_directed_at_a_brand_or_product'] == 'Negative emotion')]\n",
        "df.head(10)"
      ],
      "execution_count": 11,
      "outputs": [
        {
          "output_type": "execute_result",
          "data": {
            "text/html": [
              "<div>\n",
              "<style scoped>\n",
              "    .dataframe tbody tr th:only-of-type {\n",
              "        vertical-align: middle;\n",
              "    }\n",
              "\n",
              "    .dataframe tbody tr th {\n",
              "        vertical-align: top;\n",
              "    }\n",
              "\n",
              "    .dataframe thead th {\n",
              "        text-align: right;\n",
              "    }\n",
              "</style>\n",
              "<table border=\"1\" class=\"dataframe\">\n",
              "  <thead>\n",
              "    <tr style=\"text-align: right;\">\n",
              "      <th></th>\n",
              "      <th>tweet_text</th>\n",
              "      <th>emotion_in_tweet_is_directed_at</th>\n",
              "      <th>is_there_an_emotion_directed_at_a_brand_or_product</th>\n",
              "    </tr>\n",
              "  </thead>\n",
              "  <tbody>\n",
              "    <tr>\n",
              "      <th>0</th>\n",
              "      <td>.@wesley83 I have a 3G iPhone. After 3 hrs twe...</td>\n",
              "      <td>iPhone</td>\n",
              "      <td>Negative emotion</td>\n",
              "    </tr>\n",
              "    <tr>\n",
              "      <th>1</th>\n",
              "      <td>@jessedee Know about @fludapp ? Awesome iPad/i...</td>\n",
              "      <td>iPad or iPhone App</td>\n",
              "      <td>Positive emotion</td>\n",
              "    </tr>\n",
              "    <tr>\n",
              "      <th>2</th>\n",
              "      <td>@swonderlin Can not wait for #iPad 2 also. The...</td>\n",
              "      <td>iPad</td>\n",
              "      <td>Positive emotion</td>\n",
              "    </tr>\n",
              "    <tr>\n",
              "      <th>3</th>\n",
              "      <td>@sxsw I hope this year's festival isn't as cra...</td>\n",
              "      <td>iPad or iPhone App</td>\n",
              "      <td>Negative emotion</td>\n",
              "    </tr>\n",
              "    <tr>\n",
              "      <th>4</th>\n",
              "      <td>@sxtxstate great stuff on Fri #SXSW: Marissa M...</td>\n",
              "      <td>Google</td>\n",
              "      <td>Positive emotion</td>\n",
              "    </tr>\n",
              "    <tr>\n",
              "      <th>7</th>\n",
              "      <td>#SXSW is just starting, #CTIA is around the co...</td>\n",
              "      <td>Android</td>\n",
              "      <td>Positive emotion</td>\n",
              "    </tr>\n",
              "    <tr>\n",
              "      <th>8</th>\n",
              "      <td>Beautifully smart and simple idea RT @madebyma...</td>\n",
              "      <td>iPad or iPhone App</td>\n",
              "      <td>Positive emotion</td>\n",
              "    </tr>\n",
              "    <tr>\n",
              "      <th>9</th>\n",
              "      <td>Counting down the days to #sxsw plus strong Ca...</td>\n",
              "      <td>Apple</td>\n",
              "      <td>Positive emotion</td>\n",
              "    </tr>\n",
              "    <tr>\n",
              "      <th>10</th>\n",
              "      <td>Excited to meet the @samsungmobileus at #sxsw ...</td>\n",
              "      <td>Android</td>\n",
              "      <td>Positive emotion</td>\n",
              "    </tr>\n",
              "    <tr>\n",
              "      <th>11</th>\n",
              "      <td>Find &amp;amp; Start Impromptu Parties at #SXSW Wi...</td>\n",
              "      <td>Android App</td>\n",
              "      <td>Positive emotion</td>\n",
              "    </tr>\n",
              "  </tbody>\n",
              "</table>\n",
              "</div>"
            ],
            "text/plain": [
              "                                           tweet_text  \\\n",
              "0   .@wesley83 I have a 3G iPhone. After 3 hrs twe...   \n",
              "1   @jessedee Know about @fludapp ? Awesome iPad/i...   \n",
              "2   @swonderlin Can not wait for #iPad 2 also. The...   \n",
              "3   @sxsw I hope this year's festival isn't as cra...   \n",
              "4   @sxtxstate great stuff on Fri #SXSW: Marissa M...   \n",
              "7   #SXSW is just starting, #CTIA is around the co...   \n",
              "8   Beautifully smart and simple idea RT @madebyma...   \n",
              "9   Counting down the days to #sxsw plus strong Ca...   \n",
              "10  Excited to meet the @samsungmobileus at #sxsw ...   \n",
              "11  Find &amp; Start Impromptu Parties at #SXSW Wi...   \n",
              "\n",
              "   emotion_in_tweet_is_directed_at  \\\n",
              "0                           iPhone   \n",
              "1               iPad or iPhone App   \n",
              "2                             iPad   \n",
              "3               iPad or iPhone App   \n",
              "4                           Google   \n",
              "7                          Android   \n",
              "8               iPad or iPhone App   \n",
              "9                            Apple   \n",
              "10                         Android   \n",
              "11                     Android App   \n",
              "\n",
              "   is_there_an_emotion_directed_at_a_brand_or_product  \n",
              "0                                    Negative emotion  \n",
              "1                                    Positive emotion  \n",
              "2                                    Positive emotion  \n",
              "3                                    Negative emotion  \n",
              "4                                    Positive emotion  \n",
              "7                                    Positive emotion  \n",
              "8                                    Positive emotion  \n",
              "9                                    Positive emotion  \n",
              "10                                   Positive emotion  \n",
              "11                                   Positive emotion  "
            ]
          },
          "metadata": {
            "tags": []
          },
          "execution_count": 11
        }
      ]
    },
    {
      "metadata": {
        "id": "DhK-4QnLop9_",
        "colab_type": "code",
        "colab": {
          "base_uri": "https://localhost:8080/",
          "height": 151
        },
        "outputId": "4258f6f8-4632-40a1-9d4c-d30d66caa0c3"
      },
      "cell_type": "code",
      "source": [
        "df['is_there_an_emotion_directed_at_a_brand_or_product'].replace('Positive emotion', 1, inplace=True)\n",
        "df['is_there_an_emotion_directed_at_a_brand_or_product'].replace('Negative emotion', 0, inplace=True)\n",
        "df['is_there_an_emotion_directed_at_a_brand_or_product'].value_counts()"
      ],
      "execution_count": 12,
      "outputs": [
        {
          "output_type": "stream",
          "text": [
            "/usr/local/lib/python3.6/dist-packages/pandas/core/generic.py:4619: SettingWithCopyWarning: \n",
            "A value is trying to be set on a copy of a slice from a DataFrame\n",
            "\n",
            "See the caveats in the documentation: http://pandas.pydata.org/pandas-docs/stable/indexing.html#indexing-view-versus-copy\n",
            "  self._update_inplace(new_data)\n"
          ],
          "name": "stderr"
        },
        {
          "output_type": "execute_result",
          "data": {
            "text/plain": [
              "1    2978\n",
              "0     570\n",
              "Name: is_there_an_emotion_directed_at_a_brand_or_product, dtype: int64"
            ]
          },
          "metadata": {
            "tags": []
          },
          "execution_count": 12
        }
      ]
    },
    {
      "metadata": {
        "slideshow": {
          "slide_type": "slide"
        },
        "id": "s0Ao6fmplYuz",
        "colab_type": "text"
      },
      "cell_type": "markdown",
      "source": [
        "\n",
        "### Convert Text Into numbers"
      ]
    },
    {
      "metadata": {
        "id": "SUTbAWyzlYu1",
        "colab_type": "code",
        "colab": {}
      },
      "cell_type": "code",
      "source": [
        "import tensorflow as tf\n",
        "from tensorflow.keras.preprocessing.text import Tokenizer"
      ],
      "execution_count": 0,
      "outputs": []
    },
    {
      "metadata": {
        "slideshow": {
          "slide_type": "slide"
        },
        "id": "gbHFC5l0lYu5",
        "colab_type": "text"
      },
      "cell_type": "markdown",
      "source": [
        "#### Build Keras Tokenizer and fit on the text using `fit_on_texts` with no.of words=3000"
      ]
    },
    {
      "metadata": {
        "id": "WCliKH1llYu6",
        "colab_type": "code",
        "colab": {}
      },
      "cell_type": "code",
      "source": [
        "t = Tokenizer(3000)\n",
        "t.fit_on_texts(df['tweet_text'])"
      ],
      "execution_count": 0,
      "outputs": []
    },
    {
      "metadata": {
        "slideshow": {
          "slide_type": "slide"
        },
        "id": "Mw_OCC6clYu-",
        "colab_type": "text"
      },
      "cell_type": "markdown",
      "source": [
        "\n",
        "#### Convert Text Into numbers using `texts_to_matrix` with `TF-IDF` mode"
      ]
    },
    {
      "metadata": {
        "id": "jhm7uo3ZlYu_",
        "colab_type": "code",
        "colab": {
          "base_uri": "https://localhost:8080/",
          "height": 50
        },
        "outputId": "98125d9c-c28f-4bbc-8607-6906240e8377"
      },
      "cell_type": "code",
      "source": [
        "dtm = t.texts_to_matrix(df['tweet_text'], 'tfidf')\n",
        "df_with_dtm = pd.DataFrame(dtm)\n",
        "print(df_with_dtm.shape)\n",
        "print(df['is_there_an_emotion_directed_at_a_brand_or_product'].shape)"
      ],
      "execution_count": 15,
      "outputs": [
        {
          "output_type": "stream",
          "text": [
            "(3548, 3000)\n",
            "(3548,)\n"
          ],
          "name": "stdout"
        }
      ]
    },
    {
      "metadata": {
        "slideshow": {
          "slide_type": "slide"
        },
        "id": "MruC_DvPlYvD",
        "colab_type": "text"
      },
      "cell_type": "markdown",
      "source": [
        "### Build the Graph\n",
        "\n",
        "#### Normalize the data using BatchNormalization layer, add fully connected layers with `200, 100, 60, 30, 1` neurons  with `relu` activations for hidden layers and `sigmoid` activation for the output layer. Use `binary_crossentropy` loss and `adam` optimizer for training the model. And, report the final validation accuracy."
      ]
    },
    {
      "metadata": {
        "id": "XXiRNhf-lYvG",
        "colab_type": "code",
        "colab": {}
      },
      "cell_type": "code",
      "source": [
        "model = tf.keras.models.Sequential()\n",
        "\n",
        "model.add(tf.keras.layers.Dense(200, activation='relu', input_shape=(3000,)) )\n",
        "model.add(tf.keras.layers.BatchNormalization())\n",
        "model.add(tf.keras.layers.Dense(100, activation='relu'))\n",
        "model.add(tf.keras.layers.Dense(60, activation='relu'))\n",
        "model.add(tf.keras.layers.Dense(30, activation='relu'))\n",
        "model.add(tf.keras.layers.Dense(1, activation='sigmoid'))\n",
        "\n",
        "adam_optimizer = tf.keras.optimizers.Adam()\n",
        "\n",
        "#Compile the model\n",
        "model.compile(optimizer=adam_optimizer, loss='binary_crossentropy', metrics=['accuracy'])"
      ],
      "execution_count": 0,
      "outputs": []
    },
    {
      "metadata": {
        "id": "FV8q8ucJlYvK",
        "colab_type": "code",
        "colab": {}
      },
      "cell_type": "code",
      "source": [
        "from sklearn.model_selection import train_test_split\n",
        "\n",
        "X_train, X_test, y_train, y_test = train_test_split(df_with_dtm, df['is_there_an_emotion_directed_at_a_brand_or_product'], test_size=0.3, random_state=5)"
      ],
      "execution_count": 0,
      "outputs": []
    },
    {
      "metadata": {
        "id": "xRem1HYclYvN",
        "colab_type": "code",
        "colab": {
          "base_uri": "https://localhost:8080/",
          "height": 1058
        },
        "outputId": "e9ffb84e-a5b2-4e13-b0e4-81cea2af4ca4"
      },
      "cell_type": "code",
      "source": [
        "model.fit(X_train.values,y_train.values, validation_data=(X_test.values, y_test.values), epochs=30, batch_size=32)"
      ],
      "execution_count": 18,
      "outputs": [
        {
          "output_type": "stream",
          "text": [
            "Train on 2483 samples, validate on 1065 samples\n",
            "Epoch 1/30\n",
            "2483/2483 [==============================] - 3s 1ms/step - loss: 0.4394 - acc: 0.8014 - val_loss: 0.4246 - val_acc: 0.8413\n",
            "Epoch 2/30\n",
            "2483/2483 [==============================] - 1s 396us/step - loss: 0.1324 - acc: 0.9525 - val_loss: 0.3189 - val_acc: 0.8779\n",
            "Epoch 3/30\n",
            "2483/2483 [==============================] - 1s 400us/step - loss: 0.0413 - acc: 0.9895 - val_loss: 0.3493 - val_acc: 0.8723\n",
            "Epoch 4/30\n",
            "2483/2483 [==============================] - 1s 409us/step - loss: 0.0234 - acc: 0.9936 - val_loss: 0.3910 - val_acc: 0.8808\n",
            "Epoch 5/30\n",
            "2483/2483 [==============================] - 1s 403us/step - loss: 0.0147 - acc: 0.9952 - val_loss: 0.4626 - val_acc: 0.8742\n",
            "Epoch 6/30\n",
            "2483/2483 [==============================] - 1s 413us/step - loss: 0.0139 - acc: 0.9948 - val_loss: 0.5069 - val_acc: 0.8695\n",
            "Epoch 7/30\n",
            "2483/2483 [==============================] - 1s 415us/step - loss: 0.0100 - acc: 0.9964 - val_loss: 0.5237 - val_acc: 0.8704\n",
            "Epoch 8/30\n",
            "2483/2483 [==============================] - 1s 416us/step - loss: 0.0119 - acc: 0.9952 - val_loss: 0.5276 - val_acc: 0.8714\n",
            "Epoch 9/30\n",
            "2483/2483 [==============================] - 1s 409us/step - loss: 0.0089 - acc: 0.9960 - val_loss: 0.5556 - val_acc: 0.8704\n",
            "Epoch 10/30\n",
            "2483/2483 [==============================] - 1s 408us/step - loss: 0.0089 - acc: 0.9960 - val_loss: 0.5933 - val_acc: 0.8704\n",
            "Epoch 11/30\n",
            "2483/2483 [==============================] - 1s 414us/step - loss: 0.0069 - acc: 0.9968 - val_loss: 0.6005 - val_acc: 0.8657\n",
            "Epoch 12/30\n",
            "2483/2483 [==============================] - 1s 416us/step - loss: 0.0079 - acc: 0.9960 - val_loss: 0.6161 - val_acc: 0.8817\n",
            "Epoch 13/30\n",
            "2483/2483 [==============================] - 1s 412us/step - loss: 0.0140 - acc: 0.9940 - val_loss: 0.6313 - val_acc: 0.8770\n",
            "Epoch 14/30\n",
            "2483/2483 [==============================] - 1s 409us/step - loss: 0.0175 - acc: 0.9932 - val_loss: 0.6796 - val_acc: 0.8638\n",
            "Epoch 15/30\n",
            "2483/2483 [==============================] - 1s 406us/step - loss: 0.0267 - acc: 0.9895 - val_loss: 0.6732 - val_acc: 0.8498\n",
            "Epoch 16/30\n",
            "2483/2483 [==============================] - 1s 407us/step - loss: 0.0372 - acc: 0.9887 - val_loss: 0.6521 - val_acc: 0.8582\n",
            "Epoch 17/30\n",
            "2483/2483 [==============================] - 1s 413us/step - loss: 0.0376 - acc: 0.9867 - val_loss: 0.5942 - val_acc: 0.8582\n",
            "Epoch 18/30\n",
            "2483/2483 [==============================] - 1s 415us/step - loss: 0.0237 - acc: 0.9919 - val_loss: 0.6917 - val_acc: 0.8657\n",
            "Epoch 19/30\n",
            "2483/2483 [==============================] - 1s 408us/step - loss: 0.0214 - acc: 0.9932 - val_loss: 0.6426 - val_acc: 0.8563\n",
            "Epoch 20/30\n",
            "2483/2483 [==============================] - 1s 429us/step - loss: 0.0109 - acc: 0.9940 - val_loss: 0.6718 - val_acc: 0.8648\n",
            "Epoch 21/30\n",
            "2483/2483 [==============================] - 1s 416us/step - loss: 0.0105 - acc: 0.9948 - val_loss: 0.7516 - val_acc: 0.8563\n",
            "Epoch 22/30\n",
            "2483/2483 [==============================] - 1s 412us/step - loss: 0.0089 - acc: 0.9952 - val_loss: 0.7200 - val_acc: 0.8573\n",
            "Epoch 23/30\n",
            "2483/2483 [==============================] - 1s 419us/step - loss: 0.0062 - acc: 0.9956 - val_loss: 0.7483 - val_acc: 0.8563\n",
            "Epoch 24/30\n",
            "2483/2483 [==============================] - 1s 415us/step - loss: 0.0052 - acc: 0.9960 - val_loss: 0.7772 - val_acc: 0.8563\n",
            "Epoch 25/30\n",
            "2483/2483 [==============================] - 1s 407us/step - loss: 0.0069 - acc: 0.9960 - val_loss: 0.7746 - val_acc: 0.8582\n",
            "Epoch 26/30\n",
            "2483/2483 [==============================] - 1s 413us/step - loss: 0.0050 - acc: 0.9960 - val_loss: 0.8007 - val_acc: 0.8573\n",
            "Epoch 27/30\n",
            "2483/2483 [==============================] - 1s 407us/step - loss: 0.0055 - acc: 0.9964 - val_loss: 0.8151 - val_acc: 0.8582\n",
            "Epoch 28/30\n",
            "2483/2483 [==============================] - 1s 417us/step - loss: 0.0058 - acc: 0.9964 - val_loss: 0.8295 - val_acc: 0.8545\n",
            "Epoch 29/30\n",
            "2483/2483 [==============================] - 1s 418us/step - loss: 0.0086 - acc: 0.9956 - val_loss: 0.8091 - val_acc: 0.8620\n",
            "Epoch 30/30\n",
            "2483/2483 [==============================] - 1s 407us/step - loss: 0.0097 - acc: 0.9956 - val_loss: 0.7560 - val_acc: 0.8620\n"
          ],
          "name": "stdout"
        },
        {
          "output_type": "execute_result",
          "data": {
            "text/plain": [
              "<tensorflow.python.keras.callbacks.History at 0x7f558e42ac50>"
            ]
          },
          "metadata": {
            "tags": []
          },
          "execution_count": 18
        }
      ]
    },
    {
      "metadata": {
        "id": "_M2E-lnGlYvQ",
        "colab_type": "code",
        "colab": {
          "base_uri": "https://localhost:8080/",
          "height": 50
        },
        "outputId": "bb915fe8-1fac-45cb-e2da-4309ff85d79c"
      },
      "cell_type": "code",
      "source": [
        "loss_and_metrics_test = model.evaluate(X_test, y_test)\n",
        "print(loss_and_metrics_test)"
      ],
      "execution_count": 19,
      "outputs": [
        {
          "output_type": "stream",
          "text": [
            "1065/1065 [==============================] - 0s 96us/step\n",
            "[0.7559794236796563, 0.8619718311538159]\n"
          ],
          "name": "stdout"
        }
      ]
    },
    {
      "metadata": {
        "id": "h9QLpdeSqbJb",
        "colab_type": "code",
        "colab": {
          "base_uri": "https://localhost:8080/",
          "height": 34
        },
        "outputId": "32aea5e7-fe82-4484-ce40-6d8076ea3e6c"
      },
      "cell_type": "code",
      "source": [
        "print('Validation Accuracy: ', loss_and_metrics_test[1])"
      ],
      "execution_count": 20,
      "outputs": [
        {
          "output_type": "stream",
          "text": [
            "Validation Accuracy:  0.8619718311538159\n"
          ],
          "name": "stdout"
        }
      ]
    },
    {
      "metadata": {
        "id": "CJNmLJjSqqN1",
        "colab_type": "code",
        "colab": {}
      },
      "cell_type": "code",
      "source": [
        ""
      ],
      "execution_count": 0,
      "outputs": []
    }
  ]
}