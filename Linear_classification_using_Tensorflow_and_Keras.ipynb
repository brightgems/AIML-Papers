{
 "cells": [
  {
   "cell_type": "markdown",
   "metadata": {},
   "source": [
    "### Load tensorflow"
   ]
  },
  {
   "cell_type": "code",
   "execution_count": 1,
   "metadata": {},
   "outputs": [
    {
     "name": "stderr",
     "output_type": "stream",
     "text": [
      "/usr/local/anaconda/python3/lib/python3.6/site-packages/h5py/__init__.py:34: FutureWarning: Conversion of the second argument of issubdtype from `float` to `np.floating` is deprecated. In future, it will be treated as `np.float64 == np.dtype(float).type`.\n",
      "  from ._conv import register_converters as _register_converters\n"
     ]
    }
   ],
   "source": [
    "import tensorflow as tf"
   ]
  },
  {
   "cell_type": "code",
   "execution_count": 2,
   "metadata": {
    "collapsed": true,
    "slideshow": {
     "slide_type": "fragment"
    }
   },
   "outputs": [],
   "source": [
    "#Reset Default graph - Needed only for Jupyter notebook\n",
    "tf.reset_default_graph()"
   ]
  },
  {
   "cell_type": "markdown",
   "metadata": {
    "slideshow": {
     "slide_type": "slide"
    }
   },
   "source": [
    "### Collect Data (prices.csv)"
   ]
  },
  {
   "cell_type": "code",
   "execution_count": 3,
   "metadata": {
    "collapsed": true
   },
   "outputs": [],
   "source": [
    "import pandas as pd\n",
    "\n",
    "data = pd.read_csv('prices.csv')"
   ]
  },
  {
   "cell_type": "code",
   "execution_count": 4,
   "metadata": {},
   "outputs": [
    {
     "data": {
      "text/html": [
       "<div>\n",
       "<style scoped>\n",
       "    .dataframe tbody tr th:only-of-type {\n",
       "        vertical-align: middle;\n",
       "    }\n",
       "\n",
       "    .dataframe tbody tr th {\n",
       "        vertical-align: top;\n",
       "    }\n",
       "\n",
       "    .dataframe thead th {\n",
       "        text-align: right;\n",
       "    }\n",
       "</style>\n",
       "<table border=\"1\" class=\"dataframe\">\n",
       "  <thead>\n",
       "    <tr style=\"text-align: right;\">\n",
       "      <th></th>\n",
       "      <th>date</th>\n",
       "      <th>symbol</th>\n",
       "      <th>open</th>\n",
       "      <th>close</th>\n",
       "      <th>low</th>\n",
       "      <th>high</th>\n",
       "      <th>volume</th>\n",
       "    </tr>\n",
       "  </thead>\n",
       "  <tbody>\n",
       "    <tr>\n",
       "      <th>0</th>\n",
       "      <td>2016-01-05 00:00:00</td>\n",
       "      <td>WLTW</td>\n",
       "      <td>123.430000</td>\n",
       "      <td>125.839996</td>\n",
       "      <td>122.309998</td>\n",
       "      <td>126.250000</td>\n",
       "      <td>2163600.0</td>\n",
       "    </tr>\n",
       "    <tr>\n",
       "      <th>1</th>\n",
       "      <td>2016-01-06 00:00:00</td>\n",
       "      <td>WLTW</td>\n",
       "      <td>125.239998</td>\n",
       "      <td>119.980003</td>\n",
       "      <td>119.940002</td>\n",
       "      <td>125.540001</td>\n",
       "      <td>2386400.0</td>\n",
       "    </tr>\n",
       "    <tr>\n",
       "      <th>2</th>\n",
       "      <td>2016-01-07 00:00:00</td>\n",
       "      <td>WLTW</td>\n",
       "      <td>116.379997</td>\n",
       "      <td>114.949997</td>\n",
       "      <td>114.930000</td>\n",
       "      <td>119.739998</td>\n",
       "      <td>2489500.0</td>\n",
       "    </tr>\n",
       "    <tr>\n",
       "      <th>3</th>\n",
       "      <td>2016-01-08 00:00:00</td>\n",
       "      <td>WLTW</td>\n",
       "      <td>115.480003</td>\n",
       "      <td>116.620003</td>\n",
       "      <td>113.500000</td>\n",
       "      <td>117.440002</td>\n",
       "      <td>2006300.0</td>\n",
       "    </tr>\n",
       "    <tr>\n",
       "      <th>4</th>\n",
       "      <td>2016-01-11 00:00:00</td>\n",
       "      <td>WLTW</td>\n",
       "      <td>117.010002</td>\n",
       "      <td>114.970001</td>\n",
       "      <td>114.089996</td>\n",
       "      <td>117.330002</td>\n",
       "      <td>1408600.0</td>\n",
       "    </tr>\n",
       "  </tbody>\n",
       "</table>\n",
       "</div>"
      ],
      "text/plain": [
       "                  date symbol        open       close         low        high  \\\n",
       "0  2016-01-05 00:00:00   WLTW  123.430000  125.839996  122.309998  126.250000   \n",
       "1  2016-01-06 00:00:00   WLTW  125.239998  119.980003  119.940002  125.540001   \n",
       "2  2016-01-07 00:00:00   WLTW  116.379997  114.949997  114.930000  119.739998   \n",
       "3  2016-01-08 00:00:00   WLTW  115.480003  116.620003  113.500000  117.440002   \n",
       "4  2016-01-11 00:00:00   WLTW  117.010002  114.970001  114.089996  117.330002   \n",
       "\n",
       "      volume  \n",
       "0  2163600.0  \n",
       "1  2386400.0  \n",
       "2  2489500.0  \n",
       "3  2006300.0  \n",
       "4  1408600.0  "
      ]
     },
     "execution_count": 4,
     "metadata": {},
     "output_type": "execute_result"
    }
   ],
   "source": [
    "data.head()"
   ]
  },
  {
   "cell_type": "code",
   "execution_count": 5,
   "metadata": {},
   "outputs": [
    {
     "data": {
      "text/plain": [
       "date      0\n",
       "symbol    0\n",
       "open      0\n",
       "close     0\n",
       "low       0\n",
       "high      0\n",
       "volume    0\n",
       "dtype: int64"
      ]
     },
     "execution_count": 5,
     "metadata": {},
     "output_type": "execute_result"
    }
   ],
   "source": [
    "data.isna().sum()"
   ]
  },
  {
   "cell_type": "markdown",
   "metadata": {},
   "source": [
    "### Check all columns in the dataset"
   ]
  },
  {
   "cell_type": "code",
   "execution_count": 6,
   "metadata": {},
   "outputs": [
    {
     "data": {
      "text/plain": [
       "date       object\n",
       "symbol     object\n",
       "open      float64\n",
       "close     float64\n",
       "low       float64\n",
       "high      float64\n",
       "volume    float64\n",
       "dtype: object"
      ]
     },
     "execution_count": 6,
     "metadata": {},
     "output_type": "execute_result"
    }
   ],
   "source": [
    "data.dtypes"
   ]
  },
  {
   "cell_type": "markdown",
   "metadata": {},
   "source": [
    "### Drop columns `date` and  `symbol`"
   ]
  },
  {
   "cell_type": "code",
   "execution_count": 7,
   "metadata": {
    "collapsed": true
   },
   "outputs": [],
   "source": [
    "data = data.drop(['date', 'symbol'], axis=1)"
   ]
  },
  {
   "cell_type": "code",
   "execution_count": 8,
   "metadata": {},
   "outputs": [
    {
     "data": {
      "text/plain": [
       "(851264, 5)"
      ]
     },
     "execution_count": 8,
     "metadata": {},
     "output_type": "execute_result"
    }
   ],
   "source": [
    "data.shape"
   ]
  },
  {
   "cell_type": "markdown",
   "metadata": {},
   "source": [
    "### Consider only first 1000 rows in the dataset for building feature set and target set"
   ]
  },
  {
   "cell_type": "code",
   "execution_count": 9,
   "metadata": {},
   "outputs": [
    {
     "name": "stdout",
     "output_type": "stream",
     "text": [
      "(1000, 5)\n"
     ]
    }
   ],
   "source": [
    "subdata = data.head(1000)\n",
    "print(subdata.shape)"
   ]
  },
  {
   "cell_type": "markdown",
   "metadata": {},
   "source": [
    "### Divide the data into train and test sets"
   ]
  },
  {
   "cell_type": "code",
   "execution_count": 10,
   "metadata": {
    "collapsed": true
   },
   "outputs": [],
   "source": [
    "from sklearn.model_selection import train_test_split\n",
    "\n",
    "features = subdata.drop('volume', axis=1)\n",
    "target = subdata['volume']\n",
    "\n",
    "X_train, X_test, y_train, y_test = train_test_split(features, target, test_size=0.3, random_state=42)"
   ]
  },
  {
   "cell_type": "code",
   "execution_count": 11,
   "metadata": {},
   "outputs": [
    {
     "name": "stdout",
     "output_type": "stream",
     "text": [
      "(700, 4) (300, 4) (700,) (300,)\n"
     ]
    }
   ],
   "source": [
    "print(X_train.shape, X_test.shape, y_train.shape, y_test.shape)"
   ]
  },
  {
   "cell_type": "markdown",
   "metadata": {
    "slideshow": {
     "slide_type": "slide"
    }
   },
   "source": [
    "## Building the graph in tensorflow"
   ]
  },
  {
   "cell_type": "markdown",
   "metadata": {
    "slideshow": {
     "slide_type": "slide"
    }
   },
   "source": [
    "1.Define input data placeholders"
   ]
  },
  {
   "cell_type": "code",
   "execution_count": 12,
   "metadata": {
    "collapsed": true
   },
   "outputs": [],
   "source": [
    "#Input features\n",
    "x = tf.placeholder(shape=[None,4],dtype=tf.float32, name='x-input')\n",
    "\n",
    "#Normalize the data\n",
    "x_n = tf.layers.batch_normalization(x, training=True)\n",
    "\n",
    "#Actual Prices\n",
    "y_ = tf.placeholder(shape=[None],dtype=tf.float32, name='y-input')"
   ]
  },
  {
   "cell_type": "markdown",
   "metadata": {
    "slideshow": {
     "slide_type": "slide"
    }
   },
   "source": [
    "2.Define Weights and Bias"
   ]
  },
  {
   "cell_type": "code",
   "execution_count": 13,
   "metadata": {
    "collapsed": true
   },
   "outputs": [],
   "source": [
    "W = tf.Variable(tf.zeros(shape=[4,1]), name=\"Weights\")\n",
    "b = tf.Variable(tf.zeros(shape=[1]),name=\"Bias\")"
   ]
  },
  {
   "cell_type": "markdown",
   "metadata": {
    "slideshow": {
     "slide_type": "slide"
    }
   },
   "source": [
    "3.Prediction"
   ]
  },
  {
   "cell_type": "code",
   "execution_count": 14,
   "metadata": {
    "collapsed": true
   },
   "outputs": [],
   "source": [
    "y = tf.add(tf.matmul(x_n, W), b, name='output')"
   ]
  },
  {
   "cell_type": "markdown",
   "metadata": {
    "slideshow": {
     "slide_type": "slide"
    }
   },
   "source": [
    "4.Loss (Cost) Function [Mean square error]"
   ]
  },
  {
   "cell_type": "code",
   "execution_count": 15,
   "metadata": {
    "collapsed": true
   },
   "outputs": [],
   "source": [
    "loss = tf.reduce_mean(tf.square(y-y_), name='Loss')"
   ]
  },
  {
   "cell_type": "markdown",
   "metadata": {
    "slideshow": {
     "slide_type": "slide"
    }
   },
   "source": [
    "5.GradientDescent Optimizer to minimize Loss [GradientDescentOptimizer]"
   ]
  },
  {
   "cell_type": "code",
   "execution_count": 16,
   "metadata": {
    "collapsed": true
   },
   "outputs": [],
   "source": [
    "train_op = tf.train.GradientDescentOptimizer(0.0000001).minimize(loss)"
   ]
  },
  {
   "cell_type": "markdown",
   "metadata": {
    "slideshow": {
     "slide_type": "slide"
    }
   },
   "source": [
    "## Execute the Graph for 100 epochs and observe the loss"
   ]
  },
  {
   "cell_type": "code",
   "execution_count": 17,
   "metadata": {
    "collapsed": true
   },
   "outputs": [],
   "source": [
    "sess = tf.Session()"
   ]
  },
  {
   "cell_type": "code",
   "execution_count": 18,
   "metadata": {
    "collapsed": true
   },
   "outputs": [],
   "source": [
    "sess.run(tf.global_variables_initializer())"
   ]
  },
  {
   "cell_type": "code",
   "execution_count": 20,
   "metadata": {
    "collapsed": true
   },
   "outputs": [],
   "source": [
    "training_epochs = 100"
   ]
  },
  {
   "cell_type": "markdown",
   "metadata": {},
   "source": [
    "### Get the shapes and values of W and b\n",
    "\n",
    "Hint: Use sess.run(W) to get W."
   ]
  },
  {
   "cell_type": "code",
   "execution_count": 21,
   "metadata": {},
   "outputs": [
    {
     "data": {
      "text/plain": [
       "array([[0.],\n",
       "       [0.],\n",
       "       [0.],\n",
       "       [0.]], dtype=float32)"
      ]
     },
     "execution_count": 21,
     "metadata": {},
     "output_type": "execute_result"
    }
   ],
   "source": [
    "sess.run(W)"
   ]
  },
  {
   "cell_type": "code",
   "execution_count": 22,
   "metadata": {},
   "outputs": [
    {
     "data": {
      "text/plain": [
       "array([0.], dtype=float32)"
      ]
     },
     "execution_count": 22,
     "metadata": {},
     "output_type": "execute_result"
    }
   ],
   "source": [
    "sess.run(b)"
   ]
  },
  {
   "cell_type": "markdown",
   "metadata": {},
   "source": [
    "### Find the Absolute mean square loss difference between training and testing loss."
   ]
  },
  {
   "cell_type": "code",
   "execution_count": 23,
   "metadata": {},
   "outputs": [
    {
     "name": "stdout",
     "output_type": "stream",
     "text": [
      "Training loss at step:  0  is  250625820000000.0\n",
      "[[ 2.7187500e-07]\n",
      " [-2.3046876e-07]\n",
      " [-9.0898436e-07]\n",
      " [ 5.5429689e-07]]\n",
      "Training loss at step:  10  is  250625800000000.0\n",
      "[[ 0.00034011]\n",
      " [-0.00028797]\n",
      " [-0.00116109]\n",
      " [ 0.00071382]]\n",
      "Training loss at step:  20  is  250625590000000.0\n",
      "[[ 0.44493145]\n",
      " [-0.37676078]\n",
      " [-1.5189812 ]\n",
      " [ 0.93388295]]\n",
      "Training loss at step:  30  is  238562970000000.0\n",
      "[[  485.7965 ]\n",
      " [ -411.36224]\n",
      " [-1658.4819 ]\n",
      " [ 1019.6501 ]]\n",
      "Training loss at step:  40  is  224073430000000.0\n",
      "[[  475.79114]\n",
      " [ -402.88983]\n",
      " [-1624.3239 ]\n",
      " [  998.6495 ]]\n",
      "Training loss at step:  50  is  224101610000000.0\n",
      "[[  474.65793]\n",
      " [ -401.93   ]\n",
      " [-1620.4557 ]\n",
      " [  996.2711 ]]\n",
      "Training loss at step:  60  is  224103910000000.0\n",
      "[[  474.56747]\n",
      " [ -401.85297]\n",
      " [-1620.1461 ]\n",
      " [  996.08044]]\n",
      "Training loss at step:  70  is  224104100000000.0\n",
      "[[  474.5606 ]\n",
      " [ -401.84732]\n",
      " [-1620.1244 ]\n",
      " [  996.0661 ]]\n",
      "Training loss at step:  80  is  224104100000000.0\n",
      "[[  474.55963]\n",
      " [ -401.84628]\n",
      " [-1620.1195 ]\n",
      " [  996.0636 ]]\n",
      "Training loss at step:  90  is  224104100000000.0\n",
      "[[  474.55988]\n",
      " [ -401.8463 ]\n",
      " [-1620.1196 ]\n",
      " [  996.06396]]\n"
     ]
    }
   ],
   "source": [
    "for epoch in range(training_epochs):\n",
    "            \n",
    "    #Calculate train_op and loss\n",
    "    _, train_loss = sess.run([train_op, loss], feed_dict={x:X_train, y_:y_train})\n",
    "    \n",
    "    if epoch % 10 == 0:\n",
    "        print ('Training loss at step: ', epoch, ' is ', train_loss)\n",
    "        print (sess.run(W))"
   ]
  },
  {
   "cell_type": "code",
   "execution_count": 24,
   "metadata": {
    "collapsed": true
   },
   "outputs": [],
   "source": [
    "sess.close()"
   ]
  },
  {
   "cell_type": "code",
   "execution_count": 25,
   "metadata": {
    "collapsed": true
   },
   "outputs": [],
   "source": [
    "tf.reset_default_graph()"
   ]
  },
  {
   "cell_type": "markdown",
   "metadata": {},
   "source": [
    "### Linear Classification using Keras"
   ]
  },
  {
   "cell_type": "markdown",
   "metadata": {
    "slideshow": {
     "slide_type": "slide"
    }
   },
   "source": [
    "### Building the simple Neural Network in Keras with one neuron in the dense hidden layer.\n",
    "#### Use Mean square error as loss function and sgd as optimizer"
   ]
  },
  {
   "cell_type": "code",
   "execution_count": 26,
   "metadata": {
    "collapsed": true
   },
   "outputs": [],
   "source": [
    "model = tf.keras.models.Sequential()\n",
    "\n",
    "#model.add(tf.keras.layers.InputLayer(input_shape=(4,)))\n",
    "#model.add(tf.keras.layers.Reshape((4,),input_shape=(4,)))\n",
    "#model.add(tf.keras.layers.Dense())\n",
    "model.add(tf.keras.layers.BatchNormalization(input_shape=(4,)))\n",
    "model.add(tf.keras.layers.Dense(1, activation='sigmoid'))\n",
    "\n",
    "#Create optimizer with non-default learning rate\n",
    "sgd_optimizer = tf.keras.optimizers.SGD(lr=0.03)\n",
    "\n",
    "#Compile the model\n",
    "model.compile(optimizer=sgd_optimizer, loss='mse', metrics=['accuracy'])"
   ]
  },
  {
   "cell_type": "code",
   "execution_count": 27,
   "metadata": {},
   "outputs": [
    {
     "name": "stdout",
     "output_type": "stream",
     "text": [
      "_________________________________________________________________\n",
      "Layer (type)                 Output Shape              Param #   \n",
      "=================================================================\n",
      "batch_normalization_1 (Batch (None, 4)                 16        \n",
      "_________________________________________________________________\n",
      "dense_1 (Dense)              (None, 1)                 5         \n",
      "=================================================================\n",
      "Total params: 21\n",
      "Trainable params: 13\n",
      "Non-trainable params: 8\n",
      "_________________________________________________________________\n"
     ]
    }
   ],
   "source": [
    "model.summary()"
   ]
  },
  {
   "cell_type": "markdown",
   "metadata": {
    "slideshow": {
     "slide_type": "slide"
    }
   },
   "source": [
    "### Execute the model"
   ]
  },
  {
   "cell_type": "code",
   "execution_count": 28,
   "metadata": {},
   "outputs": [
    {
     "name": "stdout",
     "output_type": "stream",
     "text": [
      "Epoch 1/30\n",
      "700/700 [==============================] - 0s 297us/step - loss: 250649149117937.3750 - acc: 0.0000e+00\n",
      "Epoch 2/30\n",
      "700/700 [==============================] - 0s 37us/step - loss: 250649132927923.9062 - acc: 0.0000e+00\n",
      "Epoch 3/30\n",
      "700/700 [==============================] - 0s 38us/step - loss: 250649143785179.4375 - acc: 0.0000e+00\n",
      "Epoch 4/30\n",
      "700/700 [==============================] - 0s 38us/step - loss: 250649139015656.6250 - acc: 0.0000e+00\n",
      "Epoch 5/30\n",
      "700/700 [==============================] - 0s 36us/step - loss: 250649145295128.8750 - acc: 0.0000e+00\n",
      "Epoch 6/30\n",
      "700/700 [==============================] - 0s 36us/step - loss: 250649141340499.3750 - acc: 0.0000e+00\n",
      "Epoch 7/30\n",
      "700/700 [==============================] - 0s 39us/step - loss: 250649155145751.3750 - acc: 0.0000e+00\n",
      "Epoch 8/30\n",
      "700/700 [==============================] - 0s 37us/step - loss: 250649137565625.8125 - acc: 0.0000e+00\n",
      "Epoch 9/30\n",
      "700/700 [==============================] - 0s 37us/step - loss: 250649141484304.0938 - acc: 0.0000e+00\n",
      "Epoch 10/30\n",
      "700/700 [==============================] - 0s 38us/step - loss: 250649149010083.8125 - acc: 0.0000e+00\n",
      "Epoch 11/30\n",
      "700/700 [==============================] - 0s 37us/step - loss: 250649152964713.3125 - acc: 0.0000e+00\n",
      "Epoch 12/30\n",
      "700/700 [==============================] - 0s 37us/step - loss: 250649143138058.2500 - acc: 0.0000e+00\n",
      "Epoch 13/30\n",
      "700/700 [==============================] - 0s 37us/step - loss: 250649140393785.0625 - acc: 0.0000e+00\n",
      "Epoch 14/30\n",
      "700/700 [==============================] - 0s 38us/step - loss: 250649142880408.1250 - acc: 0.0000e+00\n",
      "Epoch 15/30\n",
      "700/700 [==============================] - 0s 37us/step - loss: 250649142994253.5312 - acc: 0.0000e+00\n",
      "Epoch 16/30\n",
      "700/700 [==============================] - 0s 36us/step - loss: 250649149944814.4688 - acc: 0.0000e+00\n",
      "Epoch 17/30\n",
      "700/700 [==============================] - 0s 37us/step - loss: 250649141532239.0000 - acc: 0.0000e+00\n",
      "Epoch 18/30\n",
      "700/700 [==============================] - 0s 38us/step - loss: 250649140094191.9062 - acc: 0.0000e+00\n",
      "Epoch 19/30\n",
      "700/700 [==============================] - 0s 36us/step - loss: 250649144078780.7188 - acc: 0.0000e+00\n",
      "Epoch 20/30\n",
      "700/700 [==============================] - 0s 38us/step - loss: 250649154582516.3125 - acc: 0.0000e+00\n",
      "Epoch 21/30\n",
      "700/700 [==============================] - 0s 37us/step - loss: 250649146205892.0312 - acc: 0.0000e+00\n",
      "Epoch 22/30\n",
      "700/700 [==============================] - 0s 37us/step - loss: 250649146301761.8438 - acc: 0.0000e+00\n",
      "Epoch 23/30\n",
      "700/700 [==============================] - 0s 36us/step - loss: 250649144863714.7188 - acc: 0.0000e+00\n",
      "Epoch 24/30\n",
      "700/700 [==============================] - 0s 38us/step - loss: 250649133982491.7812 - acc: 0.0000e+00\n",
      "Epoch 25/30\n",
      "700/700 [==============================] - 0s 37us/step - loss: 250649141208678.4062 - acc: 0.0000e+00\n",
      "Epoch 26/30\n",
      "700/700 [==============================] - 0s 37us/step - loss: 250649145678608.0938 - acc: 0.0000e+00\n",
      "Epoch 27/30\n",
      "700/700 [==============================] - 0s 37us/step - loss: 250649153300257.6250 - acc: 0.0000e+00\n",
      "Epoch 28/30\n",
      "700/700 [==============================] - 0s 36us/step - loss: 250649132089063.1250 - acc: 0.0000e+00\n",
      "Epoch 29/30\n",
      "700/700 [==============================] - 0s 37us/step - loss: 250649132148981.7500 - acc: 0.0000e+00\n",
      "Epoch 30/30\n",
      "700/700 [==============================] - 0s 37us/step - loss: 250649137913153.8438 - acc: 0.0000e+00\n"
     ]
    },
    {
     "data": {
      "text/plain": [
       "<tensorflow.python.keras._impl.keras.callbacks.History at 0x7f7a94d28710>"
      ]
     },
     "execution_count": 28,
     "metadata": {},
     "output_type": "execute_result"
    }
   ],
   "source": [
    "model.fit(X_train, y_train, epochs=30)"
   ]
  },
  {
   "cell_type": "markdown",
   "metadata": {
    "collapsed": true
   },
   "source": [
    "### Build a 2 layer neural network with input layer, 5 neurons in first hidden layer and one neuron in the output layer."
   ]
  },
  {
   "cell_type": "code",
   "execution_count": 29,
   "metadata": {
    "collapsed": true
   },
   "outputs": [],
   "source": [
    "model = tf.keras.models.Sequential()\n",
    "\n",
    "model.add(tf.keras.layers.BatchNormalization(input_shape=(4,)))\n",
    "model.add(tf.keras.layers.Dense(50, activation='sigmoid'))\n",
    "model.add(tf.keras.layers.Dense(100, activation='sigmoid'))\n",
    "model.add(tf.keras.layers.Dense(50, activation='sigmoid'))\n",
    "model.add(tf.keras.layers.Dense(1, activation='sigmoid'))\n",
    "\n",
    "sgd_optimizer = tf.keras.optimizers.SGD(lr=0.00003)\n",
    "model.compile(optimizer=sgd_optimizer, loss='mse', metrics=['accuracy'])\n"
   ]
  },
  {
   "cell_type": "code",
   "execution_count": 30,
   "metadata": {},
   "outputs": [
    {
     "name": "stdout",
     "output_type": "stream",
     "text": [
      "_________________________________________________________________\n",
      "Layer (type)                 Output Shape              Param #   \n",
      "=================================================================\n",
      "batch_normalization_2 (Batch (None, 4)                 16        \n",
      "_________________________________________________________________\n",
      "dense_2 (Dense)              (None, 50)                250       \n",
      "_________________________________________________________________\n",
      "dense_3 (Dense)              (None, 100)               5100      \n",
      "_________________________________________________________________\n",
      "dense_4 (Dense)              (None, 50)                5050      \n",
      "_________________________________________________________________\n",
      "dense_5 (Dense)              (None, 1)                 51        \n",
      "=================================================================\n",
      "Total params: 10,467\n",
      "Trainable params: 10,459\n",
      "Non-trainable params: 8\n",
      "_________________________________________________________________\n"
     ]
    }
   ],
   "source": [
    "model.summary()"
   ]
  },
  {
   "cell_type": "code",
   "execution_count": 32,
   "metadata": {},
   "outputs": [
    {
     "name": "stdout",
     "output_type": "stream",
     "text": [
      "Epoch 1/30\n",
      "700/700 [==============================] - 0s 50us/step - loss: 250649136618911.4688 - acc: 0.0000e+00\n",
      "Epoch 2/30\n",
      "700/700 [==============================] - 0s 46us/step - loss: 250649147763776.3438 - acc: 0.0000e+00\n",
      "Epoch 3/30\n",
      "700/700 [==============================] - 0s 46us/step - loss: 250649137691454.9062 - acc: 0.0000e+00\n",
      "Epoch 4/30\n",
      "700/700 [==============================] - 0s 46us/step - loss: 250649129260903.8750 - acc: 0.0000e+00\n",
      "Epoch 5/30\n",
      "700/700 [==============================] - 0s 46us/step - loss: 250649137433804.7812 - acc: 0.0000e+00\n",
      "Epoch 6/30\n",
      "700/700 [==============================] - 0s 46us/step - loss: 250649139758647.5938 - acc: 0.0000e+00\n",
      "Epoch 7/30\n",
      "700/700 [==============================] - 0s 46us/step - loss: 250649132736184.3125 - acc: 0.0000e+00\n",
      "Epoch 8/30\n",
      "700/700 [==============================] - 0s 47us/step - loss: 250649142634741.7500 - acc: 0.0000e+00\n",
      "Epoch 9/30\n",
      "700/700 [==============================] - 0s 47us/step - loss: 250649139423103.2500 - acc: 0.0000e+00\n",
      "Epoch 10/30\n",
      "700/700 [==============================] - 0s 46us/step - loss: 250649133575045.0938 - acc: 0.0000e+00\n",
      "Epoch 11/30\n",
      "700/700 [==============================] - 0s 46us/step - loss: 250649132592379.5938 - acc: 0.0000e+00\n",
      "Epoch 12/30\n",
      "700/700 [==============================] - 0s 46us/step - loss: 250649147811711.2500 - acc: 0.0000e+00\n",
      "Epoch 13/30\n",
      "700/700 [==============================] - 0s 46us/step - loss: 250649141220662.1250 - acc: 0.0000e+00\n",
      "Epoch 14/30\n",
      "700/700 [==============================] - 0s 46us/step - loss: 250649134234150.0312 - acc: 0.0000e+00\n",
      "Epoch 15/30\n",
      "700/700 [==============================] - 0s 46us/step - loss: 250649134270101.2188 - acc: 0.0000e+00\n",
      "Epoch 16/30\n",
      "700/700 [==============================] - 0s 47us/step - loss: 250649139087558.9375 - acc: 0.0000e+00\n",
      "Epoch 17/30\n",
      "700/700 [==============================] - 0s 47us/step - loss: 250649125893476.9375 - acc: 0.0000e+00\n",
      "Epoch 18/30\n",
      "700/700 [==============================] - 0s 48us/step - loss: 250649135037059.6562 - acc: 0.0000e+00\n",
      "Epoch 19/30\n",
      "700/700 [==============================] - 0s 48us/step - loss: 250649132448574.9062 - acc: 0.0000e+00\n",
      "Epoch 20/30\n",
      "700/700 [==============================] - 0s 46us/step - loss: 250649144719910.0312 - acc: 0.0000e+00\n",
      "Epoch 21/30\n",
      "700/700 [==============================] - 0s 47us/step - loss: 250649145630673.1875 - acc: 0.0000e+00\n",
      "Epoch 22/30\n",
      "700/700 [==============================] - 0s 47us/step - loss: 250649131394007.0312 - acc: 0.0000e+00\n",
      "Epoch 23/30\n",
      "700/700 [==============================] - 0s 46us/step - loss: 250649140597508.4062 - acc: 0.0000e+00\n",
      "Epoch 24/30\n",
      "700/700 [==============================] - 0s 48us/step - loss: 250649135540376.1250 - acc: 0.0000e+00\n",
      "Epoch 25/30\n",
      "700/700 [==============================] - 0s 48us/step - loss: 250649142299197.4375 - acc: 0.0000e+00\n",
      "Epoch 26/30\n",
      "700/700 [==============================] - 0s 46us/step - loss: 250649135324669.0625 - acc: 0.0000e+00\n",
      "Epoch 27/30\n",
      "700/700 [==============================] - 0s 46us/step - loss: 250649130866723.1250 - acc: 0.0000e+00\n",
      "Epoch 28/30\n",
      "700/700 [==============================] - 0s 46us/step - loss: 250649145055454.3750 - acc: 0.0000e+00\n",
      "Epoch 29/30\n",
      "700/700 [==============================] - 0s 47us/step - loss: 250649136418184.0312 - acc: 0.0000e+00\n",
      "Epoch 30/30\n",
      "700/700 [==============================] - 0s 47us/step - loss: 250649140813215.4688 - acc: 0.0000e+00\n"
     ]
    },
    {
     "data": {
      "text/plain": [
       "<tensorflow.python.keras._impl.keras.callbacks.History at 0x7f7a90047668>"
      ]
     },
     "execution_count": 32,
     "metadata": {},
     "output_type": "execute_result"
    }
   ],
   "source": [
    "model.fit(X_train, y_train, epochs=30)"
   ]
  },
  {
   "cell_type": "markdown",
   "metadata": {},
   "source": [
    "#### Compare the accuracy scores across all the 3 models."
   ]
  },
  {
   "cell_type": "code",
   "execution_count": null,
   "metadata": {
    "collapsed": true
   },
   "outputs": [],
   "source": []
  }
 ],
 "metadata": {
  "kernelspec": {
   "display_name": "Python 3",
   "language": "python",
   "name": "python3"
  },
  "language_info": {
   "codemirror_mode": {
    "name": "ipython",
    "version": 3
   },
   "file_extension": ".py",
   "mimetype": "text/x-python",
   "name": "python",
   "nbconvert_exporter": "python",
   "pygments_lexer": "ipython3",
   "version": "3.6.3"
  }
 },
 "nbformat": 4,
 "nbformat_minor": 2
}
