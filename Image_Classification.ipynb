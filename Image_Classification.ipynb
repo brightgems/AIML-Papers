{
  "nbformat": 4,
  "nbformat_minor": 0,
  "metadata": {
    "colab": {
      "name": "Image_Classification.ipynb",
      "version": "0.3.2",
      "provenance": [],
      "collapsed_sections": []
    },
    "kernelspec": {
      "name": "python3",
      "display_name": "Python 3"
    },
    "accelerator": "TPU"
  },
  "cells": [
    {
      "metadata": {
        "id": "MFMsekz6j3F_",
        "colab_type": "code",
        "outputId": "e002fb62-73d2-463c-aafe-ea821bcf7c48",
        "colab": {
          "base_uri": "https://localhost:8080/",
          "height": 185
        }
      },
      "cell_type": "code",
      "source": [
        "!pip install tables"
      ],
      "execution_count": 1,
      "outputs": [
        {
          "output_type": "stream",
          "text": [
            "Collecting tables\n",
            "\u001b[?25l  Downloading https://files.pythonhosted.org/packages/d7/1b/21f4c7f296b718575c17ef25e61c05742a283c45077b4c8d5a190b3e0b59/tables-3.4.4-cp36-cp36m-manylinux1_x86_64.whl (3.8MB)\n",
            "\u001b[K    100% |████████████████████████████████| 3.8MB 6.3MB/s \n",
            "\u001b[?25hRequirement already satisfied: numpy>=1.8.0 in /usr/local/lib/python3.6/dist-packages (from tables) (1.14.6)\n",
            "Collecting numexpr>=2.5.2 (from tables)\n",
            "\u001b[?25l  Downloading https://files.pythonhosted.org/packages/db/ea/efd9e16283637eb5b6c0042b6cc3521f1b9a5b47767ac463c88bbd37670c/numexpr-2.6.8-cp36-cp36m-manylinux1_x86_64.whl (162kB)\n",
            "\u001b[K    100% |████████████████████████████████| 163kB 31.0MB/s \n",
            "\u001b[?25hRequirement already satisfied: six>=1.9.0 in /usr/local/lib/python3.6/dist-packages (from tables) (1.11.0)\n",
            "Installing collected packages: numexpr, tables\n",
            "Successfully installed numexpr-2.6.8 tables-3.4.4\n"
          ],
          "name": "stdout"
        }
      ]
    },
    {
      "metadata": {
        "id": "kbx5lbDokBa7",
        "colab_type": "text"
      },
      "cell_type": "markdown",
      "source": [
        "Understand the basic Image Classification pipeline and the data-driven\n",
        "approach (train/predict stages)\n",
        "● Data fetching and understand the train/val/test splits.\n",
        "● Implement and apply an optimal k-Nearest Neighbor (kNN) classifier"
      ]
    },
    {
      "metadata": {
        "id": "pT0cX95VkEeW",
        "colab_type": "text"
      },
      "cell_type": "markdown",
      "source": [
        "● Print the classification metric report"
      ]
    },
    {
      "metadata": {
        "id": "K0ApEwgUPDcB",
        "colab_type": "code",
        "outputId": "004bb06f-bc12-43ee-9908-322f037ea044",
        "colab": {
          "base_uri": "https://localhost:8080/",
          "height": 121
        }
      },
      "cell_type": "code",
      "source": [
        "from google.colab import drive\n",
        "\n",
        "drive.mount('/content/gdrive', force_remount=True)"
      ],
      "execution_count": 2,
      "outputs": [
        {
          "output_type": "stream",
          "text": [
            "Go to this URL in a browser: https://accounts.google.com/o/oauth2/auth?client_id=947318989803-6bn6qk8qdgf4n4g3pfee6491hc0brc4i.apps.googleusercontent.com&redirect_uri=urn%3Aietf%3Awg%3Aoauth%3A2.0%3Aoob&scope=email%20https%3A%2F%2Fwww.googleapis.com%2Fauth%2Fdocs.test%20https%3A%2F%2Fwww.googleapis.com%2Fauth%2Fdrive%20https%3A%2F%2Fwww.googleapis.com%2Fauth%2Fdrive.photos.readonly%20https%3A%2F%2Fwww.googleapis.com%2Fauth%2Fpeopleapi.readonly&response_type=code\n",
            "\n",
            "Enter your authorization code:\n",
            "··········\n",
            "Mounted at /content/gdrive\n"
          ],
          "name": "stdout"
        }
      ]
    },
    {
      "metadata": {
        "id": "7Abf49G9kVTD",
        "colab_type": "code",
        "colab": {}
      },
      "cell_type": "code",
      "source": [
        "import tables\n",
        "import numpy as np\n",
        "\n",
        "fileName = 'gdrive/My Drive/AIML/Project/NeuralNetworks/SVHN_single_grey1.h5'\n",
        "file = tables.open_file(fileName, mode='r')"
      ],
      "execution_count": 0,
      "outputs": []
    },
    {
      "metadata": {
        "id": "NiQ34SZcJuzp",
        "colab_type": "code",
        "outputId": "ee3e9e63-f9e8-414e-a508-89a9055e713f",
        "colab": {
          "base_uri": "https://localhost:8080/",
          "height": 34
        }
      },
      "cell_type": "code",
      "source": [
        "print(file.root)"
      ],
      "execution_count": 4,
      "outputs": [
        {
          "output_type": "stream",
          "text": [
            "/ (RootGroup) ''\n"
          ],
          "name": "stdout"
        }
      ]
    },
    {
      "metadata": {
        "id": "_xfCdvGHP9-0",
        "colab_type": "code",
        "colab": {}
      },
      "cell_type": "code",
      "source": [
        "# Get the data\n",
        "X_test = file.root.X_test\n",
        "X_train = file.root.X_train\n",
        "X_val = file.root.X_val\n",
        "y_test = file.root.y_test\n",
        "y_train = file.root.y_train\n",
        "y_val = file.root.y_val"
      ],
      "execution_count": 0,
      "outputs": []
    },
    {
      "metadata": {
        "id": "eI4SEG9DNYeA",
        "colab_type": "code",
        "outputId": "ff531fda-dbe3-4223-fe9a-034f10a26c9b",
        "colab": {
          "base_uri": "https://localhost:8080/",
          "height": 118
        }
      },
      "cell_type": "code",
      "source": [
        "print(\"X_Test size: \", X_test.shape)\n",
        "print(\"X_Train size: \", X_train.shape)\n",
        "print(\"X_Val size: \", X_val.shape)\n",
        "print(\"y_Test size: \", y_test.shape)\n",
        "print(\"y_Train size: \", y_train.shape)\n",
        "print(\"y_Val size: \", y_val.shape)"
      ],
      "execution_count": 6,
      "outputs": [
        {
          "output_type": "stream",
          "text": [
            "X_Test size:  (18000, 32, 32)\n",
            "X_Train size:  (42000, 32, 32)\n",
            "X_Val size:  (60000, 32, 32)\n",
            "y_Test size:  (18000,)\n",
            "y_Train size:  (42000,)\n",
            "y_Val size:  (60000,)\n"
          ],
          "name": "stdout"
        }
      ]
    },
    {
      "metadata": {
        "id": "xstWIkocZdio",
        "colab_type": "code",
        "colab": {}
      },
      "cell_type": "code",
      "source": [
        "# building & checking the accuracy of using KNN\n",
        "import tensorflow as tf\n",
        "import numpy as np\n",
        "from sklearn.metrics import accuracy_score\n",
        "from sklearn import metrics"
      ],
      "execution_count": 0,
      "outputs": []
    },
    {
      "metadata": {
        "id": "RfYbXdBoS2sr",
        "colab_type": "code",
        "colab": {}
      },
      "cell_type": "code",
      "source": [
        "X_train_input = np.reshape(X_train, [42000, 1024])\n",
        "X_test_input = np.reshape(X_test, [18000, 1024])\n",
        "X_val_input = np.reshape(X_val, [60000, 1024])"
      ],
      "execution_count": 0,
      "outputs": []
    },
    {
      "metadata": {
        "id": "T1kFBAL_T4Vz",
        "colab_type": "code",
        "colab": {}
      },
      "cell_type": "code",
      "source": [
        "from sklearn.neighbors import KNeighborsClassifier"
      ],
      "execution_count": 0,
      "outputs": []
    },
    {
      "metadata": {
        "id": "xWc1CF7qUCSC",
        "colab_type": "code",
        "colab": {
          "base_uri": "https://localhost:8080/",
          "height": 67
        },
        "outputId": "d7a374d2-7468-49a7-ef16-ba05760a13c7"
      },
      "cell_type": "code",
      "source": [
        "knn = KNeighborsClassifier(n_neighbors= 100)\n",
        "knn.fit(X_train_input, y_train)"
      ],
      "execution_count": 10,
      "outputs": [
        {
          "output_type": "execute_result",
          "data": {
            "text/plain": [
              "KNeighborsClassifier(algorithm='auto', leaf_size=30, metric='minkowski',\n",
              "           metric_params=None, n_jobs=1, n_neighbors=100, p=2,\n",
              "           weights='uniform')"
            ]
          },
          "metadata": {
            "tags": []
          },
          "execution_count": 10
        }
      ]
    },
    {
      "metadata": {
        "id": "PWa1pToLUWda",
        "colab_type": "code",
        "colab": {}
      },
      "cell_type": "code",
      "source": [
        "predicted = knn.predict(X_test_input)"
      ],
      "execution_count": 0,
      "outputs": []
    },
    {
      "metadata": {
        "id": "ka3Jtqr8lsm1",
        "colab_type": "code",
        "colab": {
          "base_uri": "https://localhost:8080/",
          "height": 34
        },
        "outputId": "8ecda1f5-4b17-44f5-c5ff-3682f1622da6"
      },
      "cell_type": "code",
      "source": [
        "print(y_test.shape, predicted.shape)"
      ],
      "execution_count": 13,
      "outputs": [
        {
          "output_type": "stream",
          "text": [
            "(18000,) (18000,)\n"
          ],
          "name": "stdout"
        }
      ]
    },
    {
      "metadata": {
        "id": "5WRYSTIYUmt4",
        "colab_type": "code",
        "colab": {}
      },
      "cell_type": "code",
      "source": [
        "#print('KNN accuracy score: ', accuracy_score(y_test, predicted))\n",
        "print(metrics.confusion_matrix(y_test, predicted))"
      ],
      "execution_count": 0,
      "outputs": []
    },
    {
      "metadata": {
        "id": "o314Qn-hsGdr",
        "colab_type": "code",
        "colab": {}
      },
      "cell_type": "code",
      "source": [
        "#reshaping for graph input\n",
        "\n",
        "#X_train_input = np.reshape(X_train, (42000, 1024))\n",
        "#X_test_input = np.reshape(X_test, (42000, 1024))\n",
        "\n",
        "#X_data_train = tf.placeholder(shape = [None, 32, 32], dtype=tf.float32)\n",
        "#X_data_test = tf.placeholder(shape = [None, 32, 32], dtype=tf.float32)\n",
        "#y_data_train = tf.placeholder(shape = [None, 32, 32], dtype=tf.float32)\n",
        "\n",
        "#Manhattan distance\n",
        "#distance = tf.reduce_sum(tf.abs(tf.subtract(X_data_train, tf.expand_dims(X_data_test, 1))), axis=2)"
      ],
      "execution_count": 0,
      "outputs": []
    },
    {
      "metadata": {
        "id": "9hTZANi73WMc",
        "colab_type": "code",
        "colab": {}
      },
      "cell_type": "code",
      "source": [
        "#nearest K points for k = 5\n",
        "#_, top_k_indices = tf.nn.top_k(tf.negative(distance), k=5)\n",
        "#top_k_label = tf.gather(y_data_train, top_k_indices)"
      ],
      "execution_count": 0,
      "outputs": []
    },
    {
      "metadata": {
        "id": "TC3UfYEWIkP1",
        "colab_type": "code",
        "colab": {}
      },
      "cell_type": "code",
      "source": [
        "#sum_predictions = tf.reduce_sum(top_k_label, axis=1)\n",
        "#prediction = tf.argmax(sum_predictions, axis=1)"
      ],
      "execution_count": 0,
      "outputs": []
    },
    {
      "metadata": {
        "id": "d-Hn5sGkJYOX",
        "colab_type": "code",
        "outputId": "950b5213-1ec9-4585-a6d2-d4d825735396",
        "colab": {
          "base_uri": "https://localhost:8080/",
          "height": 430
        }
      },
      "cell_type": "code",
      "source": [
        "#Training & prediction\n",
        "#session = tf.Session()\n",
        "\n",
        "#prediction = session.run(prediction, feed_dict={X_data_train: X_train, X_data_test: X_test, y_data_train: y_train})"
      ],
      "execution_count": 0,
      "outputs": [
        {
          "output_type": "error",
          "ename": "ValueError",
          "evalue": "ignored",
          "traceback": [
            "\u001b[0;31m---------------------------------------------------------------------------\u001b[0m",
            "\u001b[0;31mValueError\u001b[0m                                Traceback (most recent call last)",
            "\u001b[0;32m<ipython-input-11-a6a0412dbaa2>\u001b[0m in \u001b[0;36m<module>\u001b[0;34m()\u001b[0m\n\u001b[1;32m      1\u001b[0m \u001b[0msession\u001b[0m \u001b[0;34m=\u001b[0m \u001b[0mtf\u001b[0m\u001b[0;34m.\u001b[0m\u001b[0mSession\u001b[0m\u001b[0;34m(\u001b[0m\u001b[0;34m)\u001b[0m\u001b[0;34m\u001b[0m\u001b[0;34m\u001b[0m\u001b[0m\n\u001b[1;32m      2\u001b[0m \u001b[0;34m\u001b[0m\u001b[0m\n\u001b[0;32m----> 3\u001b[0;31m \u001b[0mprediction\u001b[0m \u001b[0;34m=\u001b[0m \u001b[0msession\u001b[0m\u001b[0;34m.\u001b[0m\u001b[0mrun\u001b[0m\u001b[0;34m(\u001b[0m\u001b[0mprediction\u001b[0m\u001b[0;34m,\u001b[0m \u001b[0mfeed_dict\u001b[0m\u001b[0;34m=\u001b[0m\u001b[0;34m{\u001b[0m\u001b[0mX_data_train\u001b[0m\u001b[0;34m:\u001b[0m \u001b[0mX_train\u001b[0m\u001b[0;34m,\u001b[0m \u001b[0mX_data_test\u001b[0m\u001b[0;34m:\u001b[0m \u001b[0mX_test\u001b[0m\u001b[0;34m,\u001b[0m \u001b[0my_data_train\u001b[0m\u001b[0;34m:\u001b[0m \u001b[0my_train\u001b[0m\u001b[0;34m}\u001b[0m\u001b[0;34m)\u001b[0m\u001b[0;34m\u001b[0m\u001b[0;34m\u001b[0m\u001b[0m\n\u001b[0m",
            "\u001b[0;32m/usr/local/lib/python3.6/dist-packages/tensorflow/python/client/session.py\u001b[0m in \u001b[0;36mrun\u001b[0;34m(self, fetches, feed_dict, options, run_metadata)\u001b[0m\n\u001b[1;32m    927\u001b[0m     \u001b[0;32mtry\u001b[0m\u001b[0;34m:\u001b[0m\u001b[0;34m\u001b[0m\u001b[0;34m\u001b[0m\u001b[0m\n\u001b[1;32m    928\u001b[0m       result = self._run(None, fetches, feed_dict, options_ptr,\n\u001b[0;32m--> 929\u001b[0;31m                          run_metadata_ptr)\n\u001b[0m\u001b[1;32m    930\u001b[0m       \u001b[0;32mif\u001b[0m \u001b[0mrun_metadata\u001b[0m\u001b[0;34m:\u001b[0m\u001b[0;34m\u001b[0m\u001b[0;34m\u001b[0m\u001b[0m\n\u001b[1;32m    931\u001b[0m         \u001b[0mproto_data\u001b[0m \u001b[0;34m=\u001b[0m \u001b[0mtf_session\u001b[0m\u001b[0;34m.\u001b[0m\u001b[0mTF_GetBuffer\u001b[0m\u001b[0;34m(\u001b[0m\u001b[0mrun_metadata_ptr\u001b[0m\u001b[0;34m)\u001b[0m\u001b[0;34m\u001b[0m\u001b[0;34m\u001b[0m\u001b[0m\n",
            "\u001b[0;32m/usr/local/lib/python3.6/dist-packages/tensorflow/python/client/session.py\u001b[0m in \u001b[0;36m_run\u001b[0;34m(self, handle, fetches, feed_dict, options, run_metadata)\u001b[0m\n\u001b[1;32m   1126\u001b[0m                              \u001b[0;34m'which has shape %r'\u001b[0m \u001b[0;34m%\u001b[0m\u001b[0;34m\u001b[0m\u001b[0;34m\u001b[0m\u001b[0m\n\u001b[1;32m   1127\u001b[0m                              (np_val.shape, subfeed_t.name,\n\u001b[0;32m-> 1128\u001b[0;31m                               str(subfeed_t.get_shape())))\n\u001b[0m\u001b[1;32m   1129\u001b[0m           \u001b[0;32mif\u001b[0m \u001b[0;32mnot\u001b[0m \u001b[0mself\u001b[0m\u001b[0;34m.\u001b[0m\u001b[0mgraph\u001b[0m\u001b[0;34m.\u001b[0m\u001b[0mis_feedable\u001b[0m\u001b[0;34m(\u001b[0m\u001b[0msubfeed_t\u001b[0m\u001b[0;34m)\u001b[0m\u001b[0;34m:\u001b[0m\u001b[0;34m\u001b[0m\u001b[0;34m\u001b[0m\u001b[0m\n\u001b[1;32m   1130\u001b[0m             \u001b[0;32mraise\u001b[0m \u001b[0mValueError\u001b[0m\u001b[0;34m(\u001b[0m\u001b[0;34m'Tensor %s may not be fed.'\u001b[0m \u001b[0;34m%\u001b[0m \u001b[0msubfeed_t\u001b[0m\u001b[0;34m)\u001b[0m\u001b[0;34m\u001b[0m\u001b[0;34m\u001b[0m\u001b[0m\n",
            "\u001b[0;31mValueError\u001b[0m: Cannot feed value of shape (42000,) for Tensor 'Placeholder_2:0', which has shape '(?, 32, 32)'"
          ]
        }
      ]
    },
    {
      "metadata": {
        "id": "LCY8l1LkKhqm",
        "colab_type": "code",
        "colab": {}
      },
      "cell_type": "code",
      "source": [
        ""
      ],
      "execution_count": 0,
      "outputs": []
    },
    {
      "metadata": {
        "id": "XsXZ8NbDkHJk",
        "colab_type": "text"
      },
      "cell_type": "markdown",
      "source": [
        "● Implement and apply a deep neural network classifier including (feedforward\n",
        "neural network, RELU activations)"
      ]
    },
    {
      "metadata": {
        "id": "A7nrOjVBkK2F",
        "colab_type": "text"
      },
      "cell_type": "markdown",
      "source": [
        "● Understand and be able to implement (vectorized) backpropagation (cost\n",
        "stochastic gradient descent, cross entropy loss, cost functions)"
      ]
    },
    {
      "metadata": {
        "id": "6bsTlId3kONt",
        "colab_type": "text"
      },
      "cell_type": "markdown",
      "source": [
        "● Implement batch normalization for training the neural network"
      ]
    },
    {
      "metadata": {
        "id": "mfPB7KJTSdbX",
        "colab_type": "code",
        "outputId": "b341ec57-0bad-4d97-dff3-f60725ad9081",
        "colab": {
          "base_uri": "https://localhost:8080/",
          "height": 34
        }
      },
      "cell_type": "code",
      "source": [
        "import keras\n",
        "from keras.models import Sequential\n",
        "from keras.layers import Dense, Activation, Dropout, Flatten, Reshape, BatchNormalization, Convolution2D, MaxPooling2D\n",
        "from keras.utils import np_utils"
      ],
      "execution_count": 0,
      "outputs": [
        {
          "output_type": "stream",
          "text": [
            "Using TensorFlow backend.\n"
          ],
          "name": "stderr"
        }
      ]
    },
    {
      "metadata": {
        "id": "L7HfqEYETLqD",
        "colab_type": "code",
        "outputId": "f28c2e2b-f1ac-4a14-af81-b34d576a43ca",
        "colab": {
          "base_uri": "https://localhost:8080/",
          "height": 84
        }
      },
      "cell_type": "code",
      "source": [
        "model = Sequential()\n",
        "\n",
        "model.add(BatchNormalization(input_shape=(32, 32, 1)))\n",
        "model.add(Convolution2D(32, 3, 3))\n",
        "model.add(Activation('relu'))\n",
        "\n",
        "model.add(Convolution2D(32, 3, 3))\n",
        "model.add(Activation('relu'))\n",
        "\n",
        "model.add(MaxPooling2D(pool_size=(2, 2)))\n",
        "\n",
        "model.add(Dropout(0.3))\n",
        "\n",
        "model.add(Flatten())\n",
        "\n",
        "model.add(Dense(200))\n",
        "model.add(Activation('relu'))\n",
        "\n",
        "model.add(Dense(10))\n",
        "model.add(Activation('softmax'))\n",
        "\n",
        "model.compile(loss='categorical_crossentropy', optimizer='sgd', metrics=['accuracy'])"
      ],
      "execution_count": 0,
      "outputs": [
        {
          "output_type": "stream",
          "text": [
            "/usr/local/lib/python3.6/dist-packages/ipykernel_launcher.py:4: UserWarning: Update your `Conv2D` call to the Keras 2 API: `Conv2D(32, (3, 3))`\n",
            "  after removing the cwd from sys.path.\n",
            "/usr/local/lib/python3.6/dist-packages/ipykernel_launcher.py:7: UserWarning: Update your `Conv2D` call to the Keras 2 API: `Conv2D(32, (3, 3))`\n",
            "  import sys\n"
          ],
          "name": "stderr"
        }
      ]
    },
    {
      "metadata": {
        "id": "KqOqYuGrVW1E",
        "colab_type": "code",
        "outputId": "20e54944-b3ca-4874-8376-4c41336b6037",
        "colab": {
          "base_uri": "https://localhost:8080/",
          "height": 538
        }
      },
      "cell_type": "code",
      "source": [
        "model.summary()"
      ],
      "execution_count": 0,
      "outputs": [
        {
          "output_type": "stream",
          "text": [
            "_________________________________________________________________\n",
            "Layer (type)                 Output Shape              Param #   \n",
            "=================================================================\n",
            "batch_normalization_1 (Batch (None, 32, 32, 1)         4         \n",
            "_________________________________________________________________\n",
            "conv2d_1 (Conv2D)            (None, 30, 30, 32)        320       \n",
            "_________________________________________________________________\n",
            "activation_1 (Activation)    (None, 30, 30, 32)        0         \n",
            "_________________________________________________________________\n",
            "conv2d_2 (Conv2D)            (None, 28, 28, 32)        9248      \n",
            "_________________________________________________________________\n",
            "activation_2 (Activation)    (None, 28, 28, 32)        0         \n",
            "_________________________________________________________________\n",
            "max_pooling2d_1 (MaxPooling2 (None, 14, 14, 32)        0         \n",
            "_________________________________________________________________\n",
            "dropout_1 (Dropout)          (None, 14, 14, 32)        0         \n",
            "_________________________________________________________________\n",
            "flatten_1 (Flatten)          (None, 6272)              0         \n",
            "_________________________________________________________________\n",
            "dense_1 (Dense)              (None, 200)               1254600   \n",
            "_________________________________________________________________\n",
            "activation_3 (Activation)    (None, 200)               0         \n",
            "_________________________________________________________________\n",
            "dense_2 (Dense)              (None, 10)                2010      \n",
            "_________________________________________________________________\n",
            "activation_4 (Activation)    (None, 10)                0         \n",
            "=================================================================\n",
            "Total params: 1,266,182\n",
            "Trainable params: 1,266,180\n",
            "Non-trainable params: 2\n",
            "_________________________________________________________________\n"
          ],
          "name": "stdout"
        }
      ]
    },
    {
      "metadata": {
        "id": "5IL8OYwJVaZD",
        "colab_type": "code",
        "outputId": "a1f87225-6b11-4e9c-aebb-712a7fd459a5",
        "colab": {
          "base_uri": "https://localhost:8080/",
          "height": 974
        }
      },
      "cell_type": "code",
      "source": [
        "es = keras.callbacks.EarlyStopping(monitor='val_acc', patience=5, verbose=1, mode='aut')\n",
        "callback = [es]\n",
        "\n",
        "y_train_vec = np_utils.to_categorical(y_train, 10)\n",
        "y_test_vec = np_utils.to_categorical(y_test, 10)\n",
        "\n",
        "X_train_rs = np.reshape(X_train, (42000, 32, 32, 1))\n",
        "X_test_rs = np.reshape(X_test, (18000, 32, 32, 1))\n",
        "\n",
        "model.fit(X_train_rs, y_train_vec, batch_size=32, epochs=30, validation_data=(X_test_rs, y_test_vec), callbacks=callback)"
      ],
      "execution_count": 0,
      "outputs": [
        {
          "output_type": "stream",
          "text": [
            "/usr/local/lib/python3.6/dist-packages/keras/callbacks.py:511: RuntimeWarning: EarlyStopping mode aut is unknown, fallback to auto mode.\n",
            "  RuntimeWarning)\n"
          ],
          "name": "stderr"
        },
        {
          "output_type": "stream",
          "text": [
            "Train on 42000 samples, validate on 18000 samples\n",
            "Epoch 1/30\n",
            "42000/42000 [==============================] - 18s 435us/step - loss: 1.6893 - acc: 0.4225 - val_loss: 0.7484 - val_acc: 0.7848\n",
            "Epoch 2/30\n",
            "42000/42000 [==============================] - 16s 371us/step - loss: 0.6660 - acc: 0.8076 - val_loss: 0.5600 - val_acc: 0.8467\n",
            "Epoch 3/30\n",
            "42000/42000 [==============================] - 16s 371us/step - loss: 0.5443 - acc: 0.8410 - val_loss: 0.5041 - val_acc: 0.8598\n",
            "Epoch 4/30\n",
            "42000/42000 [==============================] - 16s 371us/step - loss: 0.4793 - acc: 0.8579 - val_loss: 0.4636 - val_acc: 0.8727\n",
            "Epoch 5/30\n",
            "42000/42000 [==============================] - 16s 369us/step - loss: 0.4265 - acc: 0.8716 - val_loss: 0.4462 - val_acc: 0.8757\n",
            "Epoch 6/30\n",
            "42000/42000 [==============================] - 16s 370us/step - loss: 0.3765 - acc: 0.8876 - val_loss: 0.4333 - val_acc: 0.8786\n",
            "Epoch 7/30\n",
            "42000/42000 [==============================] - 16s 372us/step - loss: 0.3351 - acc: 0.8988 - val_loss: 0.4010 - val_acc: 0.8872\n",
            "Epoch 8/30\n",
            "42000/42000 [==============================] - 15s 368us/step - loss: 0.2999 - acc: 0.9086 - val_loss: 0.3693 - val_acc: 0.8987\n",
            "Epoch 9/30\n",
            "42000/42000 [==============================] - 15s 366us/step - loss: 0.2714 - acc: 0.9188 - val_loss: 0.3601 - val_acc: 0.9005\n",
            "Epoch 10/30\n",
            "42000/42000 [==============================] - 15s 369us/step - loss: 0.2455 - acc: 0.9268 - val_loss: 0.3742 - val_acc: 0.8964\n",
            "Epoch 11/30\n",
            "42000/42000 [==============================] - 16s 370us/step - loss: 0.2203 - acc: 0.9344 - val_loss: 0.3617 - val_acc: 0.8998\n",
            "Epoch 12/30\n",
            "42000/42000 [==============================] - 16s 370us/step - loss: 0.1960 - acc: 0.9395 - val_loss: 0.3555 - val_acc: 0.9064\n",
            "Epoch 13/30\n",
            "42000/42000 [==============================] - 16s 370us/step - loss: 0.1797 - acc: 0.9455 - val_loss: 0.3590 - val_acc: 0.9028\n",
            "Epoch 14/30\n",
            "42000/42000 [==============================] - 16s 370us/step - loss: 0.1606 - acc: 0.9510 - val_loss: 0.3603 - val_acc: 0.9082\n",
            "Epoch 15/30\n",
            "42000/42000 [==============================] - 15s 369us/step - loss: 0.1481 - acc: 0.9550 - val_loss: 0.3729 - val_acc: 0.9062\n",
            "Epoch 16/30\n",
            "42000/42000 [==============================] - 16s 372us/step - loss: 0.1314 - acc: 0.9600 - val_loss: 0.3851 - val_acc: 0.9071\n",
            "Epoch 17/30\n",
            "42000/42000 [==============================] - 15s 368us/step - loss: 0.1205 - acc: 0.9639 - val_loss: 0.4090 - val_acc: 0.9020\n",
            "Epoch 18/30\n",
            "42000/42000 [==============================] - 15s 366us/step - loss: 0.1107 - acc: 0.9662 - val_loss: 0.3972 - val_acc: 0.9083\n",
            "Epoch 19/30\n",
            "42000/42000 [==============================] - 15s 368us/step - loss: 0.0979 - acc: 0.9706 - val_loss: 0.3913 - val_acc: 0.9119\n",
            "Epoch 20/30\n",
            "42000/42000 [==============================] - 15s 369us/step - loss: 0.0907 - acc: 0.9730 - val_loss: 0.3990 - val_acc: 0.9114\n",
            "Epoch 21/30\n",
            "42000/42000 [==============================] - 15s 369us/step - loss: 0.0814 - acc: 0.9754 - val_loss: 0.4227 - val_acc: 0.9121\n",
            "Epoch 22/30\n",
            "42000/42000 [==============================] - 16s 370us/step - loss: 0.0803 - acc: 0.9766 - val_loss: 0.4115 - val_acc: 0.9119\n",
            "Epoch 23/30\n",
            "42000/42000 [==============================] - 15s 369us/step - loss: 0.0728 - acc: 0.9780 - val_loss: 0.4389 - val_acc: 0.9097\n",
            "Epoch 24/30\n",
            "42000/42000 [==============================] - 15s 369us/step - loss: 0.0647 - acc: 0.9808 - val_loss: 0.4467 - val_acc: 0.9089\n",
            "Epoch 25/30\n",
            "42000/42000 [==============================] - 15s 368us/step - loss: 0.0610 - acc: 0.9810 - val_loss: 0.4576 - val_acc: 0.9084\n",
            "Epoch 26/30\n",
            "42000/42000 [==============================] - 16s 370us/step - loss: 0.0569 - acc: 0.9840 - val_loss: 0.4638 - val_acc: 0.9108\n",
            "Epoch 00026: early stopping\n"
          ],
          "name": "stdout"
        },
        {
          "output_type": "execute_result",
          "data": {
            "text/plain": [
              "<keras.callbacks.History at 0x7f3ff6c75128>"
            ]
          },
          "metadata": {
            "tags": []
          },
          "execution_count": 19
        }
      ]
    },
    {
      "metadata": {
        "id": "z0dDfyT3kQp5",
        "colab_type": "text"
      },
      "cell_type": "markdown",
      "source": [
        "● Understand the differences and trade-offs between traditional and NN\n",
        "classifiers with the help of classification metrics"
      ]
    },
    {
      "metadata": {
        "id": "Bf0qrO06SelD",
        "colab_type": "code",
        "colab": {}
      },
      "cell_type": "code",
      "source": [
        ""
      ],
      "execution_count": 0,
      "outputs": []
    }
  ]
}