{
  "nbformat": 4,
  "nbformat_minor": 0,
  "metadata": {
    "colab": {
      "name": "Dog_Breed_Classification.ipynb",
      "version": "0.3.2",
      "provenance": [],
      "collapsed_sections": []
    },
    "kernelspec": {
      "name": "python2",
      "display_name": "Python 2"
    },
    "accelerator": "GPU"
  },
  "cells": [
    {
      "cell_type": "markdown",
      "metadata": {
        "id": "F7MDmaAw2xGO",
        "colab_type": "text"
      },
      "source": [
        "### Load Dataset Files"
      ]
    },
    {
      "cell_type": "code",
      "metadata": {
        "id": "BZWpQv1OwqYK",
        "colab_type": "code",
        "colab": {}
      },
      "source": [
        "from google.colab import drive"
      ],
      "execution_count": 0,
      "outputs": []
    },
    {
      "cell_type": "code",
      "metadata": {
        "id": "fVhB9OopxFbX",
        "colab_type": "code",
        "outputId": "8b752184-1b3d-4ce8-b321-204f4a798a16",
        "colab": {
          "base_uri": "https://localhost:8080/",
          "height": 34
        }
      },
      "source": [
        "drive.mount('/content/drive/')"
      ],
      "execution_count": 10,
      "outputs": [
        {
          "output_type": "stream",
          "text": [
            "Drive already mounted at /content/drive/; to attempt to forcibly remount, call drive.mount(\"/content/drive/\", force_remount=True).\n"
          ],
          "name": "stdout"
        }
      ]
    },
    {
      "cell_type": "code",
      "metadata": {
        "id": "Tp6FvAToxUFs",
        "colab_type": "code",
        "colab": {}
      },
      "source": [
        "project_path = \"/content/drive/My Drive/Dog/data/\""
      ],
      "execution_count": 0,
      "outputs": []
    },
    {
      "cell_type": "code",
      "metadata": {
        "id": "3350WZM4w4EL",
        "colab_type": "code",
        "colab": {}
      },
      "source": [
        "from zipfile import ZipFile\n",
        "with ZipFile(project_path+'train.zip', 'r') as z:\n",
        "  z.extractall()"
      ],
      "execution_count": 0,
      "outputs": []
    },
    {
      "cell_type": "code",
      "metadata": {
        "id": "_fxzynvB2YCb",
        "colab_type": "code",
        "colab": {}
      },
      "source": [
        "from zipfile import ZipFile\n",
        "with ZipFile(project_path+'test.zip', 'r') as z:\n",
        "  z.extractall()"
      ],
      "execution_count": 0,
      "outputs": []
    },
    {
      "cell_type": "code",
      "metadata": {
        "id": "4PyTxE8q2jLf",
        "colab_type": "code",
        "colab": {}
      },
      "source": [
        "from zipfile import ZipFile\n",
        "with ZipFile(project_path+'sample_submission.csv.zip', 'r') as z:\n",
        "  z.extractall()"
      ],
      "execution_count": 0,
      "outputs": []
    },
    {
      "cell_type": "code",
      "metadata": {
        "id": "rXtnEoEixbgi",
        "colab_type": "code",
        "colab": {}
      },
      "source": [
        "from zipfile import ZipFile\n",
        "with ZipFile(project_path+'labels.csv.zip', 'r') as z:\n",
        "  z.extractall()"
      ],
      "execution_count": 0,
      "outputs": []
    },
    {
      "cell_type": "code",
      "metadata": {
        "id": "ETfcfkZYxpvu",
        "colab_type": "code",
        "colab": {}
      },
      "source": [
        "import pandas as pd"
      ],
      "execution_count": 0,
      "outputs": []
    },
    {
      "cell_type": "code",
      "metadata": {
        "id": "oLzkBLBRxzoY",
        "colab_type": "code",
        "outputId": "67f45e8c-7ac9-4440-9a53-4bc9a53396e9",
        "colab": {
          "base_uri": "https://localhost:8080/",
          "height": 204
        }
      },
      "source": [
        "labels = pd.read_csv('./labels.csv')\n",
        "labels.head()"
      ],
      "execution_count": 20,
      "outputs": [
        {
          "output_type": "execute_result",
          "data": {
            "text/html": [
              "<div>\n",
              "<style scoped>\n",
              "    .dataframe tbody tr th:only-of-type {\n",
              "        vertical-align: middle;\n",
              "    }\n",
              "\n",
              "    .dataframe tbody tr th {\n",
              "        vertical-align: top;\n",
              "    }\n",
              "\n",
              "    .dataframe thead th {\n",
              "        text-align: right;\n",
              "    }\n",
              "</style>\n",
              "<table border=\"1\" class=\"dataframe\">\n",
              "  <thead>\n",
              "    <tr style=\"text-align: right;\">\n",
              "      <th></th>\n",
              "      <th>id</th>\n",
              "      <th>breed</th>\n",
              "    </tr>\n",
              "  </thead>\n",
              "  <tbody>\n",
              "    <tr>\n",
              "      <th>0</th>\n",
              "      <td>000bec180eb18c7604dcecc8fe0dba07</td>\n",
              "      <td>boston_bull</td>\n",
              "    </tr>\n",
              "    <tr>\n",
              "      <th>1</th>\n",
              "      <td>001513dfcb2ffafc82cccf4d8bbaba97</td>\n",
              "      <td>dingo</td>\n",
              "    </tr>\n",
              "    <tr>\n",
              "      <th>2</th>\n",
              "      <td>001cdf01b096e06d78e9e5112d419397</td>\n",
              "      <td>pekinese</td>\n",
              "    </tr>\n",
              "    <tr>\n",
              "      <th>3</th>\n",
              "      <td>00214f311d5d2247d5dfe4fe24b2303d</td>\n",
              "      <td>bluetick</td>\n",
              "    </tr>\n",
              "    <tr>\n",
              "      <th>4</th>\n",
              "      <td>0021f9ceb3235effd7fcde7f7538ed62</td>\n",
              "      <td>golden_retriever</td>\n",
              "    </tr>\n",
              "  </tbody>\n",
              "</table>\n",
              "</div>"
            ],
            "text/plain": [
              "                                 id             breed\n",
              "0  000bec180eb18c7604dcecc8fe0dba07       boston_bull\n",
              "1  001513dfcb2ffafc82cccf4d8bbaba97             dingo\n",
              "2  001cdf01b096e06d78e9e5112d419397          pekinese\n",
              "3  00214f311d5d2247d5dfe4fe24b2303d          bluetick\n",
              "4  0021f9ceb3235effd7fcde7f7538ed62  golden_retriever"
            ]
          },
          "metadata": {
            "tags": []
          },
          "execution_count": 20
        }
      ]
    },
    {
      "cell_type": "code",
      "metadata": {
        "id": "FEPxAo0GL06I",
        "colab_type": "code",
        "colab": {
          "base_uri": "https://localhost:8080/",
          "height": 34
        },
        "outputId": "636db4d9-a1b1-4c2a-83f0-dcf90608a95e"
      },
      "source": [
        "labels.columns"
      ],
      "execution_count": 29,
      "outputs": [
        {
          "output_type": "execute_result",
          "data": {
            "text/plain": [
              "Index([u'id', u'breed'], dtype='object')"
            ]
          },
          "metadata": {
            "tags": []
          },
          "execution_count": 29
        }
      ]
    },
    {
      "cell_type": "code",
      "metadata": {
        "id": "tfpoZCF4x5Fs",
        "colab_type": "code",
        "outputId": "f960f798-67e6-4c07-87ed-f7fc0b438d1e",
        "colab": {
          "base_uri": "https://localhost:8080/",
          "height": 119
        }
      },
      "source": [
        "breed_count = labels['breed'].value_counts()\n",
        "\n",
        "breed_count.head()"
      ],
      "execution_count": 31,
      "outputs": [
        {
          "output_type": "execute_result",
          "data": {
            "text/plain": [
              "scottish_deerhound      126\n",
              "maltese_dog             117\n",
              "afghan_hound            116\n",
              "entlebucher             115\n",
              "bernese_mountain_dog    114\n",
              "Name: breed, dtype: int64"
            ]
          },
          "metadata": {
            "tags": []
          },
          "execution_count": 31
        }
      ]
    },
    {
      "cell_type": "code",
      "metadata": {
        "id": "XQmrggEByDL-",
        "colab_type": "code",
        "outputId": "248c3112-833f-45b1-e8cd-0493ee3cb97a",
        "colab": {
          "base_uri": "https://localhost:8080/",
          "height": 34
        }
      },
      "source": [
        "breed_count.shape"
      ],
      "execution_count": 32,
      "outputs": [
        {
          "output_type": "execute_result",
          "data": {
            "text/plain": [
              "(120,)"
            ]
          },
          "metadata": {
            "tags": []
          },
          "execution_count": 32
        }
      ]
    },
    {
      "cell_type": "markdown",
      "metadata": {
        "id": "WI94_Qcc0D4M",
        "colab_type": "text"
      },
      "source": [
        "### One-hot encodings of labels"
      ]
    },
    {
      "cell_type": "code",
      "metadata": {
        "id": "LanB7TMnznOw",
        "colab_type": "code",
        "colab": {}
      },
      "source": [
        "import numpy as np\n",
        "targets = pd.Series(labels['breed'])\n",
        "one_hot = pd.get_dummies(targets, sparse = True)\n",
        "one_hot_labels = np.asarray(one_hot)"
      ],
      "execution_count": 0,
      "outputs": []
    },
    {
      "cell_type": "code",
      "metadata": {
        "id": "6-Tw_KK40M9I",
        "colab_type": "code",
        "outputId": "c6e93c19-800e-4771-b48a-c656e52a882b",
        "colab": {
          "base_uri": "https://localhost:8080/",
          "height": 119
        }
      },
      "source": [
        "one_hot_labels[0]"
      ],
      "execution_count": 36,
      "outputs": [
        {
          "output_type": "execute_result",
          "data": {
            "text/plain": [
              "array([0, 0, 0, 0, 0, 0, 0, 0, 0, 0, 0, 0, 0, 0, 0, 0, 0, 0, 0, 1, 0, 0,\n",
              "       0, 0, 0, 0, 0, 0, 0, 0, 0, 0, 0, 0, 0, 0, 0, 0, 0, 0, 0, 0, 0, 0,\n",
              "       0, 0, 0, 0, 0, 0, 0, 0, 0, 0, 0, 0, 0, 0, 0, 0, 0, 0, 0, 0, 0, 0,\n",
              "       0, 0, 0, 0, 0, 0, 0, 0, 0, 0, 0, 0, 0, 0, 0, 0, 0, 0, 0, 0, 0, 0,\n",
              "       0, 0, 0, 0, 0, 0, 0, 0, 0, 0, 0, 0, 0, 0, 0, 0, 0, 0, 0, 0, 0, 0,\n",
              "       0, 0, 0, 0, 0, 0, 0, 0, 0, 0], dtype=uint8)"
            ]
          },
          "metadata": {
            "tags": []
          },
          "execution_count": 36
        }
      ]
    },
    {
      "cell_type": "markdown",
      "metadata": {
        "id": "QhrSwtz90HPt",
        "colab_type": "text"
      },
      "source": [
        "Or you can use below code also for creating one hot encodings"
      ]
    },
    {
      "cell_type": "code",
      "metadata": {
        "id": "dUfdUJA5yJ8K",
        "colab_type": "code",
        "outputId": "12c8bf57-3918-411c-8a18-f201bccfe154",
        "colab": {
          "base_uri": "https://localhost:8080/",
          "height": 34
        }
      },
      "source": [
        "from sklearn.preprocessing import LabelEncoder\n",
        "label_encoder = LabelEncoder()\n",
        "integer_encoded = label_encoder.fit_transform(labels['breed'])\n",
        "print(integer_encoded)"
      ],
      "execution_count": 37,
      "outputs": [
        {
          "output_type": "stream",
          "text": [
            "[19 37 85 ...  3 75 28]\n"
          ],
          "name": "stdout"
        }
      ]
    },
    {
      "cell_type": "code",
      "metadata": {
        "id": "xgbx0KGnycKM",
        "colab_type": "code",
        "colab": {
          "base_uri": "https://localhost:8080/",
          "height": 34
        },
        "outputId": "875a5bf0-1957-4b70-cd78-184aa00e2f4e"
      },
      "source": [
        "import keras\n",
        "y = keras.utils.to_categorical(integer_encoded, num_classes=None, dtype='int')"
      ],
      "execution_count": 38,
      "outputs": [
        {
          "output_type": "stream",
          "text": [
            "Using TensorFlow backend.\n"
          ],
          "name": "stderr"
        }
      ]
    },
    {
      "cell_type": "code",
      "metadata": {
        "id": "7T97tdzLy6As",
        "colab_type": "code",
        "outputId": "61e5e9e0-44fc-46ab-bd7e-7d7ab9864da8",
        "colab": {
          "base_uri": "https://localhost:8080/",
          "height": 119
        }
      },
      "source": [
        "y[0]"
      ],
      "execution_count": 39,
      "outputs": [
        {
          "output_type": "execute_result",
          "data": {
            "text/plain": [
              "array([0, 0, 0, 0, 0, 0, 0, 0, 0, 0, 0, 0, 0, 0, 0, 0, 0, 0, 0, 1, 0, 0,\n",
              "       0, 0, 0, 0, 0, 0, 0, 0, 0, 0, 0, 0, 0, 0, 0, 0, 0, 0, 0, 0, 0, 0,\n",
              "       0, 0, 0, 0, 0, 0, 0, 0, 0, 0, 0, 0, 0, 0, 0, 0, 0, 0, 0, 0, 0, 0,\n",
              "       0, 0, 0, 0, 0, 0, 0, 0, 0, 0, 0, 0, 0, 0, 0, 0, 0, 0, 0, 0, 0, 0,\n",
              "       0, 0, 0, 0, 0, 0, 0, 0, 0, 0, 0, 0, 0, 0, 0, 0, 0, 0, 0, 0, 0, 0,\n",
              "       0, 0, 0, 0, 0, 0, 0, 0, 0, 0])"
            ]
          },
          "metadata": {
            "tags": []
          },
          "execution_count": 39
        }
      ]
    },
    {
      "cell_type": "code",
      "metadata": {
        "id": "fIdzAwGOz-7w",
        "colab_type": "code",
        "colab": {}
      },
      "source": [
        "img_rows=128\n",
        "img_cols=128\n",
        "num_channel=1"
      ],
      "execution_count": 0,
      "outputs": []
    },
    {
      "cell_type": "code",
      "metadata": {
        "id": "aC2f9ecR0XGR",
        "colab_type": "code",
        "outputId": "3a7a866d-3536-403d-e28c-09af03621c62",
        "colab": {
          "base_uri": "https://localhost:8080/",
          "height": 34
        }
      },
      "source": [
        "from tqdm import tqdm\n",
        "import cv2\n",
        "x_feature = []\n",
        "y_feature = []\n",
        "\n",
        "i = 0 # initialisation\n",
        "for f, img in tqdm(labels.values): # f for format ,jpg\n",
        "    train_img = cv2.imread('./train/{}.jpg'.format(f),0)\n",
        "    label = one_hot_labels[i]\n",
        "    train_img_resize = cv2.resize(train_img, (img_rows, img_cols)) \n",
        "    x_feature.append(train_img_resize)\n",
        "    y_feature.append(label)\n",
        "    i += 1"
      ],
      "execution_count": 43,
      "outputs": [
        {
          "output_type": "stream",
          "text": [
            "100%|██████████| 10222/10222 [00:13<00:00, 745.40it/s]\n"
          ],
          "name": "stderr"
        }
      ]
    },
    {
      "cell_type": "code",
      "metadata": {
        "id": "nkkZEpOe0ipk",
        "colab_type": "code",
        "outputId": "83b66adf-ef90-49fb-c4b6-ff5309cb78ae",
        "colab": {
          "base_uri": "https://localhost:8080/",
          "height": 51
        }
      },
      "source": [
        "x_train_data = np.array(x_feature, np.float32) / 255.   # /= 255 for normolisation\n",
        "print (x_train_data.shape)\n",
        "x_train_data = np.expand_dims(x_train_data, axis = 3) # for keras to given input to Conv2D layer\n",
        "print (x_train_data.shape)\n"
      ],
      "execution_count": 44,
      "outputs": [
        {
          "output_type": "stream",
          "text": [
            "(10222, 128, 128)\n",
            "(10222, 128, 128, 1)\n"
          ],
          "name": "stdout"
        }
      ]
    },
    {
      "cell_type": "code",
      "metadata": {
        "id": "ARn76j3U1CDa",
        "colab_type": "code",
        "outputId": "1d68c520-373a-44e1-f2c4-f2888d8523a6",
        "colab": {
          "base_uri": "https://localhost:8080/",
          "height": 34
        }
      },
      "source": [
        "y_train_data = np.array(y_feature)\n",
        "\n",
        "y_train_data.shape"
      ],
      "execution_count": 45,
      "outputs": [
        {
          "output_type": "execute_result",
          "data": {
            "text/plain": [
              "(10222, 120)"
            ]
          },
          "metadata": {
            "tags": []
          },
          "execution_count": 45
        }
      ]
    },
    {
      "cell_type": "markdown",
      "metadata": {
        "id": "bdCXuAE11gZL",
        "colab_type": "text"
      },
      "source": [
        "### Split the training and validation data here"
      ]
    },
    {
      "cell_type": "code",
      "metadata": {
        "id": "VON2B0zH1PKB",
        "colab_type": "code",
        "outputId": "d0704b35-47df-487b-add0-9d89cc4874dd",
        "colab": {
          "base_uri": "https://localhost:8080/",
          "height": 51
        }
      },
      "source": [
        "from sklearn.model_selection import train_test_split\n",
        "x_train, x_val, y_train, y_val = train_test_split(x_train_data, y_train_data, test_size=0.2, random_state=2)\n",
        "print (x_train.shape)\n",
        "print (x_val.shape)"
      ],
      "execution_count": 46,
      "outputs": [
        {
          "output_type": "stream",
          "text": [
            "(8177, 128, 128, 1)\n",
            "(2045, 128, 128, 1)\n"
          ],
          "name": "stdout"
        }
      ]
    },
    {
      "cell_type": "markdown",
      "metadata": {
        "id": "PBa_9nm429o8",
        "colab_type": "text"
      },
      "source": [
        "### Test features"
      ]
    },
    {
      "cell_type": "code",
      "metadata": {
        "id": "0kAKx1GP3dwh",
        "colab_type": "code",
        "outputId": "841dead0-a31b-4355-f261-49c60a375b1f",
        "colab": {
          "base_uri": "https://localhost:8080/",
          "height": 270
        }
      },
      "source": [
        "submission = pd.read_csv('sample_submission.csv')\n",
        "test_img = submission['id']\n",
        "submission.head()"
      ],
      "execution_count": 47,
      "outputs": [
        {
          "output_type": "execute_result",
          "data": {
            "text/html": [
              "<div>\n",
              "<style scoped>\n",
              "    .dataframe tbody tr th:only-of-type {\n",
              "        vertical-align: middle;\n",
              "    }\n",
              "\n",
              "    .dataframe tbody tr th {\n",
              "        vertical-align: top;\n",
              "    }\n",
              "\n",
              "    .dataframe thead th {\n",
              "        text-align: right;\n",
              "    }\n",
              "</style>\n",
              "<table border=\"1\" class=\"dataframe\">\n",
              "  <thead>\n",
              "    <tr style=\"text-align: right;\">\n",
              "      <th></th>\n",
              "      <th>id</th>\n",
              "      <th>affenpinscher</th>\n",
              "      <th>afghan_hound</th>\n",
              "      <th>african_hunting_dog</th>\n",
              "      <th>airedale</th>\n",
              "      <th>american_staffordshire_terrier</th>\n",
              "      <th>appenzeller</th>\n",
              "      <th>australian_terrier</th>\n",
              "      <th>basenji</th>\n",
              "      <th>basset</th>\n",
              "      <th>beagle</th>\n",
              "      <th>bedlington_terrier</th>\n",
              "      <th>bernese_mountain_dog</th>\n",
              "      <th>black-and-tan_coonhound</th>\n",
              "      <th>blenheim_spaniel</th>\n",
              "      <th>bloodhound</th>\n",
              "      <th>bluetick</th>\n",
              "      <th>border_collie</th>\n",
              "      <th>border_terrier</th>\n",
              "      <th>borzoi</th>\n",
              "      <th>boston_bull</th>\n",
              "      <th>bouvier_des_flandres</th>\n",
              "      <th>boxer</th>\n",
              "      <th>brabancon_griffon</th>\n",
              "      <th>briard</th>\n",
              "      <th>brittany_spaniel</th>\n",
              "      <th>bull_mastiff</th>\n",
              "      <th>cairn</th>\n",
              "      <th>cardigan</th>\n",
              "      <th>chesapeake_bay_retriever</th>\n",
              "      <th>chihuahua</th>\n",
              "      <th>chow</th>\n",
              "      <th>clumber</th>\n",
              "      <th>cocker_spaniel</th>\n",
              "      <th>collie</th>\n",
              "      <th>curly-coated_retriever</th>\n",
              "      <th>dandie_dinmont</th>\n",
              "      <th>dhole</th>\n",
              "      <th>dingo</th>\n",
              "      <th>doberman</th>\n",
              "      <th>...</th>\n",
              "      <th>norwegian_elkhound</th>\n",
              "      <th>norwich_terrier</th>\n",
              "      <th>old_english_sheepdog</th>\n",
              "      <th>otterhound</th>\n",
              "      <th>papillon</th>\n",
              "      <th>pekinese</th>\n",
              "      <th>pembroke</th>\n",
              "      <th>pomeranian</th>\n",
              "      <th>pug</th>\n",
              "      <th>redbone</th>\n",
              "      <th>rhodesian_ridgeback</th>\n",
              "      <th>rottweiler</th>\n",
              "      <th>saint_bernard</th>\n",
              "      <th>saluki</th>\n",
              "      <th>samoyed</th>\n",
              "      <th>schipperke</th>\n",
              "      <th>scotch_terrier</th>\n",
              "      <th>scottish_deerhound</th>\n",
              "      <th>sealyham_terrier</th>\n",
              "      <th>shetland_sheepdog</th>\n",
              "      <th>shih-tzu</th>\n",
              "      <th>siberian_husky</th>\n",
              "      <th>silky_terrier</th>\n",
              "      <th>soft-coated_wheaten_terrier</th>\n",
              "      <th>staffordshire_bullterrier</th>\n",
              "      <th>standard_poodle</th>\n",
              "      <th>standard_schnauzer</th>\n",
              "      <th>sussex_spaniel</th>\n",
              "      <th>tibetan_mastiff</th>\n",
              "      <th>tibetan_terrier</th>\n",
              "      <th>toy_poodle</th>\n",
              "      <th>toy_terrier</th>\n",
              "      <th>vizsla</th>\n",
              "      <th>walker_hound</th>\n",
              "      <th>weimaraner</th>\n",
              "      <th>welsh_springer_spaniel</th>\n",
              "      <th>west_highland_white_terrier</th>\n",
              "      <th>whippet</th>\n",
              "      <th>wire-haired_fox_terrier</th>\n",
              "      <th>yorkshire_terrier</th>\n",
              "    </tr>\n",
              "  </thead>\n",
              "  <tbody>\n",
              "    <tr>\n",
              "      <th>0</th>\n",
              "      <td>000621fb3cbb32d8935728e48679680e</td>\n",
              "      <td>0.008333</td>\n",
              "      <td>0.008333</td>\n",
              "      <td>0.008333</td>\n",
              "      <td>0.008333</td>\n",
              "      <td>0.008333</td>\n",
              "      <td>0.008333</td>\n",
              "      <td>0.008333</td>\n",
              "      <td>0.008333</td>\n",
              "      <td>0.008333</td>\n",
              "      <td>0.008333</td>\n",
              "      <td>0.008333</td>\n",
              "      <td>0.008333</td>\n",
              "      <td>0.008333</td>\n",
              "      <td>0.008333</td>\n",
              "      <td>0.008333</td>\n",
              "      <td>0.008333</td>\n",
              "      <td>0.008333</td>\n",
              "      <td>0.008333</td>\n",
              "      <td>0.008333</td>\n",
              "      <td>0.008333</td>\n",
              "      <td>0.008333</td>\n",
              "      <td>0.008333</td>\n",
              "      <td>0.008333</td>\n",
              "      <td>0.008333</td>\n",
              "      <td>0.008333</td>\n",
              "      <td>0.008333</td>\n",
              "      <td>0.008333</td>\n",
              "      <td>0.008333</td>\n",
              "      <td>0.008333</td>\n",
              "      <td>0.008333</td>\n",
              "      <td>0.008333</td>\n",
              "      <td>0.008333</td>\n",
              "      <td>0.008333</td>\n",
              "      <td>0.008333</td>\n",
              "      <td>0.008333</td>\n",
              "      <td>0.008333</td>\n",
              "      <td>0.008333</td>\n",
              "      <td>0.008333</td>\n",
              "      <td>0.008333</td>\n",
              "      <td>...</td>\n",
              "      <td>0.008333</td>\n",
              "      <td>0.008333</td>\n",
              "      <td>0.008333</td>\n",
              "      <td>0.008333</td>\n",
              "      <td>0.008333</td>\n",
              "      <td>0.008333</td>\n",
              "      <td>0.008333</td>\n",
              "      <td>0.008333</td>\n",
              "      <td>0.008333</td>\n",
              "      <td>0.008333</td>\n",
              "      <td>0.008333</td>\n",
              "      <td>0.008333</td>\n",
              "      <td>0.008333</td>\n",
              "      <td>0.008333</td>\n",
              "      <td>0.008333</td>\n",
              "      <td>0.008333</td>\n",
              "      <td>0.008333</td>\n",
              "      <td>0.008333</td>\n",
              "      <td>0.008333</td>\n",
              "      <td>0.008333</td>\n",
              "      <td>0.008333</td>\n",
              "      <td>0.008333</td>\n",
              "      <td>0.008333</td>\n",
              "      <td>0.008333</td>\n",
              "      <td>0.008333</td>\n",
              "      <td>0.008333</td>\n",
              "      <td>0.008333</td>\n",
              "      <td>0.008333</td>\n",
              "      <td>0.008333</td>\n",
              "      <td>0.008333</td>\n",
              "      <td>0.008333</td>\n",
              "      <td>0.008333</td>\n",
              "      <td>0.008333</td>\n",
              "      <td>0.008333</td>\n",
              "      <td>0.008333</td>\n",
              "      <td>0.008333</td>\n",
              "      <td>0.008333</td>\n",
              "      <td>0.008333</td>\n",
              "      <td>0.008333</td>\n",
              "      <td>0.008333</td>\n",
              "    </tr>\n",
              "    <tr>\n",
              "      <th>1</th>\n",
              "      <td>00102ee9d8eb90812350685311fe5890</td>\n",
              "      <td>0.008333</td>\n",
              "      <td>0.008333</td>\n",
              "      <td>0.008333</td>\n",
              "      <td>0.008333</td>\n",
              "      <td>0.008333</td>\n",
              "      <td>0.008333</td>\n",
              "      <td>0.008333</td>\n",
              "      <td>0.008333</td>\n",
              "      <td>0.008333</td>\n",
              "      <td>0.008333</td>\n",
              "      <td>0.008333</td>\n",
              "      <td>0.008333</td>\n",
              "      <td>0.008333</td>\n",
              "      <td>0.008333</td>\n",
              "      <td>0.008333</td>\n",
              "      <td>0.008333</td>\n",
              "      <td>0.008333</td>\n",
              "      <td>0.008333</td>\n",
              "      <td>0.008333</td>\n",
              "      <td>0.008333</td>\n",
              "      <td>0.008333</td>\n",
              "      <td>0.008333</td>\n",
              "      <td>0.008333</td>\n",
              "      <td>0.008333</td>\n",
              "      <td>0.008333</td>\n",
              "      <td>0.008333</td>\n",
              "      <td>0.008333</td>\n",
              "      <td>0.008333</td>\n",
              "      <td>0.008333</td>\n",
              "      <td>0.008333</td>\n",
              "      <td>0.008333</td>\n",
              "      <td>0.008333</td>\n",
              "      <td>0.008333</td>\n",
              "      <td>0.008333</td>\n",
              "      <td>0.008333</td>\n",
              "      <td>0.008333</td>\n",
              "      <td>0.008333</td>\n",
              "      <td>0.008333</td>\n",
              "      <td>0.008333</td>\n",
              "      <td>...</td>\n",
              "      <td>0.008333</td>\n",
              "      <td>0.008333</td>\n",
              "      <td>0.008333</td>\n",
              "      <td>0.008333</td>\n",
              "      <td>0.008333</td>\n",
              "      <td>0.008333</td>\n",
              "      <td>0.008333</td>\n",
              "      <td>0.008333</td>\n",
              "      <td>0.008333</td>\n",
              "      <td>0.008333</td>\n",
              "      <td>0.008333</td>\n",
              "      <td>0.008333</td>\n",
              "      <td>0.008333</td>\n",
              "      <td>0.008333</td>\n",
              "      <td>0.008333</td>\n",
              "      <td>0.008333</td>\n",
              "      <td>0.008333</td>\n",
              "      <td>0.008333</td>\n",
              "      <td>0.008333</td>\n",
              "      <td>0.008333</td>\n",
              "      <td>0.008333</td>\n",
              "      <td>0.008333</td>\n",
              "      <td>0.008333</td>\n",
              "      <td>0.008333</td>\n",
              "      <td>0.008333</td>\n",
              "      <td>0.008333</td>\n",
              "      <td>0.008333</td>\n",
              "      <td>0.008333</td>\n",
              "      <td>0.008333</td>\n",
              "      <td>0.008333</td>\n",
              "      <td>0.008333</td>\n",
              "      <td>0.008333</td>\n",
              "      <td>0.008333</td>\n",
              "      <td>0.008333</td>\n",
              "      <td>0.008333</td>\n",
              "      <td>0.008333</td>\n",
              "      <td>0.008333</td>\n",
              "      <td>0.008333</td>\n",
              "      <td>0.008333</td>\n",
              "      <td>0.008333</td>\n",
              "    </tr>\n",
              "    <tr>\n",
              "      <th>2</th>\n",
              "      <td>0012a730dfa437f5f3613fb75efcd4ce</td>\n",
              "      <td>0.008333</td>\n",
              "      <td>0.008333</td>\n",
              "      <td>0.008333</td>\n",
              "      <td>0.008333</td>\n",
              "      <td>0.008333</td>\n",
              "      <td>0.008333</td>\n",
              "      <td>0.008333</td>\n",
              "      <td>0.008333</td>\n",
              "      <td>0.008333</td>\n",
              "      <td>0.008333</td>\n",
              "      <td>0.008333</td>\n",
              "      <td>0.008333</td>\n",
              "      <td>0.008333</td>\n",
              "      <td>0.008333</td>\n",
              "      <td>0.008333</td>\n",
              "      <td>0.008333</td>\n",
              "      <td>0.008333</td>\n",
              "      <td>0.008333</td>\n",
              "      <td>0.008333</td>\n",
              "      <td>0.008333</td>\n",
              "      <td>0.008333</td>\n",
              "      <td>0.008333</td>\n",
              "      <td>0.008333</td>\n",
              "      <td>0.008333</td>\n",
              "      <td>0.008333</td>\n",
              "      <td>0.008333</td>\n",
              "      <td>0.008333</td>\n",
              "      <td>0.008333</td>\n",
              "      <td>0.008333</td>\n",
              "      <td>0.008333</td>\n",
              "      <td>0.008333</td>\n",
              "      <td>0.008333</td>\n",
              "      <td>0.008333</td>\n",
              "      <td>0.008333</td>\n",
              "      <td>0.008333</td>\n",
              "      <td>0.008333</td>\n",
              "      <td>0.008333</td>\n",
              "      <td>0.008333</td>\n",
              "      <td>0.008333</td>\n",
              "      <td>...</td>\n",
              "      <td>0.008333</td>\n",
              "      <td>0.008333</td>\n",
              "      <td>0.008333</td>\n",
              "      <td>0.008333</td>\n",
              "      <td>0.008333</td>\n",
              "      <td>0.008333</td>\n",
              "      <td>0.008333</td>\n",
              "      <td>0.008333</td>\n",
              "      <td>0.008333</td>\n",
              "      <td>0.008333</td>\n",
              "      <td>0.008333</td>\n",
              "      <td>0.008333</td>\n",
              "      <td>0.008333</td>\n",
              "      <td>0.008333</td>\n",
              "      <td>0.008333</td>\n",
              "      <td>0.008333</td>\n",
              "      <td>0.008333</td>\n",
              "      <td>0.008333</td>\n",
              "      <td>0.008333</td>\n",
              "      <td>0.008333</td>\n",
              "      <td>0.008333</td>\n",
              "      <td>0.008333</td>\n",
              "      <td>0.008333</td>\n",
              "      <td>0.008333</td>\n",
              "      <td>0.008333</td>\n",
              "      <td>0.008333</td>\n",
              "      <td>0.008333</td>\n",
              "      <td>0.008333</td>\n",
              "      <td>0.008333</td>\n",
              "      <td>0.008333</td>\n",
              "      <td>0.008333</td>\n",
              "      <td>0.008333</td>\n",
              "      <td>0.008333</td>\n",
              "      <td>0.008333</td>\n",
              "      <td>0.008333</td>\n",
              "      <td>0.008333</td>\n",
              "      <td>0.008333</td>\n",
              "      <td>0.008333</td>\n",
              "      <td>0.008333</td>\n",
              "      <td>0.008333</td>\n",
              "    </tr>\n",
              "    <tr>\n",
              "      <th>3</th>\n",
              "      <td>001510bc8570bbeee98c8d80c8a95ec1</td>\n",
              "      <td>0.008333</td>\n",
              "      <td>0.008333</td>\n",
              "      <td>0.008333</td>\n",
              "      <td>0.008333</td>\n",
              "      <td>0.008333</td>\n",
              "      <td>0.008333</td>\n",
              "      <td>0.008333</td>\n",
              "      <td>0.008333</td>\n",
              "      <td>0.008333</td>\n",
              "      <td>0.008333</td>\n",
              "      <td>0.008333</td>\n",
              "      <td>0.008333</td>\n",
              "      <td>0.008333</td>\n",
              "      <td>0.008333</td>\n",
              "      <td>0.008333</td>\n",
              "      <td>0.008333</td>\n",
              "      <td>0.008333</td>\n",
              "      <td>0.008333</td>\n",
              "      <td>0.008333</td>\n",
              "      <td>0.008333</td>\n",
              "      <td>0.008333</td>\n",
              "      <td>0.008333</td>\n",
              "      <td>0.008333</td>\n",
              "      <td>0.008333</td>\n",
              "      <td>0.008333</td>\n",
              "      <td>0.008333</td>\n",
              "      <td>0.008333</td>\n",
              "      <td>0.008333</td>\n",
              "      <td>0.008333</td>\n",
              "      <td>0.008333</td>\n",
              "      <td>0.008333</td>\n",
              "      <td>0.008333</td>\n",
              "      <td>0.008333</td>\n",
              "      <td>0.008333</td>\n",
              "      <td>0.008333</td>\n",
              "      <td>0.008333</td>\n",
              "      <td>0.008333</td>\n",
              "      <td>0.008333</td>\n",
              "      <td>0.008333</td>\n",
              "      <td>...</td>\n",
              "      <td>0.008333</td>\n",
              "      <td>0.008333</td>\n",
              "      <td>0.008333</td>\n",
              "      <td>0.008333</td>\n",
              "      <td>0.008333</td>\n",
              "      <td>0.008333</td>\n",
              "      <td>0.008333</td>\n",
              "      <td>0.008333</td>\n",
              "      <td>0.008333</td>\n",
              "      <td>0.008333</td>\n",
              "      <td>0.008333</td>\n",
              "      <td>0.008333</td>\n",
              "      <td>0.008333</td>\n",
              "      <td>0.008333</td>\n",
              "      <td>0.008333</td>\n",
              "      <td>0.008333</td>\n",
              "      <td>0.008333</td>\n",
              "      <td>0.008333</td>\n",
              "      <td>0.008333</td>\n",
              "      <td>0.008333</td>\n",
              "      <td>0.008333</td>\n",
              "      <td>0.008333</td>\n",
              "      <td>0.008333</td>\n",
              "      <td>0.008333</td>\n",
              "      <td>0.008333</td>\n",
              "      <td>0.008333</td>\n",
              "      <td>0.008333</td>\n",
              "      <td>0.008333</td>\n",
              "      <td>0.008333</td>\n",
              "      <td>0.008333</td>\n",
              "      <td>0.008333</td>\n",
              "      <td>0.008333</td>\n",
              "      <td>0.008333</td>\n",
              "      <td>0.008333</td>\n",
              "      <td>0.008333</td>\n",
              "      <td>0.008333</td>\n",
              "      <td>0.008333</td>\n",
              "      <td>0.008333</td>\n",
              "      <td>0.008333</td>\n",
              "      <td>0.008333</td>\n",
              "    </tr>\n",
              "    <tr>\n",
              "      <th>4</th>\n",
              "      <td>001a5f3114548acdefa3d4da05474c2e</td>\n",
              "      <td>0.008333</td>\n",
              "      <td>0.008333</td>\n",
              "      <td>0.008333</td>\n",
              "      <td>0.008333</td>\n",
              "      <td>0.008333</td>\n",
              "      <td>0.008333</td>\n",
              "      <td>0.008333</td>\n",
              "      <td>0.008333</td>\n",
              "      <td>0.008333</td>\n",
              "      <td>0.008333</td>\n",
              "      <td>0.008333</td>\n",
              "      <td>0.008333</td>\n",
              "      <td>0.008333</td>\n",
              "      <td>0.008333</td>\n",
              "      <td>0.008333</td>\n",
              "      <td>0.008333</td>\n",
              "      <td>0.008333</td>\n",
              "      <td>0.008333</td>\n",
              "      <td>0.008333</td>\n",
              "      <td>0.008333</td>\n",
              "      <td>0.008333</td>\n",
              "      <td>0.008333</td>\n",
              "      <td>0.008333</td>\n",
              "      <td>0.008333</td>\n",
              "      <td>0.008333</td>\n",
              "      <td>0.008333</td>\n",
              "      <td>0.008333</td>\n",
              "      <td>0.008333</td>\n",
              "      <td>0.008333</td>\n",
              "      <td>0.008333</td>\n",
              "      <td>0.008333</td>\n",
              "      <td>0.008333</td>\n",
              "      <td>0.008333</td>\n",
              "      <td>0.008333</td>\n",
              "      <td>0.008333</td>\n",
              "      <td>0.008333</td>\n",
              "      <td>0.008333</td>\n",
              "      <td>0.008333</td>\n",
              "      <td>0.008333</td>\n",
              "      <td>...</td>\n",
              "      <td>0.008333</td>\n",
              "      <td>0.008333</td>\n",
              "      <td>0.008333</td>\n",
              "      <td>0.008333</td>\n",
              "      <td>0.008333</td>\n",
              "      <td>0.008333</td>\n",
              "      <td>0.008333</td>\n",
              "      <td>0.008333</td>\n",
              "      <td>0.008333</td>\n",
              "      <td>0.008333</td>\n",
              "      <td>0.008333</td>\n",
              "      <td>0.008333</td>\n",
              "      <td>0.008333</td>\n",
              "      <td>0.008333</td>\n",
              "      <td>0.008333</td>\n",
              "      <td>0.008333</td>\n",
              "      <td>0.008333</td>\n",
              "      <td>0.008333</td>\n",
              "      <td>0.008333</td>\n",
              "      <td>0.008333</td>\n",
              "      <td>0.008333</td>\n",
              "      <td>0.008333</td>\n",
              "      <td>0.008333</td>\n",
              "      <td>0.008333</td>\n",
              "      <td>0.008333</td>\n",
              "      <td>0.008333</td>\n",
              "      <td>0.008333</td>\n",
              "      <td>0.008333</td>\n",
              "      <td>0.008333</td>\n",
              "      <td>0.008333</td>\n",
              "      <td>0.008333</td>\n",
              "      <td>0.008333</td>\n",
              "      <td>0.008333</td>\n",
              "      <td>0.008333</td>\n",
              "      <td>0.008333</td>\n",
              "      <td>0.008333</td>\n",
              "      <td>0.008333</td>\n",
              "      <td>0.008333</td>\n",
              "      <td>0.008333</td>\n",
              "      <td>0.008333</td>\n",
              "    </tr>\n",
              "  </tbody>\n",
              "</table>\n",
              "<p>5 rows × 121 columns</p>\n",
              "</div>"
            ],
            "text/plain": [
              "                                 id  ...  yorkshire_terrier\n",
              "0  000621fb3cbb32d8935728e48679680e  ...           0.008333\n",
              "1  00102ee9d8eb90812350685311fe5890  ...           0.008333\n",
              "2  0012a730dfa437f5f3613fb75efcd4ce  ...           0.008333\n",
              "3  001510bc8570bbeee98c8d80c8a95ec1  ...           0.008333\n",
              "4  001a5f3114548acdefa3d4da05474c2e  ...           0.008333\n",
              "\n",
              "[5 rows x 121 columns]"
            ]
          },
          "metadata": {
            "tags": []
          },
          "execution_count": 47
        }
      ]
    },
    {
      "cell_type": "code",
      "metadata": {
        "id": "VjTKNQkj1oc0",
        "colab_type": "code",
        "outputId": "175f20d2-c71d-4167-cc78-047b27efb17a",
        "colab": {
          "base_uri": "https://localhost:8080/",
          "height": 34
        }
      },
      "source": [
        "x_test_feature = []\n",
        "\n",
        "i = 0 # initialisation\n",
        "for f in tqdm(test_img.values): # f for format ,jpg\n",
        "    img = cv2.imread('./test/{}.jpg'.format(f), 0)\n",
        "    img_resize = cv2.resize(img, (img_rows, img_cols)) \n",
        "    x_test_feature.append(img_resize)"
      ],
      "execution_count": 48,
      "outputs": [
        {
          "output_type": "stream",
          "text": [
            "100%|██████████| 10357/10357 [00:12<00:00, 824.41it/s]\n"
          ],
          "name": "stderr"
        }
      ]
    },
    {
      "cell_type": "code",
      "metadata": {
        "id": "Xe3LuGhb3F7w",
        "colab_type": "code",
        "outputId": "cca4814d-3457-4a4e-b74e-42fecb669229",
        "colab": {
          "base_uri": "https://localhost:8080/",
          "height": 51
        }
      },
      "source": [
        "x_test_data = np.array(x_test_feature, np.float32) / 255. \n",
        "print (x_test_data.shape)\n",
        "x_test_data = np.expand_dims(x_test_data, axis = 3)\n",
        "print (x_test_data.shape)"
      ],
      "execution_count": 49,
      "outputs": [
        {
          "output_type": "stream",
          "text": [
            "(10357, 128, 128)\n",
            "(10357, 128, 128, 1)\n"
          ],
          "name": "stdout"
        }
      ]
    },
    {
      "cell_type": "code",
      "metadata": {
        "id": "6m9GCXc24wAi",
        "colab_type": "code",
        "colab": {}
      },
      "source": [
        "from keras.models import Sequential  # initial NN\n",
        "from keras.layers import Dense, Dropout # construct each layer\n",
        "from keras.layers import Conv2D # swipe across the image by 1\n",
        "from keras.layers import MaxPooling2D # swipe across by pool size\n",
        "from keras.layers import Flatten, GlobalAveragePooling2D"
      ],
      "execution_count": 0,
      "outputs": []
    },
    {
      "cell_type": "code",
      "metadata": {
        "id": "46NNwEGV41JH",
        "colab_type": "code",
        "colab": {
          "base_uri": "https://localhost:8080/",
          "height": 139
        },
        "outputId": "631318d2-3e09-4b1a-d085-ece5a904ecb9"
      },
      "source": [
        "model = Sequential()\n",
        "\n",
        "model.add(Conv2D(32, (5,5), activation ='relu', input_shape = (img_rows, img_cols, num_channel))) \n",
        "model.add(MaxPooling2D(pool_size=3))\n",
        "#model.add(Dropout(0.2))\n",
        "\n",
        "model.add(Conv2D(filters=64, kernel_size=4, padding='same', activation='relu'))\n",
        "model.add(MaxPooling2D(pool_size=2))\n",
        "#model.add(Dropout(0.2))\n",
        "\n",
        "model.add(Conv2D(filters=128, kernel_size=3, padding='same', activation='relu'))\n",
        "model.add(MaxPooling2D(pool_size=2))\n",
        "model.add(Dropout(0.8))\n",
        "\n",
        "model.add(Conv2D(filters=128, kernel_size=2, padding='same', activation='relu'))\n",
        "model.add(MaxPooling2D(pool_size=2))\n",
        "model.add(Dropout(0.8))\n",
        "\n",
        "model.add(Flatten()) \n",
        "# fully connected layer \n",
        "model.add(Dense(units = 500, activation = 'relu')) \n",
        "model.add(Dropout(0.8))\n",
        "# output layer\n",
        "model.add(Dense(units = 120, activation = 'softmax')) "
      ],
      "execution_count": 51,
      "outputs": [
        {
          "output_type": "stream",
          "text": [
            "WARNING:tensorflow:From /usr/local/lib/python2.7/dist-packages/tensorflow/python/framework/op_def_library.py:263: colocate_with (from tensorflow.python.framework.ops) is deprecated and will be removed in a future version.\n",
            "Instructions for updating:\n",
            "Colocations handled automatically by placer.\n",
            "WARNING:tensorflow:From /usr/local/lib/python2.7/dist-packages/keras/backend/tensorflow_backend.py:3445: calling dropout (from tensorflow.python.ops.nn_ops) with keep_prob is deprecated and will be removed in a future version.\n",
            "Instructions for updating:\n",
            "Please use `rate` instead of `keep_prob`. Rate should be set to `rate = 1 - keep_prob`.\n"
          ],
          "name": "stdout"
        }
      ]
    },
    {
      "cell_type": "code",
      "metadata": {
        "id": "2xNu2S285HH5",
        "colab_type": "code",
        "outputId": "9db36119-03a5-4955-eece-42daf8255186",
        "colab": {
          "base_uri": "https://localhost:8080/",
          "height": 612
        }
      },
      "source": [
        "from keras.optimizers import Adam\n",
        "\n",
        "optimizer = Adam(lr=0.01)\n",
        "model.compile(optimizer = optimizer , loss = \"categorical_crossentropy\", metrics=[\"accuracy\"]) \n",
        "model.summary()"
      ],
      "execution_count": 52,
      "outputs": [
        {
          "output_type": "stream",
          "text": [
            "_________________________________________________________________\n",
            "Layer (type)                 Output Shape              Param #   \n",
            "=================================================================\n",
            "conv2d_1 (Conv2D)            (None, 124, 124, 32)      832       \n",
            "_________________________________________________________________\n",
            "max_pooling2d_1 (MaxPooling2 (None, 41, 41, 32)        0         \n",
            "_________________________________________________________________\n",
            "conv2d_2 (Conv2D)            (None, 41, 41, 64)        32832     \n",
            "_________________________________________________________________\n",
            "max_pooling2d_2 (MaxPooling2 (None, 20, 20, 64)        0         \n",
            "_________________________________________________________________\n",
            "conv2d_3 (Conv2D)            (None, 20, 20, 128)       73856     \n",
            "_________________________________________________________________\n",
            "max_pooling2d_3 (MaxPooling2 (None, 10, 10, 128)       0         \n",
            "_________________________________________________________________\n",
            "dropout_1 (Dropout)          (None, 10, 10, 128)       0         \n",
            "_________________________________________________________________\n",
            "conv2d_4 (Conv2D)            (None, 10, 10, 128)       65664     \n",
            "_________________________________________________________________\n",
            "max_pooling2d_4 (MaxPooling2 (None, 5, 5, 128)         0         \n",
            "_________________________________________________________________\n",
            "dropout_2 (Dropout)          (None, 5, 5, 128)         0         \n",
            "_________________________________________________________________\n",
            "flatten_1 (Flatten)          (None, 3200)              0         \n",
            "_________________________________________________________________\n",
            "dense_1 (Dense)              (None, 500)               1600500   \n",
            "_________________________________________________________________\n",
            "dropout_3 (Dropout)          (None, 500)               0         \n",
            "_________________________________________________________________\n",
            "dense_2 (Dense)              (None, 120)               60120     \n",
            "=================================================================\n",
            "Total params: 1,833,804\n",
            "Trainable params: 1,833,804\n",
            "Non-trainable params: 0\n",
            "_________________________________________________________________\n"
          ],
          "name": "stdout"
        }
      ]
    },
    {
      "cell_type": "code",
      "metadata": {
        "id": "EjfBmzcE5JTc",
        "colab_type": "code",
        "outputId": "d6d2331f-829a-439e-e4b7-d9cf9c30d2d8",
        "colab": {
          "base_uri": "https://localhost:8080/",
          "height": 785
        }
      },
      "source": [
        "batch_size = 128\n",
        "nb_epochs = 20\n",
        "history = model.fit(x_train, y_train,\n",
        "                    batch_size=batch_size,\n",
        "                    epochs=nb_epochs, \n",
        "                    validation_data=(x_val, y_val),\n",
        "                    initial_epoch=0)"
      ],
      "execution_count": 53,
      "outputs": [
        {
          "output_type": "stream",
          "text": [
            "WARNING:tensorflow:From /usr/local/lib/python2.7/dist-packages/tensorflow/python/ops/math_ops.py:3066: to_int32 (from tensorflow.python.ops.math_ops) is deprecated and will be removed in a future version.\n",
            "Instructions for updating:\n",
            "Use tf.cast instead.\n",
            "Train on 8177 samples, validate on 2045 samples\n",
            "Epoch 1/20\n",
            "8177/8177 [==============================] - 9s 1ms/step - loss: 4.8810 - acc: 0.0092 - val_loss: 4.7889 - val_acc: 0.0088\n",
            "Epoch 2/20\n",
            "8177/8177 [==============================] - 4s 453us/step - loss: 4.7820 - acc: 0.0113 - val_loss: 4.7889 - val_acc: 0.0117\n",
            "Epoch 3/20\n",
            "8177/8177 [==============================] - 4s 450us/step - loss: 4.7788 - acc: 0.0108 - val_loss: 4.7900 - val_acc: 0.0088\n",
            "Epoch 4/20\n",
            "8177/8177 [==============================] - 4s 445us/step - loss: 4.7774 - acc: 0.0138 - val_loss: 4.7911 - val_acc: 0.0117\n",
            "Epoch 5/20\n",
            "8177/8177 [==============================] - 4s 441us/step - loss: 4.7774 - acc: 0.0117 - val_loss: 4.7921 - val_acc: 0.0117\n",
            "Epoch 6/20\n",
            "8177/8177 [==============================] - 4s 441us/step - loss: 4.7769 - acc: 0.0117 - val_loss: 4.7929 - val_acc: 0.0117\n",
            "Epoch 7/20\n",
            "8177/8177 [==============================] - 4s 444us/step - loss: 4.7771 - acc: 0.0111 - val_loss: 4.7936 - val_acc: 0.0117\n",
            "Epoch 8/20\n",
            "8177/8177 [==============================] - 4s 445us/step - loss: 4.7773 - acc: 0.0103 - val_loss: 4.7931 - val_acc: 0.0117\n",
            "Epoch 9/20\n",
            "8177/8177 [==============================] - 4s 444us/step - loss: 4.7769 - acc: 0.0125 - val_loss: 4.7931 - val_acc: 0.0117\n",
            "Epoch 10/20\n",
            "8177/8177 [==============================] - 4s 446us/step - loss: 4.7772 - acc: 0.0117 - val_loss: 4.7934 - val_acc: 0.0117\n",
            "Epoch 11/20\n",
            "8177/8177 [==============================] - 4s 446us/step - loss: 4.7773 - acc: 0.0125 - val_loss: 4.7931 - val_acc: 0.0117\n",
            "Epoch 12/20\n",
            "8177/8177 [==============================] - 4s 443us/step - loss: 4.7768 - acc: 0.0103 - val_loss: 4.7932 - val_acc: 0.0117\n",
            "Epoch 13/20\n",
            "8177/8177 [==============================] - 4s 445us/step - loss: 4.7769 - acc: 0.0120 - val_loss: 4.7930 - val_acc: 0.0117\n",
            "Epoch 14/20\n",
            "8177/8177 [==============================] - 4s 445us/step - loss: 4.7772 - acc: 0.0111 - val_loss: 4.7932 - val_acc: 0.0117\n",
            "Epoch 15/20\n",
            "8177/8177 [==============================] - 4s 444us/step - loss: 4.7769 - acc: 0.0125 - val_loss: 4.7934 - val_acc: 0.0117\n",
            "Epoch 16/20\n",
            "8177/8177 [==============================] - 4s 445us/step - loss: 4.7770 - acc: 0.0103 - val_loss: 4.7937 - val_acc: 0.0117\n",
            "Epoch 17/20\n",
            "8177/8177 [==============================] - 4s 446us/step - loss: 4.7770 - acc: 0.0116 - val_loss: 4.7937 - val_acc: 0.0117\n",
            "Epoch 18/20\n",
            "8177/8177 [==============================] - 4s 447us/step - loss: 4.7769 - acc: 0.0110 - val_loss: 4.7938 - val_acc: 0.0117\n",
            "Epoch 19/20\n",
            "8177/8177 [==============================] - 4s 442us/step - loss: 4.7771 - acc: 0.0125 - val_loss: 4.7938 - val_acc: 0.0117\n",
            "Epoch 20/20\n",
            "8177/8177 [==============================] - 4s 442us/step - loss: 4.7768 - acc: 0.0122 - val_loss: 4.7934 - val_acc: 0.0117\n"
          ],
          "name": "stdout"
        }
      ]
    },
    {
      "cell_type": "markdown",
      "metadata": {
        "id": "pYF5AHR4NmLH",
        "colab_type": "text"
      },
      "source": [
        "### Using Data Augmentation"
      ]
    },
    {
      "cell_type": "code",
      "metadata": {
        "id": "ljG3CQDBE9a6",
        "colab_type": "code",
        "colab": {}
      },
      "source": [
        "from keras.preprocessing.image import img_to_array,load_img,ImageDataGenerator\n",
        "from keras.layers import ZeroPadding2D\n",
        "\n",
        "train_datagen = ImageDataGenerator(\n",
        "    rotation_range=30,\n",
        "    width_shift_range=0.2,\n",
        "    height_shift_range=0.2,\n",
        "    rescale=1./255,\n",
        "    shear_range=0.2,\n",
        "    zoom_range=0.2,\n",
        "    horizontal_flip=True,\n",
        "    fill_mode='nearest')\n",
        "\n",
        "test_datagen=ImageDataGenerator(rescale=1./255)"
      ],
      "execution_count": 0,
      "outputs": []
    },
    {
      "cell_type": "code",
      "metadata": {
        "id": "pI7Y97I8Kb4f",
        "colab_type": "code",
        "colab": {}
      },
      "source": [
        "training_set=train_datagen.flow(x_train,y=y_train,batch_size=32)\n",
        "testing_set=test_datagen.flow(x_val,y=y_val,batch_size=32)"
      ],
      "execution_count": 0,
      "outputs": []
    },
    {
      "cell_type": "code",
      "metadata": {
        "id": "L8z_HmBiKb9k",
        "colab_type": "code",
        "outputId": "c636ea25-afa0-4005-83aa-760e840bb108",
        "colab": {
          "base_uri": "https://localhost:8080/",
          "height": 680
        }
      },
      "source": [
        "model=Sequential()\n",
        "\n",
        "model.add(ZeroPadding2D((1,1),input_shape=(128,128,1)))\n",
        "model.add(Conv2D(32,kernel_size=(3,3),activation='relu'))\n",
        "model.add(ZeroPadding2D(padding=(1,1)))\n",
        "\n",
        "model.add(Conv2D(32,kernel_size=(3,3),activation='relu'))\n",
        "model.add(Conv2D(32,kernel_size=(3,3),activation='relu'))\n",
        "model.add(MaxPooling2D(pool_size=(2,2)))\n",
        "\n",
        "model.add(Conv2D(64,kernel_size=(3,3),activation='relu'))\n",
        "model.add(Conv2D(64,kernel_size=(3,3),activation='relu'))\n",
        "model.add(MaxPooling2D(pool_size=(2,2)))\n",
        "\n",
        "model.add(Conv2D(128,kernel_size=(3,3),activation='relu'))\n",
        "model.add(Conv2D(128,kernel_size=(3,3),activation='relu'))\n",
        "model.add(MaxPooling2D(pool_size=(2,2)))\n",
        "\n",
        "model.add(Flatten())\n",
        "model.add(Dense(500,activation='relu'))\n",
        "model.add(Dropout(0.2))\n",
        "\n",
        "model.add(Dense(120,activation='softmax'))\n",
        "\n",
        "model.compile(loss='categorical_crossentropy', optimizer='adam',metrics=['accuracy'])\n",
        "model.summary()"
      ],
      "execution_count": 56,
      "outputs": [
        {
          "output_type": "stream",
          "text": [
            "_________________________________________________________________\n",
            "Layer (type)                 Output Shape              Param #   \n",
            "=================================================================\n",
            "zero_padding2d_1 (ZeroPaddin (None, 130, 130, 1)       0         \n",
            "_________________________________________________________________\n",
            "conv2d_5 (Conv2D)            (None, 128, 128, 32)      320       \n",
            "_________________________________________________________________\n",
            "zero_padding2d_2 (ZeroPaddin (None, 130, 130, 32)      0         \n",
            "_________________________________________________________________\n",
            "conv2d_6 (Conv2D)            (None, 128, 128, 32)      9248      \n",
            "_________________________________________________________________\n",
            "conv2d_7 (Conv2D)            (None, 126, 126, 32)      9248      \n",
            "_________________________________________________________________\n",
            "max_pooling2d_5 (MaxPooling2 (None, 63, 63, 32)        0         \n",
            "_________________________________________________________________\n",
            "conv2d_8 (Conv2D)            (None, 61, 61, 64)        18496     \n",
            "_________________________________________________________________\n",
            "conv2d_9 (Conv2D)            (None, 59, 59, 64)        36928     \n",
            "_________________________________________________________________\n",
            "max_pooling2d_6 (MaxPooling2 (None, 29, 29, 64)        0         \n",
            "_________________________________________________________________\n",
            "conv2d_10 (Conv2D)           (None, 27, 27, 128)       73856     \n",
            "_________________________________________________________________\n",
            "conv2d_11 (Conv2D)           (None, 25, 25, 128)       147584    \n",
            "_________________________________________________________________\n",
            "max_pooling2d_7 (MaxPooling2 (None, 12, 12, 128)       0         \n",
            "_________________________________________________________________\n",
            "flatten_2 (Flatten)          (None, 18432)             0         \n",
            "_________________________________________________________________\n",
            "dense_3 (Dense)              (None, 500)               9216500   \n",
            "_________________________________________________________________\n",
            "dropout_4 (Dropout)          (None, 500)               0         \n",
            "_________________________________________________________________\n",
            "dense_4 (Dense)              (None, 120)               60120     \n",
            "=================================================================\n",
            "Total params: 9,572,300\n",
            "Trainable params: 9,572,300\n",
            "Non-trainable params: 0\n",
            "_________________________________________________________________\n"
          ],
          "name": "stdout"
        }
      ]
    },
    {
      "cell_type": "code",
      "metadata": {
        "id": "3-u8CxgwKb_9",
        "colab_type": "code",
        "colab": {
          "base_uri": "https://localhost:8080/",
          "height": 697
        },
        "outputId": "f0723e1e-8d29-4a95-ab21-5400b035126b"
      },
      "source": [
        "history=model.fit_generator(training_set,\n",
        "                      steps_per_epoch = 500,\n",
        "                      validation_data = testing_set,\n",
        "                      validation_steps = 4,\n",
        "                      epochs = 20,\n",
        "                      verbose = 1)"
      ],
      "execution_count": 57,
      "outputs": [
        {
          "output_type": "stream",
          "text": [
            "Epoch 1/20\n",
            "500/500 [==============================] - 33s 66ms/step - loss: 4.7831 - acc: 0.0103 - val_loss: 4.8086 - val_acc: 0.0078\n",
            "Epoch 2/20\n",
            "500/500 [==============================] - 30s 60ms/step - loss: 4.7777 - acc: 0.0107 - val_loss: 4.7768 - val_acc: 0.0234\n",
            "Epoch 3/20\n",
            "500/500 [==============================] - 31s 61ms/step - loss: 4.7761 - acc: 0.0111 - val_loss: 4.8241 - val_acc: 0.0078\n",
            "Epoch 4/20\n",
            "500/500 [==============================] - 30s 61ms/step - loss: 4.7767 - acc: 0.0122 - val_loss: 4.7970 - val_acc: 0.0000e+00\n",
            "Epoch 5/20\n",
            "500/500 [==============================] - 30s 61ms/step - loss: 4.7764 - acc: 0.0108 - val_loss: 4.7867 - val_acc: 0.0156\n",
            "Epoch 6/20\n",
            "500/500 [==============================] - 31s 61ms/step - loss: 4.7756 - acc: 0.0113 - val_loss: 4.7845 - val_acc: 0.0234\n",
            "Epoch 7/20\n",
            "500/500 [==============================] - 31s 61ms/step - loss: 4.7765 - acc: 0.0119 - val_loss: 4.7853 - val_acc: 0.0156\n",
            "Epoch 8/20\n",
            "500/500 [==============================] - 31s 62ms/step - loss: 4.7748 - acc: 0.0122 - val_loss: 4.7917 - val_acc: 0.0000e+00\n",
            "Epoch 9/20\n",
            "500/500 [==============================] - 31s 62ms/step - loss: 4.7759 - acc: 0.0122 - val_loss: 4.8040 - val_acc: 0.0000e+00\n",
            "Epoch 10/20\n",
            "500/500 [==============================] - 31s 61ms/step - loss: 4.7754 - acc: 0.0122 - val_loss: 4.8063 - val_acc: 0.0078\n",
            "Epoch 11/20\n",
            "500/500 [==============================] - 31s 62ms/step - loss: 4.7753 - acc: 0.0121 - val_loss: 4.7769 - val_acc: 0.0234\n",
            "Epoch 12/20\n",
            "500/500 [==============================] - 31s 61ms/step - loss: 4.7751 - acc: 0.0124 - val_loss: 4.8149 - val_acc: 0.0000e+00\n",
            "Epoch 13/20\n",
            "500/500 [==============================] - 31s 61ms/step - loss: 4.7762 - acc: 0.0123 - val_loss: 4.7797 - val_acc: 0.0078\n",
            "Epoch 14/20\n",
            "500/500 [==============================] - 31s 62ms/step - loss: 4.7748 - acc: 0.0129 - val_loss: 4.7828 - val_acc: 0.0078\n",
            "Epoch 15/20\n",
            "500/500 [==============================] - 31s 61ms/step - loss: 4.7763 - acc: 0.0121 - val_loss: 4.7776 - val_acc: 0.0078\n",
            "Epoch 16/20\n",
            "500/500 [==============================] - 31s 62ms/step - loss: 4.7753 - acc: 0.0120 - val_loss: 4.7740 - val_acc: 0.0400\n",
            "Epoch 17/20\n",
            "500/500 [==============================] - 31s 61ms/step - loss: 4.7753 - acc: 0.0124 - val_loss: 4.7915 - val_acc: 0.0234\n",
            "Epoch 18/20\n",
            "500/500 [==============================] - 31s 61ms/step - loss: 4.7754 - acc: 0.0125 - val_loss: 4.7867 - val_acc: 0.0078\n",
            "Epoch 19/20\n",
            "500/500 [==============================] - 31s 62ms/step - loss: 4.7753 - acc: 0.0118 - val_loss: 4.8037 - val_acc: 0.0000e+00\n",
            "Epoch 20/20\n",
            "500/500 [==============================] - 31s 61ms/step - loss: 4.7746 - acc: 0.0126 - val_loss: 4.7887 - val_acc: 0.0000e+00\n"
          ],
          "name": "stdout"
        }
      ]
    },
    {
      "cell_type": "markdown",
      "metadata": {
        "id": "Uli0I4OSNrm3",
        "colab_type": "text"
      },
      "source": [
        "### Using Transfer Learning\n",
        "\n",
        "Download the vgg wieght file from here : https://github.com/MinerKasch/applied_deep_learning/blob/master/vgg16_weights_tf_dim_ordering_tf_kernels_notop.h5"
      ]
    },
    {
      "cell_type": "code",
      "metadata": {
        "id": "IjK2hxZZM53F",
        "colab_type": "code",
        "colab": {}
      },
      "source": [
        "from keras.applications.vgg16 import VGG16, preprocess_input\n",
        "\n",
        "\n",
        "# Instantiate the model with the pre-trained weights (no top)\n",
        "base_model= VGG16(weights=(project_path+'vgg16_weights_tf_dim_ordering_tf_kernels_notop.h5'),\n",
        "                 include_top=False, pooling='avg')"
      ],
      "execution_count": 0,
      "outputs": []
    },
    {
      "cell_type": "code",
      "metadata": {
        "id": "gf0_6QCUPIPM",
        "colab_type": "code",
        "outputId": "37b5e059-b154-4840-826c-cfd398ace7c5",
        "colab": {
          "base_uri": "https://localhost:8080/",
          "height": 34
        }
      },
      "source": [
        "from tqdm import tqdm\n",
        "import cv2\n",
        "x_feature = []\n",
        "y_feature = []\n",
        "\n",
        "i = 0 # initialisation\n",
        "for f, img in tqdm(labels.values): # f for format ,jpg\n",
        "    train_img = cv2.imread('./train/{}.jpg'.format(f),1)\n",
        "    label = one_hot_labels[i]\n",
        "    train_img_resize = cv2.resize(train_img, (img_rows, img_cols)) \n",
        "    x_feature.append(train_img_resize)\n",
        "    y_feature.append(label)\n",
        "    i += 1"
      ],
      "execution_count": 61,
      "outputs": [
        {
          "output_type": "stream",
          "text": [
            "100%|██████████| 10222/10222 [00:24<00:00, 424.55it/s]\n"
          ],
          "name": "stderr"
        }
      ]
    },
    {
      "cell_type": "markdown",
      "metadata": {
        "id": "VmZkZPHvSvG1",
        "colab_type": "text"
      },
      "source": [
        "### Get Image embedding from the pre-trained model and use that as input to present model"
      ]
    },
    {
      "cell_type": "code",
      "metadata": {
        "id": "-WWNncGlM56i",
        "colab_type": "code",
        "outputId": "524807fd-ae06-4491-cebb-385ee4ff3d79",
        "colab": {
          "base_uri": "https://localhost:8080/",
          "height": 34
        }
      },
      "source": [
        "from keras.preprocessing import image\n",
        "\n",
        "X_arr = []\n",
        "# X_arr = base_model.predict(preprocess_input(img_to_array(image.load_img('./train/'+labels['id'][0]+'.jpg', target_size=[128,128]))))\n",
        "\n",
        "for id, label in tqdm(labels.values):\n",
        "    X_arr.append(base_model.predict(preprocess_input(np.expand_dims(img_to_array(image.load_img('./train/'+id+'.jpg', target_size=[128,128])), axis=0)))[0])\n",
        "X = pd.DataFrame(X_arr)"
      ],
      "execution_count": 62,
      "outputs": [
        {
          "output_type": "stream",
          "text": [
            "100%|██████████| 10222/10222 [01:18<00:00, 130.28it/s]\n"
          ],
          "name": "stderr"
        }
      ]
    },
    {
      "cell_type": "code",
      "metadata": {
        "id": "8f0aFQslOCCr",
        "colab_type": "code",
        "colab": {}
      },
      "source": [
        "from keras.layers import Activation\n",
        "model = Sequential([\n",
        "    Dense(1024, input_shape=(512,)),\n",
        "    Activation('relu'),\n",
        "    Dense(256, input_shape=(512,)),\n",
        "    Activation('relu'),\n",
        "    Dense(120),\n",
        "    Activation('softmax'),\n",
        "])\n",
        "\n",
        "model.compile(optimizer='adam',\n",
        "              loss='categorical_crossentropy',\n",
        "              metrics=['accuracy'])"
      ],
      "execution_count": 0,
      "outputs": []
    },
    {
      "cell_type": "code",
      "metadata": {
        "id": "fN3uH8sbSgij",
        "colab_type": "code",
        "colab": {}
      },
      "source": [
        "X_train = X\n",
        "y_train = y_feature"
      ],
      "execution_count": 0,
      "outputs": []
    },
    {
      "cell_type": "code",
      "metadata": {
        "id": "7RM2SJtmSmRd",
        "colab_type": "code",
        "outputId": "dd3358b6-e044-43f1-f702-e180df17d29e",
        "colab": {
          "base_uri": "https://localhost:8080/",
          "height": 3434
        }
      },
      "source": [
        "model.fit(X_train, np.asarray(y_train), epochs=100, batch_size=100, verbose=True)"
      ],
      "execution_count": 65,
      "outputs": [
        {
          "output_type": "stream",
          "text": [
            "Epoch 1/100\n",
            "10222/10222 [==============================] - 1s 95us/step - loss: 4.7309 - acc: 0.1597\n",
            "Epoch 2/100\n",
            "10222/10222 [==============================] - 1s 55us/step - loss: 2.1690 - acc: 0.4324\n",
            "Epoch 3/100\n",
            "10222/10222 [==============================] - 1s 54us/step - loss: 1.5251 - acc: 0.5729\n",
            "Epoch 4/100\n",
            "10222/10222 [==============================] - 1s 59us/step - loss: 1.0706 - acc: 0.6912\n",
            "Epoch 5/100\n",
            "10222/10222 [==============================] - 1s 60us/step - loss: 0.7384 - acc: 0.7871\n",
            "Epoch 6/100\n",
            "10222/10222 [==============================] - 1s 61us/step - loss: 0.4743 - acc: 0.8593\n",
            "Epoch 7/100\n",
            "10222/10222 [==============================] - 1s 57us/step - loss: 0.2928 - acc: 0.9183\n",
            "Epoch 8/100\n",
            "10222/10222 [==============================] - 1s 55us/step - loss: 0.1432 - acc: 0.9662\n",
            "Epoch 9/100\n",
            "10222/10222 [==============================] - 1s 55us/step - loss: 0.0707 - acc: 0.9877\n",
            "Epoch 10/100\n",
            "10222/10222 [==============================] - 1s 54us/step - loss: 0.0384 - acc: 0.9957\n",
            "Epoch 11/100\n",
            "10222/10222 [==============================] - 1s 56us/step - loss: 0.0304 - acc: 0.9971\n",
            "Epoch 12/100\n",
            "10222/10222 [==============================] - 1s 61us/step - loss: 0.0319 - acc: 0.9953\n",
            "Epoch 13/100\n",
            "10222/10222 [==============================] - 1s 60us/step - loss: 0.0279 - acc: 0.9957\n",
            "Epoch 14/100\n",
            "10222/10222 [==============================] - 1s 59us/step - loss: 0.0716 - acc: 0.9851\n",
            "Epoch 15/100\n",
            "10222/10222 [==============================] - 1s 56us/step - loss: 0.2399 - acc: 0.9263\n",
            "Epoch 16/100\n",
            "10222/10222 [==============================] - 1s 55us/step - loss: 0.3749 - acc: 0.8870\n",
            "Epoch 17/100\n",
            "10222/10222 [==============================] - 1s 53us/step - loss: 0.3475 - acc: 0.8941\n",
            "Epoch 18/100\n",
            "10222/10222 [==============================] - 1s 58us/step - loss: 0.2593 - acc: 0.9168\n",
            "Epoch 19/100\n",
            "10222/10222 [==============================] - 1s 59us/step - loss: 0.1458 - acc: 0.9571\n",
            "Epoch 20/100\n",
            "10222/10222 [==============================] - 1s 60us/step - loss: 0.0986 - acc: 0.9720\n",
            "Epoch 21/100\n",
            "10222/10222 [==============================] - 1s 58us/step - loss: 0.0728 - acc: 0.9795\n",
            "Epoch 22/100\n",
            "10222/10222 [==============================] - 1s 56us/step - loss: 0.0478 - acc: 0.9881\n",
            "Epoch 23/100\n",
            "10222/10222 [==============================] - 1s 54us/step - loss: 0.0223 - acc: 0.9953\n",
            "Epoch 24/100\n",
            "10222/10222 [==============================] - 1s 55us/step - loss: 0.0145 - acc: 0.9977\n",
            "Epoch 25/100\n",
            "10222/10222 [==============================] - 1s 61us/step - loss: 0.0106 - acc: 0.9981\n",
            "Epoch 26/100\n",
            "10222/10222 [==============================] - 1s 59us/step - loss: 0.0075 - acc: 0.9989\n",
            "Epoch 27/100\n",
            "10222/10222 [==============================] - 1s 59us/step - loss: 0.0073 - acc: 0.9990\n",
            "Epoch 28/100\n",
            "10222/10222 [==============================] - 1s 56us/step - loss: 0.0065 - acc: 0.9988\n",
            "Epoch 29/100\n",
            "10222/10222 [==============================] - 1s 54us/step - loss: 0.0060 - acc: 0.9988\n",
            "Epoch 30/100\n",
            "10222/10222 [==============================] - 1s 53us/step - loss: 0.0051 - acc: 0.9990\n",
            "Epoch 31/100\n",
            "10222/10222 [==============================] - 1s 59us/step - loss: 0.0055 - acc: 0.9989\n",
            "Epoch 32/100\n",
            "10222/10222 [==============================] - 1s 60us/step - loss: 0.0049 - acc: 0.9989\n",
            "Epoch 33/100\n",
            "10222/10222 [==============================] - 1s 60us/step - loss: 0.0034 - acc: 0.9991\n",
            "Epoch 34/100\n",
            "10222/10222 [==============================] - 1s 58us/step - loss: 0.0042 - acc: 0.9989\n",
            "Epoch 35/100\n",
            "10222/10222 [==============================] - 1s 54us/step - loss: 0.0041 - acc: 0.9989\n",
            "Epoch 36/100\n",
            "10222/10222 [==============================] - 1s 54us/step - loss: 0.0031 - acc: 0.9989\n",
            "Epoch 37/100\n",
            "10222/10222 [==============================] - 1s 54us/step - loss: 0.0041 - acc: 0.9988\n",
            "Epoch 38/100\n",
            "10222/10222 [==============================] - 1s 61us/step - loss: 0.0032 - acc: 0.9990\n",
            "Epoch 39/100\n",
            "10222/10222 [==============================] - 1s 62us/step - loss: 0.0029 - acc: 0.9990\n",
            "Epoch 40/100\n",
            "10222/10222 [==============================] - 1s 58us/step - loss: 0.0042 - acc: 0.9989\n",
            "Epoch 41/100\n",
            "10222/10222 [==============================] - 1s 54us/step - loss: 0.0025 - acc: 0.9991\n",
            "Epoch 42/100\n",
            "10222/10222 [==============================] - 1s 54us/step - loss: 0.0040 - acc: 0.9991\n",
            "Epoch 43/100\n",
            "10222/10222 [==============================] - 1s 55us/step - loss: 0.0029 - acc: 0.9989\n",
            "Epoch 44/100\n",
            "10222/10222 [==============================] - 1s 57us/step - loss: 0.0044 - acc: 0.9991\n",
            "Epoch 45/100\n",
            "10222/10222 [==============================] - 1s 60us/step - loss: 0.0042 - acc: 0.9990\n",
            "Epoch 46/100\n",
            "10222/10222 [==============================] - 1s 59us/step - loss: 0.0275 - acc: 0.9938\n",
            "Epoch 47/100\n",
            "10222/10222 [==============================] - 1s 58us/step - loss: 1.7110 - acc: 0.5892\n",
            "Epoch 48/100\n",
            "10222/10222 [==============================] - 1s 55us/step - loss: 0.8699 - acc: 0.7504\n",
            "Epoch 49/100\n",
            "10222/10222 [==============================] - 1s 54us/step - loss: 0.3996 - acc: 0.8759\n",
            "Epoch 50/100\n",
            "10222/10222 [==============================] - 1s 56us/step - loss: 0.1634 - acc: 0.9477\n",
            "Epoch 51/100\n",
            "10222/10222 [==============================] - 1s 60us/step - loss: 0.0800 - acc: 0.9735\n",
            "Epoch 52/100\n",
            "10222/10222 [==============================] - 1s 60us/step - loss: 0.0451 - acc: 0.9863\n",
            "Epoch 53/100\n",
            "10222/10222 [==============================] - 1s 60us/step - loss: 0.0356 - acc: 0.9907\n",
            "Epoch 54/100\n",
            "10222/10222 [==============================] - 1s 56us/step - loss: 0.0626 - acc: 0.9820\n",
            "Epoch 55/100\n",
            "10222/10222 [==============================] - 1s 55us/step - loss: 0.0476 - acc: 0.9857\n",
            "Epoch 56/100\n",
            "10222/10222 [==============================] - 1s 56us/step - loss: 0.0371 - acc: 0.9887\n",
            "Epoch 57/100\n",
            "10222/10222 [==============================] - 1s 61us/step - loss: 0.0572 - acc: 0.9857\n",
            "Epoch 58/100\n",
            "10222/10222 [==============================] - 1s 59us/step - loss: 0.0560 - acc: 0.9835\n",
            "Epoch 59/100\n",
            "10222/10222 [==============================] - 1s 60us/step - loss: 0.0445 - acc: 0.9871\n",
            "Epoch 60/100\n",
            "10222/10222 [==============================] - 1s 55us/step - loss: 0.0500 - acc: 0.9860\n",
            "Epoch 61/100\n",
            "10222/10222 [==============================] - 1s 56us/step - loss: 0.1009 - acc: 0.9739\n",
            "Epoch 62/100\n",
            "10222/10222 [==============================] - 1s 54us/step - loss: 0.1350 - acc: 0.9609\n",
            "Epoch 63/100\n",
            "10222/10222 [==============================] - 1s 58us/step - loss: 0.0919 - acc: 0.9723\n",
            "Epoch 64/100\n",
            "10222/10222 [==============================] - 1s 60us/step - loss: 0.0940 - acc: 0.9721\n",
            "Epoch 65/100\n",
            "10222/10222 [==============================] - 1s 60us/step - loss: 0.0808 - acc: 0.9758\n",
            "Epoch 66/100\n",
            "10222/10222 [==============================] - 1s 58us/step - loss: 0.1269 - acc: 0.9629\n",
            "Epoch 67/100\n",
            "10222/10222 [==============================] - 1s 55us/step - loss: 0.1172 - acc: 0.9652\n",
            "Epoch 68/100\n",
            "10222/10222 [==============================] - 1s 55us/step - loss: 0.0828 - acc: 0.9764\n",
            "Epoch 69/100\n",
            "10222/10222 [==============================] - 1s 55us/step - loss: 0.0601 - acc: 0.9842\n",
            "Epoch 70/100\n",
            "10222/10222 [==============================] - 1s 59us/step - loss: 0.0600 - acc: 0.9834\n",
            "Epoch 71/100\n",
            "10222/10222 [==============================] - 1s 60us/step - loss: 0.0319 - acc: 0.9907\n",
            "Epoch 72/100\n",
            "10222/10222 [==============================] - 1s 59us/step - loss: 0.0494 - acc: 0.9863\n",
            "Epoch 73/100\n",
            "10222/10222 [==============================] - 1s 56us/step - loss: 0.0452 - acc: 0.9869\n",
            "Epoch 74/100\n",
            "10222/10222 [==============================] - 1s 55us/step - loss: 0.0531 - acc: 0.9833\n",
            "Epoch 75/100\n",
            "10222/10222 [==============================] - 1s 56us/step - loss: 0.0729 - acc: 0.9799\n",
            "Epoch 76/100\n",
            "10222/10222 [==============================] - 1s 55us/step - loss: 0.1332 - acc: 0.9622\n",
            "Epoch 77/100\n",
            "10222/10222 [==============================] - 1s 60us/step - loss: 0.1099 - acc: 0.9692\n",
            "Epoch 78/100\n",
            "10222/10222 [==============================] - 1s 60us/step - loss: 0.0783 - acc: 0.9775\n",
            "Epoch 79/100\n",
            "10222/10222 [==============================] - 1s 59us/step - loss: 0.0623 - acc: 0.9837\n",
            "Epoch 80/100\n",
            "10222/10222 [==============================] - 1s 57us/step - loss: 0.0495 - acc: 0.9853\n",
            "Epoch 81/100\n",
            "10222/10222 [==============================] - 1s 56us/step - loss: 0.0503 - acc: 0.9873\n",
            "Epoch 82/100\n",
            "10222/10222 [==============================] - 1s 59us/step - loss: 0.0755 - acc: 0.9789\n",
            "Epoch 83/100\n",
            "10222/10222 [==============================] - 1s 61us/step - loss: 0.0569 - acc: 0.9828\n",
            "Epoch 84/100\n",
            "10222/10222 [==============================] - 1s 64us/step - loss: 0.0467 - acc: 0.9870\n",
            "Epoch 85/100\n",
            "10222/10222 [==============================] - 1s 64us/step - loss: 0.0680 - acc: 0.9815\n",
            "Epoch 86/100\n",
            "10222/10222 [==============================] - 1s 65us/step - loss: 0.0659 - acc: 0.9812\n",
            "Epoch 87/100\n",
            "10222/10222 [==============================] - 1s 61us/step - loss: 0.0762 - acc: 0.9799\n",
            "Epoch 88/100\n",
            "10222/10222 [==============================] - 1s 59us/step - loss: 0.1377 - acc: 0.9674\n",
            "Epoch 89/100\n",
            "10222/10222 [==============================] - 1s 60us/step - loss: 0.1414 - acc: 0.9655\n",
            "Epoch 90/100\n",
            "10222/10222 [==============================] - 1s 65us/step - loss: 0.1017 - acc: 0.9748\n",
            "Epoch 91/100\n",
            "10222/10222 [==============================] - 1s 66us/step - loss: 0.0777 - acc: 0.9795\n",
            "Epoch 92/100\n",
            "10222/10222 [==============================] - 1s 64us/step - loss: 0.0658 - acc: 0.9829\n",
            "Epoch 93/100\n",
            "10222/10222 [==============================] - 1s 62us/step - loss: 0.0571 - acc: 0.9850\n",
            "Epoch 94/100\n",
            "10222/10222 [==============================] - 1s 59us/step - loss: 0.0311 - acc: 0.9914\n",
            "Epoch 95/100\n",
            "10222/10222 [==============================] - 1s 62us/step - loss: 0.0248 - acc: 0.9927\n",
            "Epoch 96/100\n",
            "10222/10222 [==============================] - 1s 66us/step - loss: 0.0266 - acc: 0.9940\n",
            "Epoch 97/100\n",
            "10222/10222 [==============================] - 1s 60us/step - loss: 0.0372 - acc: 0.9911\n",
            "Epoch 98/100\n",
            "10222/10222 [==============================] - 1s 59us/step - loss: 0.0557 - acc: 0.9852\n",
            "Epoch 99/100\n",
            "10222/10222 [==============================] - 1s 55us/step - loss: 0.0862 - acc: 0.9789\n",
            "Epoch 100/100\n",
            "10222/10222 [==============================] - 1s 54us/step - loss: 0.1034 - acc: 0.9744\n"
          ],
          "name": "stdout"
        },
        {
          "output_type": "execute_result",
          "data": {
            "text/plain": [
              "<keras.callbacks.History at 0x7fb5c1b01e10>"
            ]
          },
          "metadata": {
            "tags": []
          },
          "execution_count": 65
        }
      ]
    },
    {
      "cell_type": "code",
      "metadata": {
        "id": "syNOdVb4Q-jS",
        "colab_type": "code",
        "colab": {}
      },
      "source": [
        ""
      ],
      "execution_count": 0,
      "outputs": []
    }
  ]
}